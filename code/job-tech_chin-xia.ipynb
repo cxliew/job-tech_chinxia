{
 "cells": [
  {
   "cell_type": "code",
   "execution_count": 1,
   "metadata": {},
   "outputs": [],
   "source": [
    "import pandas as pd\n",
    "import numpy as np\n",
    "import matplotlib.pyplot as plt\n",
    "import seaborn as sns\n",
    "import regex as re\n",
    "import string\n",
    "from sklearn.feature_extraction.text import CountVectorizer\n",
    "from nltk.tokenize import RegexpTokenizer\n",
    "from nltk.stem import WordNetLemmatizer\n",
    "from nltk.corpus import stopwords\n",
    "\n",
    "pd.set_option('display.max_columns', None)\n",
    "pd.set_option('display.max_rows', None)"
   ]
  },
  {
   "cell_type": "code",
   "execution_count": 2,
   "metadata": {},
   "outputs": [],
   "source": [
    "test_data = pd.read_excel(\"../test_data.xlsx\")"
   ]
  },
  {
   "cell_type": "code",
   "execution_count": 3,
   "metadata": {},
   "outputs": [
    {
     "data": {
      "text/html": [
       "<div>\n",
       "<style scoped>\n",
       "    .dataframe tbody tr th:only-of-type {\n",
       "        vertical-align: middle;\n",
       "    }\n",
       "\n",
       "    .dataframe tbody tr th {\n",
       "        vertical-align: top;\n",
       "    }\n",
       "\n",
       "    .dataframe thead th {\n",
       "        text-align: right;\n",
       "    }\n",
       "</style>\n",
       "<table border=\"1\" class=\"dataframe\">\n",
       "  <thead>\n",
       "    <tr style=\"text-align: right;\">\n",
       "      <th></th>\n",
       "      <th>job_id</th>\n",
       "      <th>job_title</th>\n",
       "      <th>job_description</th>\n",
       "      <th>date_posted</th>\n",
       "      <th>company_name</th>\n",
       "    </tr>\n",
       "  </thead>\n",
       "  <tbody>\n",
       "    <tr>\n",
       "      <th>0</th>\n",
       "      <td>dc4c44bf442f4baa57f22233fee9195b75d62baa3b0265...</td>\n",
       "      <td>BUSINESS DEVELOPMENT (FREIGHT FORWARDING)</td>\n",
       "      <td>- Roles &amp;amp; Responsibilities : Job Role Desc...</td>\n",
       "      <td>2020-11-27</td>\n",
       "      <td>CALL LADE ENTERPRISES PTE LTD</td>\n",
       "    </tr>\n",
       "    <tr>\n",
       "      <th>1</th>\n",
       "      <td>39fc119781f2337a52de7300f21b76cda9b2c0202bfec9...</td>\n",
       "      <td>Secretary/PA</td>\n",
       "      <td>- Roles &amp;amp; Responsibilities : Job Scope:&lt;br...</td>\n",
       "      <td>2020-11-26</td>\n",
       "      <td>TALENT TRADER GROUP PTE. LTD.</td>\n",
       "    </tr>\n",
       "    <tr>\n",
       "      <th>2</th>\n",
       "      <td>2bdd91d7794575aaefee738ef6c831f7129fe6172f713c...</td>\n",
       "      <td>Temporary 3-6months Admin Assistant (Office ho...</td>\n",
       "      <td>Monday to Friday Office hoursLocation : Buona ...</td>\n",
       "      <td>2020-11-14</td>\n",
       "      <td>Confidential</td>\n",
       "    </tr>\n",
       "    <tr>\n",
       "      <th>3</th>\n",
       "      <td>0c170932727e0246f27feb1a5641d0e26f44d26d431be6...</td>\n",
       "      <td>Program Management</td>\n",
       "      <td>- Roles &amp;amp; Responsibilities : Key Responsib...</td>\n",
       "      <td>2020-11-09</td>\n",
       "      <td>YASH TECHNOLOGIES SINGAPORE PTE. LIMITED</td>\n",
       "    </tr>\n",
       "    <tr>\n",
       "      <th>4</th>\n",
       "      <td>458658ef725f6384d4c056f6a8b01747331ba7c3c5c2e5...</td>\n",
       "      <td>Automotive Software Engineers (C Programming /...</td>\n",
       "      <td>&amp;bull; MNC&amp;bull; $3500 - $6000 Basic + AWS + V...</td>\n",
       "      <td>2020-11-15</td>\n",
       "      <td>Confidential</td>\n",
       "    </tr>\n",
       "  </tbody>\n",
       "</table>\n",
       "</div>"
      ],
      "text/plain": [
       "                                              job_id  \\\n",
       "0  dc4c44bf442f4baa57f22233fee9195b75d62baa3b0265...   \n",
       "1  39fc119781f2337a52de7300f21b76cda9b2c0202bfec9...   \n",
       "2  2bdd91d7794575aaefee738ef6c831f7129fe6172f713c...   \n",
       "3  0c170932727e0246f27feb1a5641d0e26f44d26d431be6...   \n",
       "4  458658ef725f6384d4c056f6a8b01747331ba7c3c5c2e5...   \n",
       "\n",
       "                                           job_title  \\\n",
       "0          BUSINESS DEVELOPMENT (FREIGHT FORWARDING)   \n",
       "1                                       Secretary/PA   \n",
       "2  Temporary 3-6months Admin Assistant (Office ho...   \n",
       "3                                 Program Management   \n",
       "4  Automotive Software Engineers (C Programming /...   \n",
       "\n",
       "                                     job_description date_posted  \\\n",
       "0  - Roles &amp; Responsibilities : Job Role Desc...  2020-11-27   \n",
       "1  - Roles &amp; Responsibilities : Job Scope:<br...  2020-11-26   \n",
       "2  Monday to Friday Office hoursLocation : Buona ...  2020-11-14   \n",
       "3  - Roles &amp; Responsibilities : Key Responsib...  2020-11-09   \n",
       "4  &bull; MNC&bull; $3500 - $6000 Basic + AWS + V...  2020-11-15   \n",
       "\n",
       "                               company_name  \n",
       "0             CALL LADE ENTERPRISES PTE LTD  \n",
       "1             TALENT TRADER GROUP PTE. LTD.  \n",
       "2                              Confidential  \n",
       "3  YASH TECHNOLOGIES SINGAPORE PTE. LIMITED  \n",
       "4                              Confidential  "
      ]
     },
     "execution_count": 3,
     "metadata": {},
     "output_type": "execute_result"
    }
   ],
   "source": [
    "test_data.head()"
   ]
  },
  {
   "cell_type": "code",
   "execution_count": 4,
   "metadata": {},
   "outputs": [
    {
     "name": "stdout",
     "output_type": "stream",
     "text": [
      "<class 'pandas.core.frame.DataFrame'>\n",
      "RangeIndex: 3000 entries, 0 to 2999\n",
      "Data columns (total 5 columns):\n",
      " #   Column           Non-Null Count  Dtype         \n",
      "---  ------           --------------  -----         \n",
      " 0   job_id           3000 non-null   object        \n",
      " 1   job_title        3000 non-null   object        \n",
      " 2   job_description  3000 non-null   object        \n",
      " 3   date_posted      3000 non-null   datetime64[ns]\n",
      " 4   company_name     3000 non-null   object        \n",
      "dtypes: datetime64[ns](1), object(4)\n",
      "memory usage: 117.3+ KB\n"
     ]
    }
   ],
   "source": [
    "test_data.info()"
   ]
  },
  {
   "cell_type": "code",
   "execution_count": 5,
   "metadata": {},
   "outputs": [],
   "source": [
    "# Define the function to plot the barchat of top 15 common words\n",
    "def plot_barchat(dataframe, title, x_label, y_label, color):\n",
    "    \"\"\"To plot a barchat with input of details.\n",
    "    The output is a barplot of barh kind\"\"\"\n",
    "    dataframe.plot(kind='barh', figsize = (8,5), color = color)\n",
    "    plt.xlabel(x_label, fontsize = 15)\n",
    "    plt.xticks(fontsize = 12)\n",
    "    plt.yticks(fontsize = 12)\n",
    "    plt.ylabel(y_label, fontsize = 15)\n",
    "    plt.title(title, fontsize = 14, weight = 'bold');\n",
    "    return plt.show()"
   ]
  },
  {
   "cell_type": "code",
   "execution_count": 6,
   "metadata": {},
   "outputs": [],
   "source": [
    "# Define function of plotting barplot\n",
    "def plot_barplot(dataframe, x_data, y_data, title, x_label, y_label):\n",
    "    \"\"\"Plot barplot with the input details and labels.\n",
    "    The output is a horizontal barplot\"\"\"\n",
    "    fig, ax = plt.subplots(figsize=(8, 5))\n",
    "    sns.barplot(data = dataframe, y = y_data, x = x_data, orient='v', ax=ax)\n",
    "    plt.xlabel(x_label, fontsize = 15)\n",
    "    plt.xticks(fontsize = 12)\n",
    "    plt.yticks(fontsize = 12)\n",
    "    plt.ylabel(y_label, fontsize = 15)\n",
    "    plt.title(title, fontsize = 14, weight = 'bold');\n",
    "    return plt.show()"
   ]
  },
  {
   "cell_type": "markdown",
   "metadata": {},
   "source": [
    "## Company name"
   ]
  },
  {
   "cell_type": "code",
   "execution_count": 7,
   "metadata": {},
   "outputs": [
    {
     "data": {
      "text/plain": [
       "(1516, 5)"
      ]
     },
     "execution_count": 7,
     "metadata": {},
     "output_type": "execute_result"
    }
   ],
   "source": [
    "test_data[test_data.company_name == \"Confidential\"].shape"
   ]
  },
  {
   "cell_type": "code",
   "execution_count": 8,
   "metadata": {},
   "outputs": [],
   "source": [
    "company_confidential = test_data[test_data.company_name == \"Confidential\"]\n",
    "company_confidential = company_confidential.reset_index(drop = True)"
   ]
  },
  {
   "cell_type": "code",
   "execution_count": 9,
   "metadata": {},
   "outputs": [],
   "source": [
    "company_confidential.job_title = company_confidential.job_title.str.replace(\".\", \"\").str.lower()"
   ]
  },
  {
   "cell_type": "code",
   "execution_count": 10,
   "metadata": {},
   "outputs": [],
   "source": [
    "trial = company_confidential.job_title.str.rsplit(\" - \", n=2, expand = True)"
   ]
  },
  {
   "cell_type": "code",
   "execution_count": 11,
   "metadata": {},
   "outputs": [
    {
     "data": {
      "text/html": [
       "<div>\n",
       "<style scoped>\n",
       "    .dataframe tbody tr th:only-of-type {\n",
       "        vertical-align: middle;\n",
       "    }\n",
       "\n",
       "    .dataframe tbody tr th {\n",
       "        vertical-align: top;\n",
       "    }\n",
       "\n",
       "    .dataframe thead th {\n",
       "        text-align: right;\n",
       "    }\n",
       "</style>\n",
       "<table border=\"1\" class=\"dataframe\">\n",
       "  <thead>\n",
       "    <tr style=\"text-align: right;\">\n",
       "      <th></th>\n",
       "      <th>0</th>\n",
       "      <th>1</th>\n",
       "      <th>2</th>\n",
       "    </tr>\n",
       "  </thead>\n",
       "  <tbody>\n",
       "    <tr>\n",
       "      <th>0</th>\n",
       "      <td>temporary 3-6months admin assistant (office ho...</td>\n",
       "      <td>jobstudio pte ltd</td>\n",
       "      <td>None</td>\n",
       "    </tr>\n",
       "    <tr>\n",
       "      <th>1</th>\n",
       "      <td>automotive software engineers (c programming /...</td>\n",
       "      <td>ideals recruitment pte ltd</td>\n",
       "      <td>None</td>\n",
       "    </tr>\n",
       "    <tr>\n",
       "      <th>2</th>\n",
       "      <td>qa / qc manager (construction) (dredging) (2 y...</td>\n",
       "      <td>rs recruitment agency llp</td>\n",
       "      <td>None</td>\n",
       "    </tr>\n",
       "    <tr>\n",
       "      <th>3</th>\n",
       "      <td>executive officer</td>\n",
       "      <td>muslimin trust fund association</td>\n",
       "      <td>None</td>\n",
       "    </tr>\n",
       "    <tr>\n",
       "      <th>4</th>\n",
       "      <td>1 year contract general ledger executive assis...</td>\n",
       "      <td>recruit express pte ltd</td>\n",
       "      <td>None</td>\n",
       "    </tr>\n",
       "  </tbody>\n",
       "</table>\n",
       "</div>"
      ],
      "text/plain": [
       "                                                   0  \\\n",
       "0  temporary 3-6months admin assistant (office ho...   \n",
       "1  automotive software engineers (c programming /...   \n",
       "2  qa / qc manager (construction) (dredging) (2 y...   \n",
       "3                                  executive officer   \n",
       "4  1 year contract general ledger executive assis...   \n",
       "\n",
       "                                 1     2  \n",
       "0                jobstudio pte ltd  None  \n",
       "1       ideals recruitment pte ltd  None  \n",
       "2        rs recruitment agency llp  None  \n",
       "3  muslimin trust fund association  None  \n",
       "4          recruit express pte ltd  None  "
      ]
     },
     "execution_count": 11,
     "metadata": {},
     "output_type": "execute_result"
    }
   ],
   "source": [
    "trial.head()"
   ]
  },
  {
   "cell_type": "code",
   "execution_count": 12,
   "metadata": {},
   "outputs": [],
   "source": [
    "for index in range(len(trial)):\n",
    "    if trial[2][index] == None:\n",
    "        if trial[1][index] == None:\n",
    "            continue\n",
    "        else:\n",
    "            company_confidential.loc[[index], [\"company_name\"]] = trial[1][index]\n",
    "            trial[1][index] = None\n",
    "    elif len(trial[2][index].split(\" \")) > 1:\n",
    "        if 'ltd' in trial[1][index] or (('national' in trial[1][index]) and ('international' not in trial[1][index])) or 'limited' in trial[1][index] or 'llp' in trial[1][index] or 'hospital'in trial[1][index]:\n",
    "            company_confidential.loc[[index], [\"company_name\"]] = trial[1][index]\n",
    "            trial[2][index] = None\n",
    "            trial[1][index] = None\n",
    "        else:\n",
    "            company_confidential.loc[[index], [\"company_name\"]] = trial[2][index]\n",
    "            trial[2][index] = None\n",
    "            trial[1][index] = None\n",
    "    elif len(trial[2][index].split(\" \")) == 1:\n",
    "        if 'ltd' in trial[1][index] or (('national' in trial[1][index]) and ('international' not in trial[1][index])) or 'limited' in trial[1][index] or 'llp' in trial[1][index] or 'hospital'in trial[1][index]:\n",
    "            company_confidential.loc[[index], [\"company_name\"]] = trial[1][index]\n",
    "            trial[2][index] = None\n",
    "            trial[1][index] = None"
   ]
  },
  {
   "cell_type": "code",
   "execution_count": 13,
   "metadata": {
    "scrolled": false
   },
   "outputs": [
    {
     "data": {
      "text/html": [
       "<div>\n",
       "<style scoped>\n",
       "    .dataframe tbody tr th:only-of-type {\n",
       "        vertical-align: middle;\n",
       "    }\n",
       "\n",
       "    .dataframe tbody tr th {\n",
       "        vertical-align: top;\n",
       "    }\n",
       "\n",
       "    .dataframe thead th {\n",
       "        text-align: right;\n",
       "    }\n",
       "</style>\n",
       "<table border=\"1\" class=\"dataframe\">\n",
       "  <thead>\n",
       "    <tr style=\"text-align: right;\">\n",
       "      <th></th>\n",
       "      <th>1</th>\n",
       "      <th>2</th>\n",
       "    </tr>\n",
       "  </thead>\n",
       "  <tbody>\n",
       "    <tr>\n",
       "      <th>323</th>\n",
       "      <td>business support</td>\n",
       "      <td>singapore</td>\n",
       "    </tr>\n",
       "    <tr>\n",
       "      <th>433</th>\n",
       "      <td>randstad</td>\n",
       "      <td>corporate</td>\n",
       "    </tr>\n",
       "    <tr>\n",
       "      <th>552</th>\n",
       "      <td>gmp technologies</td>\n",
       "      <td>engineering</td>\n",
       "    </tr>\n",
       "    <tr>\n",
       "      <th>1152</th>\n",
       "      <td>randstad</td>\n",
       "      <td>accounting</td>\n",
       "    </tr>\n",
       "    <tr>\n",
       "      <th>1438</th>\n",
       "      <td>gmp technologies</td>\n",
       "      <td>engineering</td>\n",
       "    </tr>\n",
       "    <tr>\n",
       "      <th>1491</th>\n",
       "      <td>12 month</td>\n",
       "      <td>dupont</td>\n",
       "    </tr>\n",
       "  </tbody>\n",
       "</table>\n",
       "</div>"
      ],
      "text/plain": [
       "                     1            2\n",
       "323   business support    singapore\n",
       "433           randstad    corporate\n",
       "552   gmp technologies  engineering\n",
       "1152          randstad   accounting\n",
       "1438  gmp technologies  engineering\n",
       "1491          12 month       dupont"
      ]
     },
     "execution_count": 13,
     "metadata": {},
     "output_type": "execute_result"
    }
   ],
   "source": [
    "trial.loc[(trial[1].notnull()), [1,2]]"
   ]
  },
  {
   "cell_type": "code",
   "execution_count": 14,
   "metadata": {},
   "outputs": [],
   "source": [
    "# Manually for len(word) == 1\n",
    "company_confidential.loc[[433], [\"company_name\"]] = trial[1][433]\n",
    "company_confidential.loc[[552], [\"company_name\"]] = trial[1][552]\n",
    "company_confidential.loc[[1152], [\"company_name\"]] = trial[1][1152]\n",
    "company_confidential.loc[[1438], [\"company_name\"]] = trial[1][1438]\n",
    "company_confidential.loc[[1491], [\"company_name\"]] = trial[2][1491]"
   ]
  },
  {
   "cell_type": "code",
   "execution_count": 15,
   "metadata": {},
   "outputs": [
    {
     "data": {
      "text/plain": [
       "433             randstad\n",
       "552     gmp technologies\n",
       "1152            randstad\n",
       "1438    gmp technologies\n",
       "1491              dupont\n",
       "Name: company_name, dtype: object"
      ]
     },
     "execution_count": 15,
     "metadata": {},
     "output_type": "execute_result"
    }
   ],
   "source": [
    "company_confidential.company_name[[433,552,1152,1438,1491]]"
   ]
  },
  {
   "cell_type": "code",
   "execution_count": 16,
   "metadata": {},
   "outputs": [],
   "source": [
    "trial.loc[[433,552,1152,1438,1491], [1,2]] = None"
   ]
  },
  {
   "cell_type": "code",
   "execution_count": 17,
   "metadata": {},
   "outputs": [
    {
     "data": {
      "text/html": [
       "<div>\n",
       "<style scoped>\n",
       "    .dataframe tbody tr th:only-of-type {\n",
       "        vertical-align: middle;\n",
       "    }\n",
       "\n",
       "    .dataframe tbody tr th {\n",
       "        vertical-align: top;\n",
       "    }\n",
       "\n",
       "    .dataframe thead th {\n",
       "        text-align: right;\n",
       "    }\n",
       "</style>\n",
       "<table border=\"1\" class=\"dataframe\">\n",
       "  <thead>\n",
       "    <tr style=\"text-align: right;\">\n",
       "      <th></th>\n",
       "      <th>1</th>\n",
       "      <th>2</th>\n",
       "    </tr>\n",
       "  </thead>\n",
       "  <tbody>\n",
       "    <tr>\n",
       "      <th>323</th>\n",
       "      <td>business support</td>\n",
       "      <td>singapore</td>\n",
       "    </tr>\n",
       "  </tbody>\n",
       "</table>\n",
       "</div>"
      ],
      "text/plain": [
       "                    1          2\n",
       "323  business support  singapore"
      ]
     },
     "execution_count": 17,
     "metadata": {},
     "output_type": "execute_result"
    }
   ],
   "source": [
    "trial.loc[(trial[1].notnull()), [1,2]]"
   ]
  },
  {
   "cell_type": "markdown",
   "metadata": {},
   "source": [
    "### To check the validity of company name that occurs once"
   ]
  },
  {
   "cell_type": "code",
   "execution_count": 18,
   "metadata": {
    "scrolled": false
   },
   "outputs": [],
   "source": [
    "# Create dataframe of company_name frequency = 1\n",
    "low_jobs_postings = company_confidential.company_name[~(company_confidential.company_name.str.contains(\"ltd\") | company_confidential.company_name.str.contains(\"limited\"))].value_counts()[company_confidential.company_name[~(company_confidential.company_name.str.contains(\"ltd\") | company_confidential.company_name.str.contains(\"limited\"))].value_counts()<2].reset_index().drop(\"company_name\", axis = 1).rename(columns = {\"index\": \"company_name\"})"
   ]
  },
  {
   "cell_type": "code",
   "execution_count": 19,
   "metadata": {},
   "outputs": [
    {
     "data": {
      "text/html": [
       "<div>\n",
       "<style scoped>\n",
       "    .dataframe tbody tr th:only-of-type {\n",
       "        vertical-align: middle;\n",
       "    }\n",
       "\n",
       "    .dataframe tbody tr th {\n",
       "        vertical-align: top;\n",
       "    }\n",
       "\n",
       "    .dataframe thead th {\n",
       "        text-align: right;\n",
       "    }\n",
       "</style>\n",
       "<table border=\"1\" class=\"dataframe\">\n",
       "  <thead>\n",
       "    <tr style=\"text-align: right;\">\n",
       "      <th></th>\n",
       "      <th>company_name</th>\n",
       "    </tr>\n",
       "  </thead>\n",
       "  <tbody>\n",
       "    <tr>\n",
       "      <th>0</th>\n",
       "      <td>tsao foundation</td>\n",
       "    </tr>\n",
       "    <tr>\n",
       "      <th>1</th>\n",
       "      <td>22k per month ✪</td>\n",
       "    </tr>\n",
       "    <tr>\n",
       "      <th>2</th>\n",
       "      <td>sathya sai social service</td>\n",
       "    </tr>\n",
       "    <tr>\n",
       "      <th>3</th>\n",
       "      <td>lighthouse evangelism</td>\n",
       "    </tr>\n",
       "    <tr>\n",
       "      <th>4</th>\n",
       "      <td>netlink trust</td>\n",
       "    </tr>\n",
       "  </tbody>\n",
       "</table>\n",
       "</div>"
      ],
      "text/plain": [
       "                company_name\n",
       "0            tsao foundation\n",
       "1            22k per month ✪\n",
       "2  sathya sai social service\n",
       "3      lighthouse evangelism\n",
       "4              netlink trust"
      ]
     },
     "execution_count": 19,
     "metadata": {},
     "output_type": "execute_result"
    }
   ],
   "source": [
    "low_jobs_postings.head()"
   ]
  },
  {
   "cell_type": "markdown",
   "metadata": {},
   "source": [
    "### To collect a removal list"
   ]
  },
  {
   "cell_type": "code",
   "execution_count": 20,
   "metadata": {},
   "outputs": [
    {
     "data": {
      "text/plain": [
       "[(['22'], 1), (['$1950'], 65), (['6'], 119), (['$15'], 120)]"
      ]
     },
     "execution_count": 20,
     "metadata": {},
     "output_type": "execute_result"
    }
   ],
   "source": [
    "# To check for numbers at the start and symbols+numbers\n",
    "reg_exp = r'^\\W+\\d+|^\\d+'\n",
    "symbols = low_jobs_postings['company_name'].apply(lambda x:re.findall(reg_exp,x))\n",
    "[(symbols[i], i) for i in range(len(symbols)) if symbols[i]!=[]]"
   ]
  },
  {
   "cell_type": "code",
   "execution_count": 21,
   "metadata": {},
   "outputs": [
    {
     "data": {
      "text/html": [
       "<div>\n",
       "<style scoped>\n",
       "    .dataframe tbody tr th:only-of-type {\n",
       "        vertical-align: middle;\n",
       "    }\n",
       "\n",
       "    .dataframe tbody tr th {\n",
       "        vertical-align: top;\n",
       "    }\n",
       "\n",
       "    .dataframe thead th {\n",
       "        text-align: right;\n",
       "    }\n",
       "</style>\n",
       "<table border=\"1\" class=\"dataframe\">\n",
       "  <thead>\n",
       "    <tr style=\"text-align: right;\">\n",
       "      <th></th>\n",
       "      <th>company_name</th>\n",
       "    </tr>\n",
       "  </thead>\n",
       "  <tbody>\n",
       "    <tr>\n",
       "      <th>1</th>\n",
       "      <td>22k per month ✪</td>\n",
       "    </tr>\n",
       "    <tr>\n",
       "      <th>65</th>\n",
       "      <td>$1950</td>\n",
       "    </tr>\n",
       "    <tr>\n",
       "      <th>119</th>\n",
       "      <td>6 months / banking -</td>\n",
       "    </tr>\n",
       "    <tr>\n",
       "      <th>120</th>\n",
       "      <td>$15k / mth; p/t sales reps!!!</td>\n",
       "    </tr>\n",
       "  </tbody>\n",
       "</table>\n",
       "</div>"
      ],
      "text/plain": [
       "                      company_name\n",
       "1                  22k per month ✪\n",
       "65                           $1950\n",
       "119           6 months / banking -\n",
       "120  $15k / mth; p/t sales reps!!!"
      ]
     },
     "execution_count": 21,
     "metadata": {},
     "output_type": "execute_result"
    }
   ],
   "source": [
    "removal_list = low_jobs_postings.loc[[1, 65, 119, 120], [\"company_name\"]]\n",
    "low_jobs_postings = low_jobs_postings.drop([1, 65, 119, 120]).reset_index(drop=True)\n",
    "removal_list"
   ]
  },
  {
   "cell_type": "code",
   "execution_count": 22,
   "metadata": {},
   "outputs": [
    {
     "data": {
      "text/plain": [
       "[(['/'], 17),\n",
       " (['-'], 57),\n",
       " (['-'], 62),\n",
       " (['-'], 69),\n",
       " (['-'], 102),\n",
       " (['-'], 103),\n",
       " (['-'], 112)]"
      ]
     },
     "execution_count": 22,
     "metadata": {},
     "output_type": "execute_result"
    }
   ],
   "source": [
    "# To check for symbols /, -\n",
    "reg_exp = r'\\-|\\/'\n",
    "symbols = low_jobs_postings['company_name'].apply(lambda x:re.findall(reg_exp,x))\n",
    "[(symbols[i], i) for i in range(len(symbols)) if symbols[i]!=[]]"
   ]
  },
  {
   "cell_type": "code",
   "execution_count": 23,
   "metadata": {},
   "outputs": [
    {
     "data": {
      "text/html": [
       "<div>\n",
       "<style scoped>\n",
       "    .dataframe tbody tr th:only-of-type {\n",
       "        vertical-align: middle;\n",
       "    }\n",
       "\n",
       "    .dataframe tbody tr th {\n",
       "        vertical-align: top;\n",
       "    }\n",
       "\n",
       "    .dataframe thead th {\n",
       "        text-align: right;\n",
       "    }\n",
       "</style>\n",
       "<table border=\"1\" class=\"dataframe\">\n",
       "  <thead>\n",
       "    <tr style=\"text-align: right;\">\n",
       "      <th></th>\n",
       "      <th>company_name</th>\n",
       "    </tr>\n",
       "  </thead>\n",
       "  <tbody>\n",
       "    <tr>\n",
       "      <th>0</th>\n",
       "      <td>tsao foundation</td>\n",
       "    </tr>\n",
       "    <tr>\n",
       "      <th>1</th>\n",
       "      <td>sathya sai social service</td>\n",
       "    </tr>\n",
       "    <tr>\n",
       "      <th>2</th>\n",
       "      <td>lighthouse evangelism</td>\n",
       "    </tr>\n",
       "    <tr>\n",
       "      <th>3</th>\n",
       "      <td>netlink trust</td>\n",
       "    </tr>\n",
       "    <tr>\n",
       "      <th>4</th>\n",
       "      <td>waterstone consulting</td>\n",
       "    </tr>\n",
       "    <tr>\n",
       "      <th>5</th>\n",
       "      <td>pwp group</td>\n",
       "    </tr>\n",
       "    <tr>\n",
       "      <th>6</th>\n",
       "      <td>the farrer park company</td>\n",
       "    </tr>\n",
       "    <tr>\n",
       "      <th>7</th>\n",
       "      <td>petracarbon</td>\n",
       "    </tr>\n",
       "    <tr>\n",
       "      <th>8</th>\n",
       "      <td>qoo10 singapore</td>\n",
       "    </tr>\n",
       "    <tr>\n",
       "      <th>9</th>\n",
       "      <td>singapore red cross society</td>\n",
       "    </tr>\n",
       "    <tr>\n",
       "      <th>10</th>\n",
       "      <td>global trading company</td>\n",
       "    </tr>\n",
       "    <tr>\n",
       "      <th>11</th>\n",
       "      <td>forty forty</td>\n",
       "    </tr>\n",
       "    <tr>\n",
       "      <th>12</th>\n",
       "      <td>singapore art museum</td>\n",
       "    </tr>\n",
       "    <tr>\n",
       "      <th>13</th>\n",
       "      <td>flanders investment &amp; trade</td>\n",
       "    </tr>\n",
       "    <tr>\n",
       "      <th>14</th>\n",
       "      <td>cornerstone global partners</td>\n",
       "    </tr>\n",
       "    <tr>\n",
       "      <th>15</th>\n",
       "      <td>institute of high performance computing (a*star)</td>\n",
       "    </tr>\n",
       "    <tr>\n",
       "      <th>16</th>\n",
       "      <td>advanced remanufacturing and technology centre...</td>\n",
       "    </tr>\n",
       "    <tr>\n",
       "      <th>17</th>\n",
       "      <td>part time / full time</td>\n",
       "    </tr>\n",
       "    <tr>\n",
       "      <th>18</th>\n",
       "      <td>consortium for clinical research and innovatio...</td>\n",
       "    </tr>\n",
       "    <tr>\n",
       "      <th>19</th>\n",
       "      <td>s p jain school of global management</td>\n",
       "    </tr>\n",
       "    <tr>\n",
       "      <th>20</th>\n",
       "      <td>rain tree montessori schoolhouse</td>\n",
       "    </tr>\n",
       "    <tr>\n",
       "      <th>21</th>\n",
       "      <td>white restaurant</td>\n",
       "    </tr>\n",
       "    <tr>\n",
       "      <th>22</th>\n",
       "      <td>christopher loh</td>\n",
       "    </tr>\n",
       "    <tr>\n",
       "      <th>23</th>\n",
       "      <td>nanyang technological university alumni club</td>\n",
       "    </tr>\n",
       "    <tr>\n",
       "      <th>24</th>\n",
       "      <td>abundant grace presbyterian church</td>\n",
       "    </tr>\n",
       "    <tr>\n",
       "      <th>25</th>\n",
       "      <td>national kidney foundation</td>\n",
       "    </tr>\n",
       "    <tr>\n",
       "      <th>26</th>\n",
       "      <td>office secretaries</td>\n",
       "    </tr>\n",
       "    <tr>\n",
       "      <th>27</th>\n",
       "      <td>national neuroscience institute</td>\n",
       "    </tr>\n",
       "    <tr>\n",
       "      <th>28</th>\n",
       "      <td>sales associate</td>\n",
       "    </tr>\n",
       "    <tr>\n",
       "      <th>29</th>\n",
       "      <td>raymond low organization (edmund tay)</td>\n",
       "    </tr>\n",
       "    <tr>\n",
       "      <th>30</th>\n",
       "      <td>only group</td>\n",
       "    </tr>\n",
       "    <tr>\n",
       "      <th>31</th>\n",
       "      <td>muslimin trust fund association</td>\n",
       "    </tr>\n",
       "    <tr>\n",
       "      <th>32</th>\n",
       "      <td>prism+</td>\n",
       "    </tr>\n",
       "    <tr>\n",
       "      <th>33</th>\n",
       "      <td>ninja van</td>\n",
       "    </tr>\n",
       "    <tr>\n",
       "      <th>34</th>\n",
       "      <td>capitaland group</td>\n",
       "    </tr>\n",
       "    <tr>\n",
       "      <th>35</th>\n",
       "      <td>fine jewellery</td>\n",
       "    </tr>\n",
       "    <tr>\n",
       "      <th>36</th>\n",
       "      <td>motorway group</td>\n",
       "    </tr>\n",
       "    <tr>\n",
       "      <th>37</th>\n",
       "      <td>kk women's &amp; children's hospital</td>\n",
       "    </tr>\n",
       "    <tr>\n",
       "      <th>38</th>\n",
       "      <td>ren ci hospital</td>\n",
       "    </tr>\n",
       "    <tr>\n",
       "      <th>39</th>\n",
       "      <td>ashford dental centre</td>\n",
       "    </tr>\n",
       "    <tr>\n",
       "      <th>40</th>\n",
       "      <td>singapore university of social sciences</td>\n",
       "    </tr>\n",
       "    <tr>\n",
       "      <th>41</th>\n",
       "      <td>procter &amp; gamble i'ntl operations sa singapore...</td>\n",
       "    </tr>\n",
       "    <tr>\n",
       "      <th>42</th>\n",
       "      <td>bedok</td>\n",
       "    </tr>\n",
       "    <tr>\n",
       "      <th>43</th>\n",
       "      <td>dindinn corp</td>\n",
       "    </tr>\n",
       "    <tr>\n",
       "      <th>44</th>\n",
       "      <td>agsg &amp; partners</td>\n",
       "    </tr>\n",
       "    <tr>\n",
       "      <th>45</th>\n",
       "      <td>one15 marina club</td>\n",
       "    </tr>\n",
       "    <tr>\n",
       "      <th>46</th>\n",
       "      <td>asia advance human resource</td>\n",
       "    </tr>\n",
       "    <tr>\n",
       "      <th>47</th>\n",
       "      <td>rhb bank singapore</td>\n",
       "    </tr>\n",
       "    <tr>\n",
       "      <th>48</th>\n",
       "      <td>singapore eye research institute (seri)</td>\n",
       "    </tr>\n",
       "    <tr>\n",
       "      <th>49</th>\n",
       "      <td>mighty jaxx</td>\n",
       "    </tr>\n",
       "    <tr>\n",
       "      <th>50</th>\n",
       "      <td>geniebook</td>\n",
       "    </tr>\n",
       "    <tr>\n",
       "      <th>51</th>\n",
       "      <td>singhealth polyclinics</td>\n",
       "    </tr>\n",
       "    <tr>\n",
       "      <th>52</th>\n",
       "      <td>wisma recruitment centre</td>\n",
       "    </tr>\n",
       "    <tr>\n",
       "      <th>53</th>\n",
       "      <td>caregiving welfare association</td>\n",
       "    </tr>\n",
       "    <tr>\n",
       "      <th>54</th>\n",
       "      <td>autus recruitment</td>\n",
       "    </tr>\n",
       "    <tr>\n",
       "      <th>55</th>\n",
       "      <td>capella hotel singapore</td>\n",
       "    </tr>\n",
       "    <tr>\n",
       "      <th>56</th>\n",
       "      <td>frg technology consulting</td>\n",
       "    </tr>\n",
       "    <tr>\n",
       "      <th>57</th>\n",
       "      <td>maid agency) -</td>\n",
       "    </tr>\n",
       "    <tr>\n",
       "      <th>58</th>\n",
       "      <td>sprim</td>\n",
       "    </tr>\n",
       "    <tr>\n",
       "      <th>59</th>\n",
       "      <td>amara sanctuary resort sentosa</td>\n",
       "    </tr>\n",
       "    <tr>\n",
       "      <th>60</th>\n",
       "      <td>singapore management university</td>\n",
       "    </tr>\n",
       "    <tr>\n",
       "      <th>61</th>\n",
       "      <td>hwa chong international school</td>\n",
       "    </tr>\n",
       "    <tr>\n",
       "      <th>62</th>\n",
       "      <td>flexible hours &amp; good pay -</td>\n",
       "    </tr>\n",
       "    <tr>\n",
       "      <th>63</th>\n",
       "      <td>the orthopaedic centre</td>\n",
       "    </tr>\n",
       "    <tr>\n",
       "      <th>64</th>\n",
       "      <td>ministry of health</td>\n",
       "    </tr>\n",
       "    <tr>\n",
       "      <th>65</th>\n",
       "      <td>process engineering specialists (pes)</td>\n",
       "    </tr>\n",
       "    <tr>\n",
       "      <th>66</th>\n",
       "      <td>the british club</td>\n",
       "    </tr>\n",
       "    <tr>\n",
       "      <th>67</th>\n",
       "      <td>castlery</td>\n",
       "    </tr>\n",
       "    <tr>\n",
       "      <th>68</th>\n",
       "      <td>singapore island country club</td>\n",
       "    </tr>\n",
       "    <tr>\n",
       "      <th>69</th>\n",
       "      <td>the orange tree pre-school</td>\n",
       "    </tr>\n",
       "    <tr>\n",
       "      <th>70</th>\n",
       "      <td>singapore children's society</td>\n",
       "    </tr>\n",
       "    <tr>\n",
       "      <th>71</th>\n",
       "      <td>ymca of singapore</td>\n",
       "    </tr>\n",
       "    <tr>\n",
       "      <th>72</th>\n",
       "      <td>sentosa development corporation &amp; subsidiaries</td>\n",
       "    </tr>\n",
       "    <tr>\n",
       "      <th>73</th>\n",
       "      <td>ren hr consulting sdn bhd</td>\n",
       "    </tr>\n",
       "    <tr>\n",
       "      <th>74</th>\n",
       "      <td>accountstaff, a stone forest company</td>\n",
       "    </tr>\n",
       "    <tr>\n",
       "      <th>75</th>\n",
       "      <td>thermo fisher scientific</td>\n",
       "    </tr>\n",
       "    <tr>\n",
       "      <th>76</th>\n",
       "      <td>pie rda</td>\n",
       "    </tr>\n",
       "    <tr>\n",
       "      <th>77</th>\n",
       "      <td>assisi hospice</td>\n",
       "    </tr>\n",
       "    <tr>\n",
       "      <th>78</th>\n",
       "      <td>maybank</td>\n",
       "    </tr>\n",
       "    <tr>\n",
       "      <th>79</th>\n",
       "      <td>central</td>\n",
       "    </tr>\n",
       "    <tr>\n",
       "      <th>80</th>\n",
       "      <td>esora</td>\n",
       "    </tr>\n",
       "    <tr>\n",
       "      <th>81</th>\n",
       "      <td>janio asia</td>\n",
       "    </tr>\n",
       "    <tr>\n",
       "      <th>82</th>\n",
       "      <td>ministry of foreign affairs</td>\n",
       "    </tr>\n",
       "    <tr>\n",
       "      <th>83</th>\n",
       "      <td>food from the heart</td>\n",
       "    </tr>\n",
       "    <tr>\n",
       "      <th>84</th>\n",
       "      <td>pazzion group</td>\n",
       "    </tr>\n",
       "    <tr>\n",
       "      <th>85</th>\n",
       "      <td>vela diagnostics</td>\n",
       "    </tr>\n",
       "    <tr>\n",
       "      <th>86</th>\n",
       "      <td>caterpillar singapore</td>\n",
       "    </tr>\n",
       "    <tr>\n",
       "      <th>87</th>\n",
       "      <td>singapore cricket club</td>\n",
       "    </tr>\n",
       "    <tr>\n",
       "      <th>88</th>\n",
       "      <td>temasek club</td>\n",
       "    </tr>\n",
       "    <tr>\n",
       "      <th>89</th>\n",
       "      <td>marsh &amp; mclennan companies (mmc)</td>\n",
       "    </tr>\n",
       "    <tr>\n",
       "      <th>90</th>\n",
       "      <td>grand copthorne waterfront hotel singapore</td>\n",
       "    </tr>\n",
       "    <tr>\n",
       "      <th>91</th>\n",
       "      <td>woodlands health campus</td>\n",
       "    </tr>\n",
       "    <tr>\n",
       "      <th>92</th>\n",
       "      <td>singapore sports hub</td>\n",
       "    </tr>\n",
       "    <tr>\n",
       "      <th>93</th>\n",
       "      <td>washington frank international (a divison of f...</td>\n",
       "    </tr>\n",
       "    <tr>\n",
       "      <th>94</th>\n",
       "      <td>the warehouse hotel</td>\n",
       "    </tr>\n",
       "    <tr>\n",
       "      <th>95</th>\n",
       "      <td>apac</td>\n",
       "    </tr>\n",
       "    <tr>\n",
       "      <th>96</th>\n",
       "      <td>local m&amp;e consultancy firm</td>\n",
       "    </tr>\n",
       "    <tr>\n",
       "      <th>97</th>\n",
       "      <td>hr focus</td>\n",
       "    </tr>\n",
       "    <tr>\n",
       "      <th>98</th>\n",
       "      <td>j org</td>\n",
       "    </tr>\n",
       "    <tr>\n",
       "      <th>99</th>\n",
       "      <td>mazars llp</td>\n",
       "    </tr>\n",
       "    <tr>\n",
       "      <th>100</th>\n",
       "      <td>ssd assembly process &amp; equipment engineering</td>\n",
       "    </tr>\n",
       "    <tr>\n",
       "      <th>101</th>\n",
       "      <td>sterling risq</td>\n",
       "    </tr>\n",
       "    <tr>\n",
       "      <th>102</th>\n",
       "      <td>singapore-mit alliance for research and techno...</td>\n",
       "    </tr>\n",
       "    <tr>\n",
       "      <th>103</th>\n",
       "      <td>sentosa development corporation &amp; subsidiaries...</td>\n",
       "    </tr>\n",
       "    <tr>\n",
       "      <th>104</th>\n",
       "      <td>ch robinson freight services</td>\n",
       "    </tr>\n",
       "    <tr>\n",
       "      <th>105</th>\n",
       "      <td>urban home design studio</td>\n",
       "    </tr>\n",
       "    <tr>\n",
       "      <th>106</th>\n",
       "      <td>national healthcare group polyclinics</td>\n",
       "    </tr>\n",
       "    <tr>\n",
       "      <th>107</th>\n",
       "      <td>agency for science, technology and research (a...</td>\n",
       "    </tr>\n",
       "    <tr>\n",
       "      <th>108</th>\n",
       "      <td>singapore turf club</td>\n",
       "    </tr>\n",
       "    <tr>\n",
       "      <th>109</th>\n",
       "      <td>boys' town</td>\n",
       "    </tr>\n",
       "    <tr>\n",
       "      <th>110</th>\n",
       "      <td>domino's pizza singapore</td>\n",
       "    </tr>\n",
       "    <tr>\n",
       "      <th>111</th>\n",
       "      <td>institute for infocomm research (a*star)</td>\n",
       "    </tr>\n",
       "    <tr>\n",
       "      <th>112</th>\n",
       "      <td>shangri-la hotel, singapore</td>\n",
       "    </tr>\n",
       "    <tr>\n",
       "      <th>113</th>\n",
       "      <td>district 10</td>\n",
       "    </tr>\n",
       "    <tr>\n",
       "      <th>114</th>\n",
       "      <td>dupont</td>\n",
       "    </tr>\n",
       "    <tr>\n",
       "      <th>115</th>\n",
       "      <td>recruitment express</td>\n",
       "    </tr>\n",
       "    <tr>\n",
       "      <th>116</th>\n",
       "      <td>students welcome</td>\n",
       "    </tr>\n",
       "    <tr>\n",
       "      <th>117</th>\n",
       "      <td>advisors' clique</td>\n",
       "    </tr>\n",
       "    <tr>\n",
       "      <th>118</th>\n",
       "      <td>frank recruitment group</td>\n",
       "    </tr>\n",
       "    <tr>\n",
       "      <th>119</th>\n",
       "      <td>jaytee &amp; associations</td>\n",
       "    </tr>\n",
       "    <tr>\n",
       "      <th>120</th>\n",
       "      <td>one championship</td>\n",
       "    </tr>\n",
       "    <tr>\n",
       "      <th>121</th>\n",
       "      <td>golden dragon store</td>\n",
       "    </tr>\n",
       "  </tbody>\n",
       "</table>\n",
       "</div>"
      ],
      "text/plain": [
       "                                          company_name\n",
       "0                                      tsao foundation\n",
       "1                            sathya sai social service\n",
       "2                                lighthouse evangelism\n",
       "3                                        netlink trust\n",
       "4                                waterstone consulting\n",
       "5                                            pwp group\n",
       "6                              the farrer park company\n",
       "7                                          petracarbon\n",
       "8                                      qoo10 singapore\n",
       "9                          singapore red cross society\n",
       "10                              global trading company\n",
       "11                                         forty forty\n",
       "12                                singapore art museum\n",
       "13                         flanders investment & trade\n",
       "14                         cornerstone global partners\n",
       "15    institute of high performance computing (a*star)\n",
       "16   advanced remanufacturing and technology centre...\n",
       "17                               part time / full time\n",
       "18   consortium for clinical research and innovatio...\n",
       "19                s p jain school of global management\n",
       "20                    rain tree montessori schoolhouse\n",
       "21                                    white restaurant\n",
       "22                                     christopher loh\n",
       "23        nanyang technological university alumni club\n",
       "24                  abundant grace presbyterian church\n",
       "25                          national kidney foundation\n",
       "26                                  office secretaries\n",
       "27                     national neuroscience institute\n",
       "28                                     sales associate\n",
       "29               raymond low organization (edmund tay)\n",
       "30                                          only group\n",
       "31                     muslimin trust fund association\n",
       "32                                              prism+\n",
       "33                                           ninja van\n",
       "34                                    capitaland group\n",
       "35                                      fine jewellery\n",
       "36                                      motorway group\n",
       "37                    kk women's & children's hospital\n",
       "38                                     ren ci hospital\n",
       "39                               ashford dental centre\n",
       "40             singapore university of social sciences\n",
       "41   procter & gamble i'ntl operations sa singapore...\n",
       "42                                               bedok\n",
       "43                                        dindinn corp\n",
       "44                                     agsg & partners\n",
       "45                                   one15 marina club\n",
       "46                         asia advance human resource\n",
       "47                                  rhb bank singapore\n",
       "48             singapore eye research institute (seri)\n",
       "49                                         mighty jaxx\n",
       "50                                           geniebook\n",
       "51                              singhealth polyclinics\n",
       "52                            wisma recruitment centre\n",
       "53                      caregiving welfare association\n",
       "54                                   autus recruitment\n",
       "55                             capella hotel singapore\n",
       "56                           frg technology consulting\n",
       "57                                      maid agency) -\n",
       "58                                               sprim\n",
       "59                      amara sanctuary resort sentosa\n",
       "60                     singapore management university\n",
       "61                      hwa chong international school\n",
       "62                         flexible hours & good pay -\n",
       "63                              the orthopaedic centre\n",
       "64                                  ministry of health\n",
       "65               process engineering specialists (pes)\n",
       "66                                    the british club\n",
       "67                                            castlery\n",
       "68                       singapore island country club\n",
       "69                          the orange tree pre-school\n",
       "70                        singapore children's society\n",
       "71                                   ymca of singapore\n",
       "72      sentosa development corporation & subsidiaries\n",
       "73                           ren hr consulting sdn bhd\n",
       "74                accountstaff, a stone forest company\n",
       "75                            thermo fisher scientific\n",
       "76                                             pie rda\n",
       "77                                      assisi hospice\n",
       "78                                             maybank\n",
       "79                                             central\n",
       "80                                               esora\n",
       "81                                          janio asia\n",
       "82                         ministry of foreign affairs\n",
       "83                                 food from the heart\n",
       "84                                       pazzion group\n",
       "85                                    vela diagnostics\n",
       "86                               caterpillar singapore\n",
       "87                              singapore cricket club\n",
       "88                                        temasek club\n",
       "89                    marsh & mclennan companies (mmc)\n",
       "90          grand copthorne waterfront hotel singapore\n",
       "91                             woodlands health campus\n",
       "92                                singapore sports hub\n",
       "93   washington frank international (a divison of f...\n",
       "94                                 the warehouse hotel\n",
       "95                                                apac\n",
       "96                          local m&e consultancy firm\n",
       "97                                            hr focus\n",
       "98                                               j org\n",
       "99                                          mazars llp\n",
       "100       ssd assembly process & equipment engineering\n",
       "101                                      sterling risq\n",
       "102  singapore-mit alliance for research and techno...\n",
       "103  sentosa development corporation & subsidiaries...\n",
       "104                       ch robinson freight services\n",
       "105                           urban home design studio\n",
       "106              national healthcare group polyclinics\n",
       "107  agency for science, technology and research (a...\n",
       "108                                singapore turf club\n",
       "109                                         boys' town\n",
       "110                           domino's pizza singapore\n",
       "111           institute for infocomm research (a*star)\n",
       "112                        shangri-la hotel, singapore\n",
       "113                                        district 10\n",
       "114                                             dupont\n",
       "115                                recruitment express\n",
       "116                                   students welcome\n",
       "117                                   advisors' clique\n",
       "118                            frank recruitment group\n",
       "119                              jaytee & associations\n",
       "120                                   one championship\n",
       "121                                golden dragon store"
      ]
     },
     "execution_count": 23,
     "metadata": {},
     "output_type": "execute_result"
    }
   ],
   "source": [
    "low_jobs_postings"
   ]
  },
  {
   "cell_type": "code",
   "execution_count": 24,
   "metadata": {},
   "outputs": [
    {
     "data": {
      "text/html": [
       "<div>\n",
       "<style scoped>\n",
       "    .dataframe tbody tr th:only-of-type {\n",
       "        vertical-align: middle;\n",
       "    }\n",
       "\n",
       "    .dataframe tbody tr th {\n",
       "        vertical-align: top;\n",
       "    }\n",
       "\n",
       "    .dataframe thead th {\n",
       "        text-align: right;\n",
       "    }\n",
       "</style>\n",
       "<table border=\"1\" class=\"dataframe\">\n",
       "  <thead>\n",
       "    <tr style=\"text-align: right;\">\n",
       "      <th></th>\n",
       "      <th>company_name</th>\n",
       "    </tr>\n",
       "  </thead>\n",
       "  <tbody>\n",
       "    <tr>\n",
       "      <th>1</th>\n",
       "      <td>22k per month ✪</td>\n",
       "    </tr>\n",
       "    <tr>\n",
       "      <th>65</th>\n",
       "      <td>$1950</td>\n",
       "    </tr>\n",
       "    <tr>\n",
       "      <th>119</th>\n",
       "      <td>6 months / banking -</td>\n",
       "    </tr>\n",
       "    <tr>\n",
       "      <th>120</th>\n",
       "      <td>$15k / mth; p/t sales reps!!!</td>\n",
       "    </tr>\n",
       "    <tr>\n",
       "      <th>17</th>\n",
       "      <td>part time / full time</td>\n",
       "    </tr>\n",
       "    <tr>\n",
       "      <th>57</th>\n",
       "      <td>maid agency) -</td>\n",
       "    </tr>\n",
       "    <tr>\n",
       "      <th>62</th>\n",
       "      <td>flexible hours &amp; good pay -</td>\n",
       "    </tr>\n",
       "  </tbody>\n",
       "</table>\n",
       "</div>"
      ],
      "text/plain": [
       "                      company_name\n",
       "1                  22k per month ✪\n",
       "65                           $1950\n",
       "119           6 months / banking -\n",
       "120  $15k / mth; p/t sales reps!!!\n",
       "17           part time / full time\n",
       "57                  maid agency) -\n",
       "62     flexible hours & good pay -"
      ]
     },
     "execution_count": 24,
     "metadata": {},
     "output_type": "execute_result"
    }
   ],
   "source": [
    "removal_list = removal_list.append(low_jobs_postings.loc[[17, 57, 62], [\"company_name\"]])\n",
    "low_jobs_postings = low_jobs_postings.drop([17, 57, 62]).reset_index(drop=True)\n",
    "removal_list"
   ]
  },
  {
   "cell_type": "code",
   "execution_count": 25,
   "metadata": {},
   "outputs": [],
   "source": [
    "# To separate them into word length\n",
    "low_jobs_postings[\"word_length\"] = low_jobs_postings.company_name.apply(lambda x: len(x.split(\" \")))"
   ]
  },
  {
   "cell_type": "code",
   "execution_count": 26,
   "metadata": {},
   "outputs": [
    {
     "data": {
      "text/html": [
       "<div>\n",
       "<style scoped>\n",
       "    .dataframe tbody tr th:only-of-type {\n",
       "        vertical-align: middle;\n",
       "    }\n",
       "\n",
       "    .dataframe tbody tr th {\n",
       "        vertical-align: top;\n",
       "    }\n",
       "\n",
       "    .dataframe thead th {\n",
       "        text-align: right;\n",
       "    }\n",
       "</style>\n",
       "<table border=\"1\" class=\"dataframe\">\n",
       "  <thead>\n",
       "    <tr style=\"text-align: right;\">\n",
       "      <th></th>\n",
       "      <th>company_name</th>\n",
       "      <th>word_length</th>\n",
       "    </tr>\n",
       "  </thead>\n",
       "  <tbody>\n",
       "    <tr>\n",
       "      <th>1</th>\n",
       "      <td>sathya sai social service</td>\n",
       "      <td>4</td>\n",
       "    </tr>\n",
       "    <tr>\n",
       "      <th>6</th>\n",
       "      <td>the farrer park company</td>\n",
       "      <td>4</td>\n",
       "    </tr>\n",
       "    <tr>\n",
       "      <th>9</th>\n",
       "      <td>singapore red cross society</td>\n",
       "      <td>4</td>\n",
       "    </tr>\n",
       "    <tr>\n",
       "      <th>10</th>\n",
       "      <td>global trading company</td>\n",
       "      <td>3</td>\n",
       "    </tr>\n",
       "    <tr>\n",
       "      <th>12</th>\n",
       "      <td>singapore art museum</td>\n",
       "      <td>3</td>\n",
       "    </tr>\n",
       "  </tbody>\n",
       "</table>\n",
       "</div>"
      ],
      "text/plain": [
       "                   company_name  word_length\n",
       "1     sathya sai social service            4\n",
       "6       the farrer park company            4\n",
       "9   singapore red cross society            4\n",
       "10       global trading company            3\n",
       "12         singapore art museum            3"
      ]
     },
     "execution_count": 26,
     "metadata": {},
     "output_type": "execute_result"
    }
   ],
   "source": [
    "# To check if the company_names word length more than 2 are valid\n",
    "low_jobs_postings[low_jobs_postings.word_length>2].head()"
   ]
  },
  {
   "cell_type": "code",
   "execution_count": 27,
   "metadata": {
    "scrolled": true
   },
   "outputs": [
    {
     "data": {
      "text/html": [
       "<div>\n",
       "<style scoped>\n",
       "    .dataframe tbody tr th:only-of-type {\n",
       "        vertical-align: middle;\n",
       "    }\n",
       "\n",
       "    .dataframe tbody tr th {\n",
       "        vertical-align: top;\n",
       "    }\n",
       "\n",
       "    .dataframe thead th {\n",
       "        text-align: right;\n",
       "    }\n",
       "</style>\n",
       "<table border=\"1\" class=\"dataframe\">\n",
       "  <thead>\n",
       "    <tr style=\"text-align: right;\">\n",
       "      <th></th>\n",
       "      <th>company_name</th>\n",
       "      <th>word_length</th>\n",
       "    </tr>\n",
       "  </thead>\n",
       "  <tbody>\n",
       "    <tr>\n",
       "      <th>0</th>\n",
       "      <td>tsao foundation</td>\n",
       "      <td>2</td>\n",
       "    </tr>\n",
       "    <tr>\n",
       "      <th>2</th>\n",
       "      <td>lighthouse evangelism</td>\n",
       "      <td>2</td>\n",
       "    </tr>\n",
       "    <tr>\n",
       "      <th>3</th>\n",
       "      <td>netlink trust</td>\n",
       "      <td>2</td>\n",
       "    </tr>\n",
       "    <tr>\n",
       "      <th>4</th>\n",
       "      <td>waterstone consulting</td>\n",
       "      <td>2</td>\n",
       "    </tr>\n",
       "    <tr>\n",
       "      <th>5</th>\n",
       "      <td>pwp group</td>\n",
       "      <td>2</td>\n",
       "    </tr>\n",
       "    <tr>\n",
       "      <th>7</th>\n",
       "      <td>petracarbon</td>\n",
       "      <td>1</td>\n",
       "    </tr>\n",
       "    <tr>\n",
       "      <th>8</th>\n",
       "      <td>qoo10 singapore</td>\n",
       "      <td>2</td>\n",
       "    </tr>\n",
       "    <tr>\n",
       "      <th>11</th>\n",
       "      <td>forty forty</td>\n",
       "      <td>2</td>\n",
       "    </tr>\n",
       "    <tr>\n",
       "      <th>20</th>\n",
       "      <td>white restaurant</td>\n",
       "      <td>2</td>\n",
       "    </tr>\n",
       "    <tr>\n",
       "      <th>21</th>\n",
       "      <td>christopher loh</td>\n",
       "      <td>2</td>\n",
       "    </tr>\n",
       "    <tr>\n",
       "      <th>25</th>\n",
       "      <td>office secretaries</td>\n",
       "      <td>2</td>\n",
       "    </tr>\n",
       "    <tr>\n",
       "      <th>27</th>\n",
       "      <td>sales associate</td>\n",
       "      <td>2</td>\n",
       "    </tr>\n",
       "    <tr>\n",
       "      <th>29</th>\n",
       "      <td>only group</td>\n",
       "      <td>2</td>\n",
       "    </tr>\n",
       "    <tr>\n",
       "      <th>31</th>\n",
       "      <td>prism+</td>\n",
       "      <td>1</td>\n",
       "    </tr>\n",
       "    <tr>\n",
       "      <th>32</th>\n",
       "      <td>ninja van</td>\n",
       "      <td>2</td>\n",
       "    </tr>\n",
       "    <tr>\n",
       "      <th>33</th>\n",
       "      <td>capitaland group</td>\n",
       "      <td>2</td>\n",
       "    </tr>\n",
       "    <tr>\n",
       "      <th>34</th>\n",
       "      <td>fine jewellery</td>\n",
       "      <td>2</td>\n",
       "    </tr>\n",
       "    <tr>\n",
       "      <th>35</th>\n",
       "      <td>motorway group</td>\n",
       "      <td>2</td>\n",
       "    </tr>\n",
       "    <tr>\n",
       "      <th>41</th>\n",
       "      <td>bedok</td>\n",
       "      <td>1</td>\n",
       "    </tr>\n",
       "    <tr>\n",
       "      <th>42</th>\n",
       "      <td>dindinn corp</td>\n",
       "      <td>2</td>\n",
       "    </tr>\n",
       "    <tr>\n",
       "      <th>48</th>\n",
       "      <td>mighty jaxx</td>\n",
       "      <td>2</td>\n",
       "    </tr>\n",
       "    <tr>\n",
       "      <th>49</th>\n",
       "      <td>geniebook</td>\n",
       "      <td>1</td>\n",
       "    </tr>\n",
       "    <tr>\n",
       "      <th>50</th>\n",
       "      <td>singhealth polyclinics</td>\n",
       "      <td>2</td>\n",
       "    </tr>\n",
       "    <tr>\n",
       "      <th>53</th>\n",
       "      <td>autus recruitment</td>\n",
       "      <td>2</td>\n",
       "    </tr>\n",
       "    <tr>\n",
       "      <th>56</th>\n",
       "      <td>sprim</td>\n",
       "      <td>1</td>\n",
       "    </tr>\n",
       "    <tr>\n",
       "      <th>64</th>\n",
       "      <td>castlery</td>\n",
       "      <td>1</td>\n",
       "    </tr>\n",
       "    <tr>\n",
       "      <th>73</th>\n",
       "      <td>pie rda</td>\n",
       "      <td>2</td>\n",
       "    </tr>\n",
       "    <tr>\n",
       "      <th>74</th>\n",
       "      <td>assisi hospice</td>\n",
       "      <td>2</td>\n",
       "    </tr>\n",
       "    <tr>\n",
       "      <th>75</th>\n",
       "      <td>maybank</td>\n",
       "      <td>1</td>\n",
       "    </tr>\n",
       "    <tr>\n",
       "      <th>76</th>\n",
       "      <td>central</td>\n",
       "      <td>1</td>\n",
       "    </tr>\n",
       "    <tr>\n",
       "      <th>77</th>\n",
       "      <td>esora</td>\n",
       "      <td>1</td>\n",
       "    </tr>\n",
       "    <tr>\n",
       "      <th>78</th>\n",
       "      <td>janio asia</td>\n",
       "      <td>2</td>\n",
       "    </tr>\n",
       "    <tr>\n",
       "      <th>81</th>\n",
       "      <td>pazzion group</td>\n",
       "      <td>2</td>\n",
       "    </tr>\n",
       "    <tr>\n",
       "      <th>82</th>\n",
       "      <td>vela diagnostics</td>\n",
       "      <td>2</td>\n",
       "    </tr>\n",
       "    <tr>\n",
       "      <th>83</th>\n",
       "      <td>caterpillar singapore</td>\n",
       "      <td>2</td>\n",
       "    </tr>\n",
       "    <tr>\n",
       "      <th>85</th>\n",
       "      <td>temasek club</td>\n",
       "      <td>2</td>\n",
       "    </tr>\n",
       "    <tr>\n",
       "      <th>92</th>\n",
       "      <td>apac</td>\n",
       "      <td>1</td>\n",
       "    </tr>\n",
       "    <tr>\n",
       "      <th>94</th>\n",
       "      <td>hr focus</td>\n",
       "      <td>2</td>\n",
       "    </tr>\n",
       "    <tr>\n",
       "      <th>95</th>\n",
       "      <td>j org</td>\n",
       "      <td>2</td>\n",
       "    </tr>\n",
       "    <tr>\n",
       "      <th>96</th>\n",
       "      <td>mazars llp</td>\n",
       "      <td>2</td>\n",
       "    </tr>\n",
       "    <tr>\n",
       "      <th>98</th>\n",
       "      <td>sterling risq</td>\n",
       "      <td>2</td>\n",
       "    </tr>\n",
       "    <tr>\n",
       "      <th>106</th>\n",
       "      <td>boys' town</td>\n",
       "      <td>2</td>\n",
       "    </tr>\n",
       "    <tr>\n",
       "      <th>110</th>\n",
       "      <td>district 10</td>\n",
       "      <td>2</td>\n",
       "    </tr>\n",
       "    <tr>\n",
       "      <th>111</th>\n",
       "      <td>dupont</td>\n",
       "      <td>1</td>\n",
       "    </tr>\n",
       "    <tr>\n",
       "      <th>112</th>\n",
       "      <td>recruitment express</td>\n",
       "      <td>2</td>\n",
       "    </tr>\n",
       "    <tr>\n",
       "      <th>113</th>\n",
       "      <td>students welcome</td>\n",
       "      <td>2</td>\n",
       "    </tr>\n",
       "    <tr>\n",
       "      <th>114</th>\n",
       "      <td>advisors' clique</td>\n",
       "      <td>2</td>\n",
       "    </tr>\n",
       "    <tr>\n",
       "      <th>117</th>\n",
       "      <td>one championship</td>\n",
       "      <td>2</td>\n",
       "    </tr>\n",
       "  </tbody>\n",
       "</table>\n",
       "</div>"
      ],
      "text/plain": [
       "               company_name  word_length\n",
       "0           tsao foundation            2\n",
       "2     lighthouse evangelism            2\n",
       "3             netlink trust            2\n",
       "4     waterstone consulting            2\n",
       "5                 pwp group            2\n",
       "7               petracarbon            1\n",
       "8           qoo10 singapore            2\n",
       "11              forty forty            2\n",
       "20         white restaurant            2\n",
       "21          christopher loh            2\n",
       "25       office secretaries            2\n",
       "27          sales associate            2\n",
       "29               only group            2\n",
       "31                   prism+            1\n",
       "32                ninja van            2\n",
       "33         capitaland group            2\n",
       "34           fine jewellery            2\n",
       "35           motorway group            2\n",
       "41                    bedok            1\n",
       "42             dindinn corp            2\n",
       "48              mighty jaxx            2\n",
       "49                geniebook            1\n",
       "50   singhealth polyclinics            2\n",
       "53        autus recruitment            2\n",
       "56                    sprim            1\n",
       "64                 castlery            1\n",
       "73                  pie rda            2\n",
       "74           assisi hospice            2\n",
       "75                  maybank            1\n",
       "76                  central            1\n",
       "77                    esora            1\n",
       "78               janio asia            2\n",
       "81            pazzion group            2\n",
       "82         vela diagnostics            2\n",
       "83    caterpillar singapore            2\n",
       "85             temasek club            2\n",
       "92                     apac            1\n",
       "94                 hr focus            2\n",
       "95                    j org            2\n",
       "96               mazars llp            2\n",
       "98            sterling risq            2\n",
       "106              boys' town            2\n",
       "110             district 10            2\n",
       "111                  dupont            1\n",
       "112     recruitment express            2\n",
       "113        students welcome            2\n",
       "114        advisors' clique            2\n",
       "117        one championship            2"
      ]
     },
     "execution_count": 27,
     "metadata": {},
     "output_type": "execute_result"
    }
   ],
   "source": [
    "# To check if the company_names word length less than 2 are valid\n",
    "low_jobs_postings[low_jobs_postings.word_length<=2]"
   ]
  },
  {
   "cell_type": "code",
   "execution_count": 28,
   "metadata": {},
   "outputs": [
    {
     "data": {
      "text/html": [
       "<div>\n",
       "<style scoped>\n",
       "    .dataframe tbody tr th:only-of-type {\n",
       "        vertical-align: middle;\n",
       "    }\n",
       "\n",
       "    .dataframe tbody tr th {\n",
       "        vertical-align: top;\n",
       "    }\n",
       "\n",
       "    .dataframe thead th {\n",
       "        text-align: right;\n",
       "    }\n",
       "</style>\n",
       "<table border=\"1\" class=\"dataframe\">\n",
       "  <thead>\n",
       "    <tr style=\"text-align: right;\">\n",
       "      <th></th>\n",
       "      <th>company_name</th>\n",
       "    </tr>\n",
       "  </thead>\n",
       "  <tbody>\n",
       "    <tr>\n",
       "      <th>1</th>\n",
       "      <td>22k per month ✪</td>\n",
       "    </tr>\n",
       "    <tr>\n",
       "      <th>65</th>\n",
       "      <td>$1950</td>\n",
       "    </tr>\n",
       "    <tr>\n",
       "      <th>119</th>\n",
       "      <td>6 months / banking -</td>\n",
       "    </tr>\n",
       "    <tr>\n",
       "      <th>120</th>\n",
       "      <td>$15k / mth; p/t sales reps!!!</td>\n",
       "    </tr>\n",
       "    <tr>\n",
       "      <th>17</th>\n",
       "      <td>part time / full time</td>\n",
       "    </tr>\n",
       "    <tr>\n",
       "      <th>57</th>\n",
       "      <td>maid agency) -</td>\n",
       "    </tr>\n",
       "    <tr>\n",
       "      <th>62</th>\n",
       "      <td>flexible hours &amp; good pay -</td>\n",
       "    </tr>\n",
       "    <tr>\n",
       "      <th>41</th>\n",
       "      <td>bedok</td>\n",
       "    </tr>\n",
       "    <tr>\n",
       "      <th>76</th>\n",
       "      <td>central</td>\n",
       "    </tr>\n",
       "    <tr>\n",
       "      <th>92</th>\n",
       "      <td>apac</td>\n",
       "    </tr>\n",
       "    <tr>\n",
       "      <th>113</th>\n",
       "      <td>students welcome</td>\n",
       "    </tr>\n",
       "  </tbody>\n",
       "</table>\n",
       "</div>"
      ],
      "text/plain": [
       "                      company_name\n",
       "1                  22k per month ✪\n",
       "65                           $1950\n",
       "119           6 months / banking -\n",
       "120  $15k / mth; p/t sales reps!!!\n",
       "17           part time / full time\n",
       "57                  maid agency) -\n",
       "62     flexible hours & good pay -\n",
       "41                           bedok\n",
       "76                         central\n",
       "92                            apac\n",
       "113               students welcome"
      ]
     },
     "execution_count": 28,
     "metadata": {},
     "output_type": "execute_result"
    }
   ],
   "source": [
    "removal_list = removal_list.append(low_jobs_postings.loc[[41, 76, 92, 113], [\"company_name\"]])\n",
    "low_jobs_postings = low_jobs_postings.drop([41, 76, 92, 113]).reset_index(drop=True)\n",
    "removal_list"
   ]
  },
  {
   "cell_type": "code",
   "execution_count": 30,
   "metadata": {
    "scrolled": true
   },
   "outputs": [
    {
     "data": {
      "text/html": [
       "<div>\n",
       "<style scoped>\n",
       "    .dataframe tbody tr th:only-of-type {\n",
       "        vertical-align: middle;\n",
       "    }\n",
       "\n",
       "    .dataframe tbody tr th {\n",
       "        vertical-align: top;\n",
       "    }\n",
       "\n",
       "    .dataframe thead th {\n",
       "        text-align: right;\n",
       "    }\n",
       "</style>\n",
       "<table border=\"1\" class=\"dataframe\">\n",
       "  <thead>\n",
       "    <tr style=\"text-align: right;\">\n",
       "      <th></th>\n",
       "      <th>company_name</th>\n",
       "      <th>word_length</th>\n",
       "    </tr>\n",
       "  </thead>\n",
       "  <tbody>\n",
       "    <tr>\n",
       "      <th>0</th>\n",
       "      <td>tsao foundation</td>\n",
       "      <td>2</td>\n",
       "    </tr>\n",
       "    <tr>\n",
       "      <th>2</th>\n",
       "      <td>lighthouse evangelism</td>\n",
       "      <td>2</td>\n",
       "    </tr>\n",
       "    <tr>\n",
       "      <th>3</th>\n",
       "      <td>netlink trust</td>\n",
       "      <td>2</td>\n",
       "    </tr>\n",
       "    <tr>\n",
       "      <th>4</th>\n",
       "      <td>waterstone consulting</td>\n",
       "      <td>2</td>\n",
       "    </tr>\n",
       "    <tr>\n",
       "      <th>5</th>\n",
       "      <td>pwp group</td>\n",
       "      <td>2</td>\n",
       "    </tr>\n",
       "    <tr>\n",
       "      <th>7</th>\n",
       "      <td>petracarbon</td>\n",
       "      <td>1</td>\n",
       "    </tr>\n",
       "    <tr>\n",
       "      <th>8</th>\n",
       "      <td>qoo10 singapore</td>\n",
       "      <td>2</td>\n",
       "    </tr>\n",
       "    <tr>\n",
       "      <th>11</th>\n",
       "      <td>forty forty</td>\n",
       "      <td>2</td>\n",
       "    </tr>\n",
       "    <tr>\n",
       "      <th>20</th>\n",
       "      <td>white restaurant</td>\n",
       "      <td>2</td>\n",
       "    </tr>\n",
       "    <tr>\n",
       "      <th>21</th>\n",
       "      <td>christopher loh</td>\n",
       "      <td>2</td>\n",
       "    </tr>\n",
       "    <tr>\n",
       "      <th>25</th>\n",
       "      <td>office secretaries</td>\n",
       "      <td>2</td>\n",
       "    </tr>\n",
       "    <tr>\n",
       "      <th>27</th>\n",
       "      <td>sales associate</td>\n",
       "      <td>2</td>\n",
       "    </tr>\n",
       "    <tr>\n",
       "      <th>29</th>\n",
       "      <td>only group</td>\n",
       "      <td>2</td>\n",
       "    </tr>\n",
       "    <tr>\n",
       "      <th>31</th>\n",
       "      <td>prism+</td>\n",
       "      <td>1</td>\n",
       "    </tr>\n",
       "    <tr>\n",
       "      <th>32</th>\n",
       "      <td>ninja van</td>\n",
       "      <td>2</td>\n",
       "    </tr>\n",
       "    <tr>\n",
       "      <th>33</th>\n",
       "      <td>capitaland group</td>\n",
       "      <td>2</td>\n",
       "    </tr>\n",
       "    <tr>\n",
       "      <th>34</th>\n",
       "      <td>fine jewellery</td>\n",
       "      <td>2</td>\n",
       "    </tr>\n",
       "    <tr>\n",
       "      <th>35</th>\n",
       "      <td>motorway group</td>\n",
       "      <td>2</td>\n",
       "    </tr>\n",
       "    <tr>\n",
       "      <th>41</th>\n",
       "      <td>dindinn corp</td>\n",
       "      <td>2</td>\n",
       "    </tr>\n",
       "    <tr>\n",
       "      <th>47</th>\n",
       "      <td>mighty jaxx</td>\n",
       "      <td>2</td>\n",
       "    </tr>\n",
       "    <tr>\n",
       "      <th>48</th>\n",
       "      <td>geniebook</td>\n",
       "      <td>1</td>\n",
       "    </tr>\n",
       "    <tr>\n",
       "      <th>49</th>\n",
       "      <td>singhealth polyclinics</td>\n",
       "      <td>2</td>\n",
       "    </tr>\n",
       "    <tr>\n",
       "      <th>52</th>\n",
       "      <td>autus recruitment</td>\n",
       "      <td>2</td>\n",
       "    </tr>\n",
       "    <tr>\n",
       "      <th>55</th>\n",
       "      <td>sprim</td>\n",
       "      <td>1</td>\n",
       "    </tr>\n",
       "    <tr>\n",
       "      <th>63</th>\n",
       "      <td>castlery</td>\n",
       "      <td>1</td>\n",
       "    </tr>\n",
       "    <tr>\n",
       "      <th>72</th>\n",
       "      <td>pie rda</td>\n",
       "      <td>2</td>\n",
       "    </tr>\n",
       "    <tr>\n",
       "      <th>73</th>\n",
       "      <td>assisi hospice</td>\n",
       "      <td>2</td>\n",
       "    </tr>\n",
       "    <tr>\n",
       "      <th>74</th>\n",
       "      <td>maybank</td>\n",
       "      <td>1</td>\n",
       "    </tr>\n",
       "    <tr>\n",
       "      <th>75</th>\n",
       "      <td>esora</td>\n",
       "      <td>1</td>\n",
       "    </tr>\n",
       "    <tr>\n",
       "      <th>76</th>\n",
       "      <td>janio asia</td>\n",
       "      <td>2</td>\n",
       "    </tr>\n",
       "    <tr>\n",
       "      <th>79</th>\n",
       "      <td>pazzion group</td>\n",
       "      <td>2</td>\n",
       "    </tr>\n",
       "    <tr>\n",
       "      <th>80</th>\n",
       "      <td>vela diagnostics</td>\n",
       "      <td>2</td>\n",
       "    </tr>\n",
       "    <tr>\n",
       "      <th>81</th>\n",
       "      <td>caterpillar singapore</td>\n",
       "      <td>2</td>\n",
       "    </tr>\n",
       "    <tr>\n",
       "      <th>83</th>\n",
       "      <td>temasek club</td>\n",
       "      <td>2</td>\n",
       "    </tr>\n",
       "    <tr>\n",
       "      <th>91</th>\n",
       "      <td>hr focus</td>\n",
       "      <td>2</td>\n",
       "    </tr>\n",
       "    <tr>\n",
       "      <th>92</th>\n",
       "      <td>j org</td>\n",
       "      <td>2</td>\n",
       "    </tr>\n",
       "    <tr>\n",
       "      <th>93</th>\n",
       "      <td>mazars llp</td>\n",
       "      <td>2</td>\n",
       "    </tr>\n",
       "    <tr>\n",
       "      <th>95</th>\n",
       "      <td>sterling risq</td>\n",
       "      <td>2</td>\n",
       "    </tr>\n",
       "    <tr>\n",
       "      <th>103</th>\n",
       "      <td>boys' town</td>\n",
       "      <td>2</td>\n",
       "    </tr>\n",
       "    <tr>\n",
       "      <th>107</th>\n",
       "      <td>district 10</td>\n",
       "      <td>2</td>\n",
       "    </tr>\n",
       "    <tr>\n",
       "      <th>108</th>\n",
       "      <td>dupont</td>\n",
       "      <td>1</td>\n",
       "    </tr>\n",
       "    <tr>\n",
       "      <th>109</th>\n",
       "      <td>recruitment express</td>\n",
       "      <td>2</td>\n",
       "    </tr>\n",
       "    <tr>\n",
       "      <th>110</th>\n",
       "      <td>advisors' clique</td>\n",
       "      <td>2</td>\n",
       "    </tr>\n",
       "    <tr>\n",
       "      <th>113</th>\n",
       "      <td>one championship</td>\n",
       "      <td>2</td>\n",
       "    </tr>\n",
       "  </tbody>\n",
       "</table>\n",
       "</div>"
      ],
      "text/plain": [
       "               company_name  word_length\n",
       "0           tsao foundation            2\n",
       "2     lighthouse evangelism            2\n",
       "3             netlink trust            2\n",
       "4     waterstone consulting            2\n",
       "5                 pwp group            2\n",
       "7               petracarbon            1\n",
       "8           qoo10 singapore            2\n",
       "11              forty forty            2\n",
       "20         white restaurant            2\n",
       "21          christopher loh            2\n",
       "25       office secretaries            2\n",
       "27          sales associate            2\n",
       "29               only group            2\n",
       "31                   prism+            1\n",
       "32                ninja van            2\n",
       "33         capitaland group            2\n",
       "34           fine jewellery            2\n",
       "35           motorway group            2\n",
       "41             dindinn corp            2\n",
       "47              mighty jaxx            2\n",
       "48                geniebook            1\n",
       "49   singhealth polyclinics            2\n",
       "52        autus recruitment            2\n",
       "55                    sprim            1\n",
       "63                 castlery            1\n",
       "72                  pie rda            2\n",
       "73           assisi hospice            2\n",
       "74                  maybank            1\n",
       "75                    esora            1\n",
       "76               janio asia            2\n",
       "79            pazzion group            2\n",
       "80         vela diagnostics            2\n",
       "81    caterpillar singapore            2\n",
       "83             temasek club            2\n",
       "91                 hr focus            2\n",
       "92                    j org            2\n",
       "93               mazars llp            2\n",
       "95            sterling risq            2\n",
       "103              boys' town            2\n",
       "107             district 10            2\n",
       "108                  dupont            1\n",
       "109     recruitment express            2\n",
       "110        advisors' clique            2\n",
       "113        one championship            2"
      ]
     },
     "execution_count": 30,
     "metadata": {},
     "output_type": "execute_result"
    }
   ],
   "source": [
    "low_jobs_postings[low_jobs_postings.word_length<=2]"
   ]
  },
  {
   "cell_type": "code",
   "execution_count": 31,
   "metadata": {},
   "outputs": [],
   "source": [
    "# Manually input\n",
    "company_confidential.loc[[150], [\"company_name\"]] = \"professional investment advisory services - christopher loh\"\n",
    "company_confidential.loc[[285], [\"company_name\"]] = 'ikea tampines'\n",
    "company_confidential.loc[[348], [\"company_name\"]] = \"yuli inc - fine jewellery\"\n",
    "low_jobs_postings = low_jobs_postings.drop([21, 27, 34]).reset_index(drop=True)"
   ]
  },
  {
   "cell_type": "code",
   "execution_count": 32,
   "metadata": {},
   "outputs": [],
   "source": [
    "removal_list = removal_list.company_name.tolist()"
   ]
  },
  {
   "cell_type": "code",
   "execution_count": 33,
   "metadata": {},
   "outputs": [],
   "source": [
    "for index in range(len(company_confidential.company_name)):\n",
    "    if company_confidential.company_name[index] in removal_list:\n",
    "        company_confidential.loc[[index], [\"company_name\"]] = \"Confidential\""
   ]
  },
  {
   "cell_type": "markdown",
   "metadata": {},
   "source": [
    "### To check for company_name for symbols"
   ]
  },
  {
   "cell_type": "code",
   "execution_count": 34,
   "metadata": {},
   "outputs": [
    {
     "data": {
      "text/html": [
       "<div>\n",
       "<style scoped>\n",
       "    .dataframe tbody tr th:only-of-type {\n",
       "        vertical-align: middle;\n",
       "    }\n",
       "\n",
       "    .dataframe tbody tr th {\n",
       "        vertical-align: top;\n",
       "    }\n",
       "\n",
       "    .dataframe thead th {\n",
       "        text-align: right;\n",
       "    }\n",
       "</style>\n",
       "<table border=\"1\" class=\"dataframe\">\n",
       "  <thead>\n",
       "    <tr style=\"text-align: right;\">\n",
       "      <th></th>\n",
       "      <th>company_name</th>\n",
       "    </tr>\n",
       "  </thead>\n",
       "  <tbody>\n",
       "    <tr>\n",
       "      <th>0</th>\n",
       "      <td>jobstudio pte ltd</td>\n",
       "    </tr>\n",
       "    <tr>\n",
       "      <th>1</th>\n",
       "      <td>ideals recruitment pte ltd</td>\n",
       "    </tr>\n",
       "    <tr>\n",
       "      <th>2</th>\n",
       "      <td>rs recruitment agency llp</td>\n",
       "    </tr>\n",
       "    <tr>\n",
       "      <th>3</th>\n",
       "      <td>muslimin trust fund association</td>\n",
       "    </tr>\n",
       "    <tr>\n",
       "      <th>4</th>\n",
       "      <td>recruit express pte ltd</td>\n",
       "    </tr>\n",
       "  </tbody>\n",
       "</table>\n",
       "</div>"
      ],
      "text/plain": [
       "                      company_name\n",
       "0                jobstudio pte ltd\n",
       "1       ideals recruitment pte ltd\n",
       "2        rs recruitment agency llp\n",
       "3  muslimin trust fund association\n",
       "4          recruit express pte ltd"
      ]
     },
     "execution_count": 34,
     "metadata": {},
     "output_type": "execute_result"
    }
   ],
   "source": [
    "company_confidential.loc[(company_confidential.company_name!= \"Confidential\"), [\"company_name\"]].head()"
   ]
  },
  {
   "cell_type": "code",
   "execution_count": 35,
   "metadata": {},
   "outputs": [
    {
     "data": {
      "text/plain": [
       "[(['-'], 99, 'tele-centre services pte ltd'),\n",
       " (['-'], 112, 'hi-p international limited'),\n",
       " (['&', '-'],\n",
       "  121,\n",
       "  'sentosa development corporation & subsidiaries (part-time)'),\n",
       " (['-'], 150, 'professional investment advisory services - christopher loh')]"
      ]
     },
     "execution_count": 35,
     "metadata": {},
     "output_type": "execute_result"
    }
   ],
   "source": [
    "# To check for symbols /, -\n",
    "reg_exp = r'\\-|\\/|\\&'\n",
    "symbols = company_confidential['company_name'].apply(lambda x:re.findall(reg_exp,x))\n",
    "[(symbols[i], i, company_confidential['company_name'][i]) for i in range(len(symbols)) if symbols[i]!=[]][1:5]"
   ]
  },
  {
   "cell_type": "code",
   "execution_count": 36,
   "metadata": {},
   "outputs": [],
   "source": [
    "company_confidential.loc[[121],[\"company_name\"]] = company_confidential.loc[[121],[\"company_name\"]].replace(\" (part-time)\", \"\")"
   ]
  },
  {
   "cell_type": "code",
   "execution_count": 37,
   "metadata": {},
   "outputs": [],
   "source": [
    "company_confidential[\"division\"] = np.nan"
   ]
  },
  {
   "cell_type": "code",
   "execution_count": 38,
   "metadata": {},
   "outputs": [],
   "source": [
    "for index in range(len(company_confidential.company_name)):\n",
    "    if company_confidential.company_name[index] == \"capita pte ltd – temp & contract\":\n",
    "        company_confidential.loc[[index],[\"company_name\"]] = 'capita pte ltd'\n",
    "        company_confidential.loc[[index], [\"division\"]] = \"temp & contract\""
   ]
  },
  {
   "cell_type": "code",
   "execution_count": 39,
   "metadata": {
    "scrolled": true
   },
   "outputs": [
    {
     "data": {
      "text/plain": [
       "array(['capita pte ltd',\n",
       "       'persol singapore (a division of capita pte ltd)'], dtype=object)"
      ]
     },
     "execution_count": 39,
     "metadata": {},
     "output_type": "execute_result"
    }
   ],
   "source": [
    "company_confidential.company_name[company_confidential.company_name.str.contains(\"capita pte ltd\")].unique()"
   ]
  },
  {
   "cell_type": "code",
   "execution_count": 40,
   "metadata": {},
   "outputs": [
    {
     "data": {
      "text/html": [
       "<div>\n",
       "<style scoped>\n",
       "    .dataframe tbody tr th:only-of-type {\n",
       "        vertical-align: middle;\n",
       "    }\n",
       "\n",
       "    .dataframe tbody tr th {\n",
       "        vertical-align: top;\n",
       "    }\n",
       "\n",
       "    .dataframe thead th {\n",
       "        text-align: right;\n",
       "    }\n",
       "</style>\n",
       "<table border=\"1\" class=\"dataframe\">\n",
       "  <thead>\n",
       "    <tr style=\"text-align: right;\">\n",
       "      <th></th>\n",
       "      <th>job_id</th>\n",
       "      <th>job_title</th>\n",
       "      <th>job_description</th>\n",
       "      <th>date_posted</th>\n",
       "      <th>company_name</th>\n",
       "      <th>division</th>\n",
       "    </tr>\n",
       "  </thead>\n",
       "  <tbody>\n",
       "    <tr>\n",
       "      <th>0</th>\n",
       "      <td>2bdd91d7794575aaefee738ef6c831f7129fe6172f713c...</td>\n",
       "      <td>temporary 3-6months admin assistant (office ho...</td>\n",
       "      <td>Monday to Friday Office hoursLocation : Buona ...</td>\n",
       "      <td>2020-11-14</td>\n",
       "      <td>jobstudio pte ltd</td>\n",
       "      <td>NaN</td>\n",
       "    </tr>\n",
       "    <tr>\n",
       "      <th>1</th>\n",
       "      <td>458658ef725f6384d4c056f6a8b01747331ba7c3c5c2e5...</td>\n",
       "      <td>automotive software engineers (c programming /...</td>\n",
       "      <td>&amp;bull; MNC&amp;bull; $3500 - $6000 Basic + AWS + V...</td>\n",
       "      <td>2020-11-15</td>\n",
       "      <td>ideals recruitment pte ltd</td>\n",
       "      <td>NaN</td>\n",
       "    </tr>\n",
       "    <tr>\n",
       "      <th>2</th>\n",
       "      <td>0e2237ae429ed3e93cebe3a77be1ee71b45400b7259c65...</td>\n",
       "      <td>qa / qc manager (construction) (dredging) (2 y...</td>\n",
       "      <td>MNC&lt;br/&gt;2 years contract&lt;br/&gt;Good benefits&lt;br/...</td>\n",
       "      <td>2020-11-27</td>\n",
       "      <td>rs recruitment agency llp</td>\n",
       "      <td>NaN</td>\n",
       "    </tr>\n",
       "    <tr>\n",
       "      <th>3</th>\n",
       "      <td>9df231dea41ab31676809589715e2520a603f074ab14dd...</td>\n",
       "      <td>executive officer - muslimin trust fund associ...</td>\n",
       "      <td>Responsibilities:&lt;br/&gt;&lt;br/&gt;Executing administr...</td>\n",
       "      <td>2020-11-27</td>\n",
       "      <td>muslimin trust fund association</td>\n",
       "      <td>NaN</td>\n",
       "    </tr>\n",
       "    <tr>\n",
       "      <th>4</th>\n",
       "      <td>1841d7ef254cfc426b3158cf05541953864acd0145ceb7...</td>\n",
       "      <td>1 year contract general ledger executive assis...</td>\n",
       "      <td>Job Scope:&lt;br/&gt;Handle day-to-day financial mat...</td>\n",
       "      <td>2020-11-15</td>\n",
       "      <td>recruit express pte ltd</td>\n",
       "      <td>NaN</td>\n",
       "    </tr>\n",
       "  </tbody>\n",
       "</table>\n",
       "</div>"
      ],
      "text/plain": [
       "                                              job_id  \\\n",
       "0  2bdd91d7794575aaefee738ef6c831f7129fe6172f713c...   \n",
       "1  458658ef725f6384d4c056f6a8b01747331ba7c3c5c2e5...   \n",
       "2  0e2237ae429ed3e93cebe3a77be1ee71b45400b7259c65...   \n",
       "3  9df231dea41ab31676809589715e2520a603f074ab14dd...   \n",
       "4  1841d7ef254cfc426b3158cf05541953864acd0145ceb7...   \n",
       "\n",
       "                                           job_title  \\\n",
       "0  temporary 3-6months admin assistant (office ho...   \n",
       "1  automotive software engineers (c programming /...   \n",
       "2  qa / qc manager (construction) (dredging) (2 y...   \n",
       "3  executive officer - muslimin trust fund associ...   \n",
       "4  1 year contract general ledger executive assis...   \n",
       "\n",
       "                                     job_description date_posted  \\\n",
       "0  Monday to Friday Office hoursLocation : Buona ...  2020-11-14   \n",
       "1  &bull; MNC&bull; $3500 - $6000 Basic + AWS + V...  2020-11-15   \n",
       "2  MNC<br/>2 years contract<br/>Good benefits<br/...  2020-11-27   \n",
       "3  Responsibilities:<br/><br/>Executing administr...  2020-11-27   \n",
       "4  Job Scope:<br/>Handle day-to-day financial mat...  2020-11-15   \n",
       "\n",
       "                      company_name division  \n",
       "0                jobstudio pte ltd      NaN  \n",
       "1       ideals recruitment pte ltd      NaN  \n",
       "2        rs recruitment agency llp      NaN  \n",
       "3  muslimin trust fund association      NaN  \n",
       "4          recruit express pte ltd      NaN  "
      ]
     },
     "execution_count": 40,
     "metadata": {},
     "output_type": "execute_result"
    }
   ],
   "source": [
    "company_confidential.head()"
   ]
  },
  {
   "cell_type": "markdown",
   "metadata": {},
   "source": [
    "### To check for company_name for null and confidential"
   ]
  },
  {
   "cell_type": "code",
   "execution_count": 41,
   "metadata": {},
   "outputs": [],
   "source": [
    "query_company = company_confidential[company_confidential['company_name'] == \"Confidential\"].reset_index(drop=True)"
   ]
  },
  {
   "cell_type": "code",
   "execution_count": 42,
   "metadata": {},
   "outputs": [
    {
     "data": {
      "text/plain": [
       "(141, 6)"
      ]
     },
     "execution_count": 42,
     "metadata": {},
     "output_type": "execute_result"
    }
   ],
   "source": [
    "query_company.shape"
   ]
  },
  {
   "cell_type": "code",
   "execution_count": 43,
   "metadata": {},
   "outputs": [
    {
     "data": {
      "text/html": [
       "<div>\n",
       "<style scoped>\n",
       "    .dataframe tbody tr th:only-of-type {\n",
       "        vertical-align: middle;\n",
       "    }\n",
       "\n",
       "    .dataframe tbody tr th {\n",
       "        vertical-align: top;\n",
       "    }\n",
       "\n",
       "    .dataframe thead th {\n",
       "        text-align: right;\n",
       "    }\n",
       "</style>\n",
       "<table border=\"1\" class=\"dataframe\">\n",
       "  <thead>\n",
       "    <tr style=\"text-align: right;\">\n",
       "      <th></th>\n",
       "      <th>job_id</th>\n",
       "      <th>job_title</th>\n",
       "      <th>job_description</th>\n",
       "      <th>date_posted</th>\n",
       "      <th>company_name</th>\n",
       "      <th>division</th>\n",
       "    </tr>\n",
       "  </thead>\n",
       "  <tbody>\n",
       "    <tr>\n",
       "      <th>0</th>\n",
       "      <td>e74521a5be72280b591d59d49c80f0df464cc690adedc9...</td>\n",
       "      <td>analyst, data -</td>\n",
       "      <td>ResponsibilitiesDive into data sets affecting ...</td>\n",
       "      <td>2020-11-22</td>\n",
       "      <td>Confidential</td>\n",
       "      <td>NaN</td>\n",
       "    </tr>\n",
       "    <tr>\n",
       "      <th>1</th>\n",
       "      <td>f4a814b42728c6e8568e1fdb8ea576d9b7bc298e20fe10...</td>\n",
       "      <td>⚡sweets packer @ west (start asap, min 3 month...</td>\n",
       "      <td>⚡Sweets Packer @ West (START ASAP, Min 3 month...</td>\n",
       "      <td>2020-11-20</td>\n",
       "      <td>Confidential</td>\n",
       "      <td>NaN</td>\n",
       "    </tr>\n",
       "    <tr>\n",
       "      <th>2</th>\n",
       "      <td>551b9831be1a5a292dc3cb5002b5521a4def33e433c667...</td>\n",
       "      <td>senior / software engineer -</td>\n",
       "      <td>Responsibilities:&lt;br/&gt;&lt;br/&gt;Develop and enhance...</td>\n",
       "      <td>2020-11-11</td>\n",
       "      <td>Confidential</td>\n",
       "      <td>NaN</td>\n",
       "    </tr>\n",
       "    <tr>\n",
       "      <th>3</th>\n",
       "      <td>f2769f5cee61c3519fdef74454367a9d5715083efb9207...</td>\n",
       "      <td>formwork supervisor (rc structural works) -</td>\n",
       "      <td>Responsibilities&lt;br/&gt;&lt;br/&gt;To supervise and man...</td>\n",
       "      <td>2020-11-21</td>\n",
       "      <td>Confidential</td>\n",
       "      <td>NaN</td>\n",
       "    </tr>\n",
       "    <tr>\n",
       "      <th>4</th>\n",
       "      <td>5b120b5f00be814d19b68ba47ce7498e57a76af5bb8ad3...</td>\n",
       "      <td>hr executive cum purchaser -</td>\n",
       "      <td>Responsibilities:&lt;br/&gt;Assisting in full spectr...</td>\n",
       "      <td>2020-11-10</td>\n",
       "      <td>Confidential</td>\n",
       "      <td>NaN</td>\n",
       "    </tr>\n",
       "  </tbody>\n",
       "</table>\n",
       "</div>"
      ],
      "text/plain": [
       "                                              job_id  \\\n",
       "0  e74521a5be72280b591d59d49c80f0df464cc690adedc9...   \n",
       "1  f4a814b42728c6e8568e1fdb8ea576d9b7bc298e20fe10...   \n",
       "2  551b9831be1a5a292dc3cb5002b5521a4def33e433c667...   \n",
       "3  f2769f5cee61c3519fdef74454367a9d5715083efb9207...   \n",
       "4  5b120b5f00be814d19b68ba47ce7498e57a76af5bb8ad3...   \n",
       "\n",
       "                                           job_title  \\\n",
       "0                                    analyst, data -   \n",
       "1  ⚡sweets packer @ west (start asap, min 3 month...   \n",
       "2                       senior / software engineer -   \n",
       "3        formwork supervisor (rc structural works) -   \n",
       "4                       hr executive cum purchaser -   \n",
       "\n",
       "                                     job_description date_posted  \\\n",
       "0  ResponsibilitiesDive into data sets affecting ...  2020-11-22   \n",
       "1  ⚡Sweets Packer @ West (START ASAP, Min 3 month...  2020-11-20   \n",
       "2  Responsibilities:<br/><br/>Develop and enhance...  2020-11-11   \n",
       "3  Responsibilities<br/><br/>To supervise and man...  2020-11-21   \n",
       "4  Responsibilities:<br/>Assisting in full spectr...  2020-11-10   \n",
       "\n",
       "   company_name division  \n",
       "0  Confidential      NaN  \n",
       "1  Confidential      NaN  \n",
       "2  Confidential      NaN  \n",
       "3  Confidential      NaN  \n",
       "4  Confidential      NaN  "
      ]
     },
     "execution_count": 43,
     "metadata": {},
     "output_type": "execute_result"
    }
   ],
   "source": [
    "query_company.head()"
   ]
  },
  {
   "cell_type": "code",
   "execution_count": 44,
   "metadata": {},
   "outputs": [],
   "source": [
    "tokenizer_1 = RegexpTokenizer('<br\\/>>|<br\\/>|\\]|\\||\\.', gaps=True)\n",
    "\n",
    "# Run tokenizer.\n",
    "for number in range(len(query_company['job_description'])):\n",
    "    tokenized_paragraph = tokenizer_1.tokenize(query_company.job_description[number])\n",
    "    for word in tokenized_paragraph:\n",
    "        if \"pte ltd\" in word.lower():\n",
    "            query_company.loc[[number],['company_name']] = word.lower()"
   ]
  },
  {
   "cell_type": "code",
   "execution_count": 45,
   "metadata": {},
   "outputs": [
    {
     "data": {
      "text/plain": [
       "(23, 6)"
      ]
     },
     "execution_count": 45,
     "metadata": {},
     "output_type": "execute_result"
    }
   ],
   "source": [
    "query_company[query_company['company_name'] != \"Confidential\"].shape"
   ]
  },
  {
   "cell_type": "code",
   "execution_count": 46,
   "metadata": {},
   "outputs": [],
   "source": [
    "reg_exp = r'([a-z]+).(pte).(ltd)|([a-z]+).([a-z]+).(pte).(ltd)|([a-z]+).([a-z]+).([a-z]+).(pte).(ltd)|([a-z]+).([a-z]+).([a-z]+).([a-z]+).(pte).(ltd)'\n",
    "symbols = query_company['company_name'].str.lower().apply(lambda x:re.findall(reg_exp,x))\n",
    "symbols_list = [(symbols[i], i) for i in range(len(symbols)) if symbols[i]!=[]]"
   ]
  },
  {
   "cell_type": "code",
   "execution_count": 47,
   "metadata": {
    "scrolled": false
   },
   "outputs": [
    {
     "data": {
      "text/plain": [
       "22"
      ]
     },
     "execution_count": 47,
     "metadata": {},
     "output_type": "execute_result"
    }
   ],
   "source": [
    "len(symbols_list)"
   ]
  },
  {
   "cell_type": "code",
   "execution_count": 48,
   "metadata": {},
   "outputs": [],
   "source": [
    "query_company[\"company_name_extract\"] = np.nan"
   ]
  },
  {
   "cell_type": "code",
   "execution_count": 49,
   "metadata": {},
   "outputs": [],
   "source": [
    "for i in range(len(symbols_list)):\n",
    "    query_company.loc[[symbols_list[i][1]],[\"company_name_extract\"]] = \" \".join(symbols_list[i][0][0]).strip()"
   ]
  },
  {
   "cell_type": "code",
   "execution_count": 50,
   "metadata": {},
   "outputs": [
    {
     "data": {
      "text/plain": [
       "(23, 7)"
      ]
     },
     "execution_count": 50,
     "metadata": {},
     "output_type": "execute_result"
    }
   ],
   "source": [
    "query_company[query_company['company_name'] != \"Confidential\"].shape"
   ]
  },
  {
   "cell_type": "code",
   "execution_count": 51,
   "metadata": {},
   "outputs": [],
   "source": [
    "query_company.loc[[29],['company_name_extract']] = query_company['company_name'][29]\n",
    "query_company.loc[[38],['company_name_extract']] = query_company['company_name_extract'][38].replace(\"including \", \"\")\n",
    "query_company.loc[[102],['company_name_extract']] = query_company['company_name_extract'][102].replace(\"gkmy \", \"\")"
   ]
  },
  {
   "cell_type": "code",
   "execution_count": 52,
   "metadata": {},
   "outputs": [
    {
     "data": {
      "text/html": [
       "<div>\n",
       "<style scoped>\n",
       "    .dataframe tbody tr th:only-of-type {\n",
       "        vertical-align: middle;\n",
       "    }\n",
       "\n",
       "    .dataframe tbody tr th {\n",
       "        vertical-align: top;\n",
       "    }\n",
       "\n",
       "    .dataframe thead th {\n",
       "        text-align: right;\n",
       "    }\n",
       "</style>\n",
       "<table border=\"1\" class=\"dataframe\">\n",
       "  <thead>\n",
       "    <tr style=\"text-align: right;\">\n",
       "      <th></th>\n",
       "      <th>job_id</th>\n",
       "      <th>job_title</th>\n",
       "      <th>job_description</th>\n",
       "      <th>date_posted</th>\n",
       "      <th>company_name</th>\n",
       "      <th>division</th>\n",
       "      <th>company_name_extract</th>\n",
       "    </tr>\n",
       "  </thead>\n",
       "  <tbody>\n",
       "    <tr>\n",
       "      <th>0</th>\n",
       "      <td>e74521a5be72280b591d59d49c80f0df464cc690adedc9...</td>\n",
       "      <td>analyst, data -</td>\n",
       "      <td>ResponsibilitiesDive into data sets affecting ...</td>\n",
       "      <td>2020-11-22</td>\n",
       "      <td>Confidential</td>\n",
       "      <td>NaN</td>\n",
       "      <td>NaN</td>\n",
       "    </tr>\n",
       "    <tr>\n",
       "      <th>1</th>\n",
       "      <td>f4a814b42728c6e8568e1fdb8ea576d9b7bc298e20fe10...</td>\n",
       "      <td>⚡sweets packer @ west (start asap, min 3 month...</td>\n",
       "      <td>⚡Sweets Packer @ West (START ASAP, Min 3 month...</td>\n",
       "      <td>2020-11-20</td>\n",
       "      <td>rapid recruitment asia pte ltd</td>\n",
       "      <td>NaN</td>\n",
       "      <td>rapid recruitment asia pte ltd</td>\n",
       "    </tr>\n",
       "    <tr>\n",
       "      <th>2</th>\n",
       "      <td>551b9831be1a5a292dc3cb5002b5521a4def33e433c667...</td>\n",
       "      <td>senior / software engineer -</td>\n",
       "      <td>Responsibilities:&lt;br/&gt;&lt;br/&gt;Develop and enhance...</td>\n",
       "      <td>2020-11-11</td>\n",
       "      <td>Confidential</td>\n",
       "      <td>NaN</td>\n",
       "      <td>NaN</td>\n",
       "    </tr>\n",
       "    <tr>\n",
       "      <th>3</th>\n",
       "      <td>f2769f5cee61c3519fdef74454367a9d5715083efb9207...</td>\n",
       "      <td>formwork supervisor (rc structural works) -</td>\n",
       "      <td>Responsibilities&lt;br/&gt;&lt;br/&gt;To supervise and man...</td>\n",
       "      <td>2020-11-21</td>\n",
       "      <td>Confidential</td>\n",
       "      <td>NaN</td>\n",
       "      <td>NaN</td>\n",
       "    </tr>\n",
       "    <tr>\n",
       "      <th>4</th>\n",
       "      <td>5b120b5f00be814d19b68ba47ce7498e57a76af5bb8ad3...</td>\n",
       "      <td>hr executive cum purchaser -</td>\n",
       "      <td>Responsibilities:&lt;br/&gt;Assisting in full spectr...</td>\n",
       "      <td>2020-11-10</td>\n",
       "      <td>Confidential</td>\n",
       "      <td>NaN</td>\n",
       "      <td>NaN</td>\n",
       "    </tr>\n",
       "  </tbody>\n",
       "</table>\n",
       "</div>"
      ],
      "text/plain": [
       "                                              job_id  \\\n",
       "0  e74521a5be72280b591d59d49c80f0df464cc690adedc9...   \n",
       "1  f4a814b42728c6e8568e1fdb8ea576d9b7bc298e20fe10...   \n",
       "2  551b9831be1a5a292dc3cb5002b5521a4def33e433c667...   \n",
       "3  f2769f5cee61c3519fdef74454367a9d5715083efb9207...   \n",
       "4  5b120b5f00be814d19b68ba47ce7498e57a76af5bb8ad3...   \n",
       "\n",
       "                                           job_title  \\\n",
       "0                                    analyst, data -   \n",
       "1  ⚡sweets packer @ west (start asap, min 3 month...   \n",
       "2                       senior / software engineer -   \n",
       "3        formwork supervisor (rc structural works) -   \n",
       "4                       hr executive cum purchaser -   \n",
       "\n",
       "                                     job_description date_posted  \\\n",
       "0  ResponsibilitiesDive into data sets affecting ...  2020-11-22   \n",
       "1  ⚡Sweets Packer @ West (START ASAP, Min 3 month...  2020-11-20   \n",
       "2  Responsibilities:<br/><br/>Develop and enhance...  2020-11-11   \n",
       "3  Responsibilities<br/><br/>To supervise and man...  2020-11-21   \n",
       "4  Responsibilities:<br/>Assisting in full spectr...  2020-11-10   \n",
       "\n",
       "                      company_name division            company_name_extract  \n",
       "0                     Confidential      NaN                             NaN  \n",
       "1  rapid recruitment asia pte ltd       NaN  rapid recruitment asia pte ltd  \n",
       "2                     Confidential      NaN                             NaN  \n",
       "3                     Confidential      NaN                             NaN  \n",
       "4                     Confidential      NaN                             NaN  "
      ]
     },
     "execution_count": 52,
     "metadata": {},
     "output_type": "execute_result"
    }
   ],
   "source": [
    "query_company.head()"
   ]
  },
  {
   "cell_type": "code",
   "execution_count": 53,
   "metadata": {},
   "outputs": [
    {
     "data": {
      "text/html": [
       "<div>\n",
       "<style scoped>\n",
       "    .dataframe tbody tr th:only-of-type {\n",
       "        vertical-align: middle;\n",
       "    }\n",
       "\n",
       "    .dataframe tbody tr th {\n",
       "        vertical-align: top;\n",
       "    }\n",
       "\n",
       "    .dataframe thead th {\n",
       "        text-align: right;\n",
       "    }\n",
       "</style>\n",
       "<table border=\"1\" class=\"dataframe\">\n",
       "  <thead>\n",
       "    <tr style=\"text-align: right;\">\n",
       "      <th></th>\n",
       "      <th>job_id</th>\n",
       "      <th>job_title</th>\n",
       "      <th>job_description</th>\n",
       "      <th>date_posted</th>\n",
       "      <th>company_name</th>\n",
       "      <th>division</th>\n",
       "      <th>company_name_extract</th>\n",
       "    </tr>\n",
       "  </thead>\n",
       "  <tbody>\n",
       "    <tr>\n",
       "      <th>0</th>\n",
       "      <td>e74521a5be72280b591d59d49c80f0df464cc690adedc9...</td>\n",
       "      <td>analyst, data -</td>\n",
       "      <td>ResponsibilitiesDive into data sets affecting ...</td>\n",
       "      <td>2020-11-22</td>\n",
       "      <td>Confidential</td>\n",
       "      <td>NaN</td>\n",
       "      <td>NaN</td>\n",
       "    </tr>\n",
       "    <tr>\n",
       "      <th>2</th>\n",
       "      <td>551b9831be1a5a292dc3cb5002b5521a4def33e433c667...</td>\n",
       "      <td>senior / software engineer -</td>\n",
       "      <td>Responsibilities:&lt;br/&gt;&lt;br/&gt;Develop and enhance...</td>\n",
       "      <td>2020-11-11</td>\n",
       "      <td>Confidential</td>\n",
       "      <td>NaN</td>\n",
       "      <td>NaN</td>\n",
       "    </tr>\n",
       "    <tr>\n",
       "      <th>3</th>\n",
       "      <td>f2769f5cee61c3519fdef74454367a9d5715083efb9207...</td>\n",
       "      <td>formwork supervisor (rc structural works) -</td>\n",
       "      <td>Responsibilities&lt;br/&gt;&lt;br/&gt;To supervise and man...</td>\n",
       "      <td>2020-11-21</td>\n",
       "      <td>Confidential</td>\n",
       "      <td>NaN</td>\n",
       "      <td>NaN</td>\n",
       "    </tr>\n",
       "    <tr>\n",
       "      <th>4</th>\n",
       "      <td>5b120b5f00be814d19b68ba47ce7498e57a76af5bb8ad3...</td>\n",
       "      <td>hr executive cum purchaser -</td>\n",
       "      <td>Responsibilities:&lt;br/&gt;Assisting in full spectr...</td>\n",
       "      <td>2020-11-10</td>\n",
       "      <td>Confidential</td>\n",
       "      <td>NaN</td>\n",
       "      <td>NaN</td>\n",
       "    </tr>\n",
       "    <tr>\n",
       "      <th>5</th>\n",
       "      <td>5aa573125c67b8518588b4e5b35b50e3015beccbc4fdeb...</td>\n",
       "      <td>costing accountant (cambodia)</td>\n",
       "      <td>Experiences in Manufacturing industry &amp;acirc;&amp;...</td>\n",
       "      <td>2020-11-19</td>\n",
       "      <td>Confidential</td>\n",
       "      <td>NaN</td>\n",
       "      <td>NaN</td>\n",
       "    </tr>\n",
       "  </tbody>\n",
       "</table>\n",
       "</div>"
      ],
      "text/plain": [
       "                                              job_id  \\\n",
       "0  e74521a5be72280b591d59d49c80f0df464cc690adedc9...   \n",
       "2  551b9831be1a5a292dc3cb5002b5521a4def33e433c667...   \n",
       "3  f2769f5cee61c3519fdef74454367a9d5715083efb9207...   \n",
       "4  5b120b5f00be814d19b68ba47ce7498e57a76af5bb8ad3...   \n",
       "5  5aa573125c67b8518588b4e5b35b50e3015beccbc4fdeb...   \n",
       "\n",
       "                                     job_title  \\\n",
       "0                              analyst, data -   \n",
       "2                 senior / software engineer -   \n",
       "3  formwork supervisor (rc structural works) -   \n",
       "4                 hr executive cum purchaser -   \n",
       "5                costing accountant (cambodia)   \n",
       "\n",
       "                                     job_description date_posted  \\\n",
       "0  ResponsibilitiesDive into data sets affecting ...  2020-11-22   \n",
       "2  Responsibilities:<br/><br/>Develop and enhance...  2020-11-11   \n",
       "3  Responsibilities<br/><br/>To supervise and man...  2020-11-21   \n",
       "4  Responsibilities:<br/>Assisting in full spectr...  2020-11-10   \n",
       "5  Experiences in Manufacturing industry &acirc;&...  2020-11-19   \n",
       "\n",
       "   company_name division company_name_extract  \n",
       "0  Confidential      NaN                  NaN  \n",
       "2  Confidential      NaN                  NaN  \n",
       "3  Confidential      NaN                  NaN  \n",
       "4  Confidential      NaN                  NaN  \n",
       "5  Confidential      NaN                  NaN  "
      ]
     },
     "execution_count": 53,
     "metadata": {},
     "output_type": "execute_result"
    }
   ],
   "source": [
    "query_company[query_company['company_name'] == \"Confidential\"].head()"
   ]
  },
  {
   "cell_type": "code",
   "execution_count": 54,
   "metadata": {},
   "outputs": [],
   "source": [
    "query_company.loc[(query_company.company_name_extract.isnull()), [\"company_name_extract\"]] = \"Confidential\""
   ]
  },
  {
   "cell_type": "code",
   "execution_count": 55,
   "metadata": {},
   "outputs": [],
   "source": [
    "query_company = query_company.drop([\"company_name\"], axis = 1)\n",
    "query_company = query_company.rename({\"company_name_extract\":\"company_name\"}, axis = 1)"
   ]
  },
  {
   "cell_type": "code",
   "execution_count": 56,
   "metadata": {},
   "outputs": [
    {
     "data": {
      "text/html": [
       "<div>\n",
       "<style scoped>\n",
       "    .dataframe tbody tr th:only-of-type {\n",
       "        vertical-align: middle;\n",
       "    }\n",
       "\n",
       "    .dataframe tbody tr th {\n",
       "        vertical-align: top;\n",
       "    }\n",
       "\n",
       "    .dataframe thead th {\n",
       "        text-align: right;\n",
       "    }\n",
       "</style>\n",
       "<table border=\"1\" class=\"dataframe\">\n",
       "  <thead>\n",
       "    <tr style=\"text-align: right;\">\n",
       "      <th></th>\n",
       "      <th>job_id</th>\n",
       "      <th>job_title</th>\n",
       "      <th>job_description</th>\n",
       "      <th>date_posted</th>\n",
       "      <th>division</th>\n",
       "      <th>company_name</th>\n",
       "    </tr>\n",
       "  </thead>\n",
       "  <tbody>\n",
       "    <tr>\n",
       "      <th>0</th>\n",
       "      <td>e74521a5be72280b591d59d49c80f0df464cc690adedc9...</td>\n",
       "      <td>analyst, data -</td>\n",
       "      <td>ResponsibilitiesDive into data sets affecting ...</td>\n",
       "      <td>2020-11-22</td>\n",
       "      <td>NaN</td>\n",
       "      <td>Confidential</td>\n",
       "    </tr>\n",
       "    <tr>\n",
       "      <th>1</th>\n",
       "      <td>f4a814b42728c6e8568e1fdb8ea576d9b7bc298e20fe10...</td>\n",
       "      <td>⚡sweets packer @ west (start asap, min 3 month...</td>\n",
       "      <td>⚡Sweets Packer @ West (START ASAP, Min 3 month...</td>\n",
       "      <td>2020-11-20</td>\n",
       "      <td>NaN</td>\n",
       "      <td>rapid recruitment asia pte ltd</td>\n",
       "    </tr>\n",
       "    <tr>\n",
       "      <th>2</th>\n",
       "      <td>551b9831be1a5a292dc3cb5002b5521a4def33e433c667...</td>\n",
       "      <td>senior / software engineer -</td>\n",
       "      <td>Responsibilities:&lt;br/&gt;&lt;br/&gt;Develop and enhance...</td>\n",
       "      <td>2020-11-11</td>\n",
       "      <td>NaN</td>\n",
       "      <td>Confidential</td>\n",
       "    </tr>\n",
       "    <tr>\n",
       "      <th>3</th>\n",
       "      <td>f2769f5cee61c3519fdef74454367a9d5715083efb9207...</td>\n",
       "      <td>formwork supervisor (rc structural works) -</td>\n",
       "      <td>Responsibilities&lt;br/&gt;&lt;br/&gt;To supervise and man...</td>\n",
       "      <td>2020-11-21</td>\n",
       "      <td>NaN</td>\n",
       "      <td>Confidential</td>\n",
       "    </tr>\n",
       "    <tr>\n",
       "      <th>4</th>\n",
       "      <td>5b120b5f00be814d19b68ba47ce7498e57a76af5bb8ad3...</td>\n",
       "      <td>hr executive cum purchaser -</td>\n",
       "      <td>Responsibilities:&lt;br/&gt;Assisting in full spectr...</td>\n",
       "      <td>2020-11-10</td>\n",
       "      <td>NaN</td>\n",
       "      <td>Confidential</td>\n",
       "    </tr>\n",
       "  </tbody>\n",
       "</table>\n",
       "</div>"
      ],
      "text/plain": [
       "                                              job_id  \\\n",
       "0  e74521a5be72280b591d59d49c80f0df464cc690adedc9...   \n",
       "1  f4a814b42728c6e8568e1fdb8ea576d9b7bc298e20fe10...   \n",
       "2  551b9831be1a5a292dc3cb5002b5521a4def33e433c667...   \n",
       "3  f2769f5cee61c3519fdef74454367a9d5715083efb9207...   \n",
       "4  5b120b5f00be814d19b68ba47ce7498e57a76af5bb8ad3...   \n",
       "\n",
       "                                           job_title  \\\n",
       "0                                    analyst, data -   \n",
       "1  ⚡sweets packer @ west (start asap, min 3 month...   \n",
       "2                       senior / software engineer -   \n",
       "3        formwork supervisor (rc structural works) -   \n",
       "4                       hr executive cum purchaser -   \n",
       "\n",
       "                                     job_description date_posted division  \\\n",
       "0  ResponsibilitiesDive into data sets affecting ...  2020-11-22      NaN   \n",
       "1  ⚡Sweets Packer @ West (START ASAP, Min 3 month...  2020-11-20      NaN   \n",
       "2  Responsibilities:<br/><br/>Develop and enhance...  2020-11-11      NaN   \n",
       "3  Responsibilities<br/><br/>To supervise and man...  2020-11-21      NaN   \n",
       "4  Responsibilities:<br/>Assisting in full spectr...  2020-11-10      NaN   \n",
       "\n",
       "                     company_name  \n",
       "0                    Confidential  \n",
       "1  rapid recruitment asia pte ltd  \n",
       "2                    Confidential  \n",
       "3                    Confidential  \n",
       "4                    Confidential  "
      ]
     },
     "execution_count": 56,
     "metadata": {},
     "output_type": "execute_result"
    }
   ],
   "source": [
    "query_company.head()"
   ]
  },
  {
   "cell_type": "markdown",
   "metadata": {},
   "source": [
    "### Merge with main dataframe"
   ]
  },
  {
   "cell_type": "code",
   "execution_count": 57,
   "metadata": {},
   "outputs": [],
   "source": [
    "company_nonconfidential = company_confidential[company_confidential.company_name != \"Confidential\"]"
   ]
  },
  {
   "cell_type": "code",
   "execution_count": 58,
   "metadata": {},
   "outputs": [],
   "source": [
    "company_confidential = pd.concat([company_nonconfidential, query_company], axis = 0).reset_index(drop=True)"
   ]
  },
  {
   "cell_type": "code",
   "execution_count": 59,
   "metadata": {},
   "outputs": [
    {
     "data": {
      "text/html": [
       "<div>\n",
       "<style scoped>\n",
       "    .dataframe tbody tr th:only-of-type {\n",
       "        vertical-align: middle;\n",
       "    }\n",
       "\n",
       "    .dataframe tbody tr th {\n",
       "        vertical-align: top;\n",
       "    }\n",
       "\n",
       "    .dataframe thead th {\n",
       "        text-align: right;\n",
       "    }\n",
       "</style>\n",
       "<table border=\"1\" class=\"dataframe\">\n",
       "  <thead>\n",
       "    <tr style=\"text-align: right;\">\n",
       "      <th></th>\n",
       "      <th>job_id</th>\n",
       "      <th>job_title</th>\n",
       "      <th>job_description</th>\n",
       "      <th>date_posted</th>\n",
       "      <th>company_name</th>\n",
       "      <th>division</th>\n",
       "    </tr>\n",
       "  </thead>\n",
       "  <tbody>\n",
       "    <tr>\n",
       "      <th>0</th>\n",
       "      <td>2bdd91d7794575aaefee738ef6c831f7129fe6172f713c...</td>\n",
       "      <td>temporary 3-6months admin assistant (office ho...</td>\n",
       "      <td>Monday to Friday Office hoursLocation : Buona ...</td>\n",
       "      <td>2020-11-14</td>\n",
       "      <td>jobstudio pte ltd</td>\n",
       "      <td>NaN</td>\n",
       "    </tr>\n",
       "    <tr>\n",
       "      <th>1</th>\n",
       "      <td>458658ef725f6384d4c056f6a8b01747331ba7c3c5c2e5...</td>\n",
       "      <td>automotive software engineers (c programming /...</td>\n",
       "      <td>&amp;bull; MNC&amp;bull; $3500 - $6000 Basic + AWS + V...</td>\n",
       "      <td>2020-11-15</td>\n",
       "      <td>ideals recruitment pte ltd</td>\n",
       "      <td>NaN</td>\n",
       "    </tr>\n",
       "    <tr>\n",
       "      <th>2</th>\n",
       "      <td>0e2237ae429ed3e93cebe3a77be1ee71b45400b7259c65...</td>\n",
       "      <td>qa / qc manager (construction) (dredging) (2 y...</td>\n",
       "      <td>MNC&lt;br/&gt;2 years contract&lt;br/&gt;Good benefits&lt;br/...</td>\n",
       "      <td>2020-11-27</td>\n",
       "      <td>rs recruitment agency llp</td>\n",
       "      <td>NaN</td>\n",
       "    </tr>\n",
       "    <tr>\n",
       "      <th>3</th>\n",
       "      <td>9df231dea41ab31676809589715e2520a603f074ab14dd...</td>\n",
       "      <td>executive officer - muslimin trust fund associ...</td>\n",
       "      <td>Responsibilities:&lt;br/&gt;&lt;br/&gt;Executing administr...</td>\n",
       "      <td>2020-11-27</td>\n",
       "      <td>muslimin trust fund association</td>\n",
       "      <td>NaN</td>\n",
       "    </tr>\n",
       "    <tr>\n",
       "      <th>4</th>\n",
       "      <td>1841d7ef254cfc426b3158cf05541953864acd0145ceb7...</td>\n",
       "      <td>1 year contract general ledger executive assis...</td>\n",
       "      <td>Job Scope:&lt;br/&gt;Handle day-to-day financial mat...</td>\n",
       "      <td>2020-11-15</td>\n",
       "      <td>recruit express pte ltd</td>\n",
       "      <td>NaN</td>\n",
       "    </tr>\n",
       "  </tbody>\n",
       "</table>\n",
       "</div>"
      ],
      "text/plain": [
       "                                              job_id  \\\n",
       "0  2bdd91d7794575aaefee738ef6c831f7129fe6172f713c...   \n",
       "1  458658ef725f6384d4c056f6a8b01747331ba7c3c5c2e5...   \n",
       "2  0e2237ae429ed3e93cebe3a77be1ee71b45400b7259c65...   \n",
       "3  9df231dea41ab31676809589715e2520a603f074ab14dd...   \n",
       "4  1841d7ef254cfc426b3158cf05541953864acd0145ceb7...   \n",
       "\n",
       "                                           job_title  \\\n",
       "0  temporary 3-6months admin assistant (office ho...   \n",
       "1  automotive software engineers (c programming /...   \n",
       "2  qa / qc manager (construction) (dredging) (2 y...   \n",
       "3  executive officer - muslimin trust fund associ...   \n",
       "4  1 year contract general ledger executive assis...   \n",
       "\n",
       "                                     job_description date_posted  \\\n",
       "0  Monday to Friday Office hoursLocation : Buona ...  2020-11-14   \n",
       "1  &bull; MNC&bull; $3500 - $6000 Basic + AWS + V...  2020-11-15   \n",
       "2  MNC<br/>2 years contract<br/>Good benefits<br/...  2020-11-27   \n",
       "3  Responsibilities:<br/><br/>Executing administr...  2020-11-27   \n",
       "4  Job Scope:<br/>Handle day-to-day financial mat...  2020-11-15   \n",
       "\n",
       "                      company_name division  \n",
       "0                jobstudio pte ltd      NaN  \n",
       "1       ideals recruitment pte ltd      NaN  \n",
       "2        rs recruitment agency llp      NaN  \n",
       "3  muslimin trust fund association      NaN  \n",
       "4          recruit express pte ltd      NaN  "
      ]
     },
     "execution_count": 59,
     "metadata": {},
     "output_type": "execute_result"
    }
   ],
   "source": [
    "company_confidential.head()"
   ]
  },
  {
   "cell_type": "code",
   "execution_count": 60,
   "metadata": {},
   "outputs": [],
   "source": [
    "test_data_nonconfidential = test_data[test_data.company_name != \"Confidential\"]"
   ]
  },
  {
   "cell_type": "code",
   "execution_count": 61,
   "metadata": {},
   "outputs": [
    {
     "data": {
      "text/plain": [
       "(3000, 6)"
      ]
     },
     "execution_count": 61,
     "metadata": {},
     "output_type": "execute_result"
    }
   ],
   "source": [
    "test_data_df = pd.concat([test_data_nonconfidential, company_confidential], axis = 0).reset_index(drop=True)\n",
    "test_data_df.shape"
   ]
  },
  {
   "cell_type": "code",
   "execution_count": 62,
   "metadata": {},
   "outputs": [],
   "source": [
    "test_data_df.company_name = test_data_df.company_name.apply(lambda x: x.lower())"
   ]
  },
  {
   "cell_type": "code",
   "execution_count": 63,
   "metadata": {},
   "outputs": [
    {
     "data": {
      "text/html": [
       "<div>\n",
       "<style scoped>\n",
       "    .dataframe tbody tr th:only-of-type {\n",
       "        vertical-align: middle;\n",
       "    }\n",
       "\n",
       "    .dataframe tbody tr th {\n",
       "        vertical-align: top;\n",
       "    }\n",
       "\n",
       "    .dataframe thead th {\n",
       "        text-align: right;\n",
       "    }\n",
       "</style>\n",
       "<table border=\"1\" class=\"dataframe\">\n",
       "  <thead>\n",
       "    <tr style=\"text-align: right;\">\n",
       "      <th></th>\n",
       "      <th>job_id</th>\n",
       "      <th>job_title</th>\n",
       "      <th>job_description</th>\n",
       "      <th>date_posted</th>\n",
       "      <th>company_name</th>\n",
       "      <th>division</th>\n",
       "    </tr>\n",
       "  </thead>\n",
       "  <tbody>\n",
       "    <tr>\n",
       "      <th>0</th>\n",
       "      <td>dc4c44bf442f4baa57f22233fee9195b75d62baa3b0265...</td>\n",
       "      <td>BUSINESS DEVELOPMENT (FREIGHT FORWARDING)</td>\n",
       "      <td>- Roles &amp;amp; Responsibilities : Job Role Desc...</td>\n",
       "      <td>2020-11-27</td>\n",
       "      <td>call lade enterprises pte ltd</td>\n",
       "      <td>NaN</td>\n",
       "    </tr>\n",
       "    <tr>\n",
       "      <th>1</th>\n",
       "      <td>39fc119781f2337a52de7300f21b76cda9b2c0202bfec9...</td>\n",
       "      <td>Secretary/PA</td>\n",
       "      <td>- Roles &amp;amp; Responsibilities : Job Scope:&lt;br...</td>\n",
       "      <td>2020-11-26</td>\n",
       "      <td>talent trader group pte. ltd.</td>\n",
       "      <td>NaN</td>\n",
       "    </tr>\n",
       "    <tr>\n",
       "      <th>2</th>\n",
       "      <td>0c170932727e0246f27feb1a5641d0e26f44d26d431be6...</td>\n",
       "      <td>Program Management</td>\n",
       "      <td>- Roles &amp;amp; Responsibilities : Key Responsib...</td>\n",
       "      <td>2020-11-09</td>\n",
       "      <td>yash technologies singapore pte. limited</td>\n",
       "      <td>NaN</td>\n",
       "    </tr>\n",
       "    <tr>\n",
       "      <th>3</th>\n",
       "      <td>d9e850991db70064d3cfd30ca5d5153e37f383535999bf...</td>\n",
       "      <td>Managing Consultant</td>\n",
       "      <td>- Roles &amp;amp; Responsibilities : PRIMARY OBJEC...</td>\n",
       "      <td>2020-11-06</td>\n",
       "      <td>michael page international pte ltd</td>\n",
       "      <td>NaN</td>\n",
       "    </tr>\n",
       "    <tr>\n",
       "      <th>4</th>\n",
       "      <td>e29e488f5140be0f4e3c781a4661d99765639b1ccbf017...</td>\n",
       "      <td>Lab Technician - $1700 #ERH</td>\n",
       "      <td>Local Food Manufacturing company is hiring for...</td>\n",
       "      <td>2020-11-24</td>\n",
       "      <td>recruitexpress</td>\n",
       "      <td>NaN</td>\n",
       "    </tr>\n",
       "  </tbody>\n",
       "</table>\n",
       "</div>"
      ],
      "text/plain": [
       "                                              job_id  \\\n",
       "0  dc4c44bf442f4baa57f22233fee9195b75d62baa3b0265...   \n",
       "1  39fc119781f2337a52de7300f21b76cda9b2c0202bfec9...   \n",
       "2  0c170932727e0246f27feb1a5641d0e26f44d26d431be6...   \n",
       "3  d9e850991db70064d3cfd30ca5d5153e37f383535999bf...   \n",
       "4  e29e488f5140be0f4e3c781a4661d99765639b1ccbf017...   \n",
       "\n",
       "                                   job_title  \\\n",
       "0  BUSINESS DEVELOPMENT (FREIGHT FORWARDING)   \n",
       "1                               Secretary/PA   \n",
       "2                         Program Management   \n",
       "3                        Managing Consultant   \n",
       "4                Lab Technician - $1700 #ERH   \n",
       "\n",
       "                                     job_description date_posted  \\\n",
       "0  - Roles &amp; Responsibilities : Job Role Desc...  2020-11-27   \n",
       "1  - Roles &amp; Responsibilities : Job Scope:<br...  2020-11-26   \n",
       "2  - Roles &amp; Responsibilities : Key Responsib...  2020-11-09   \n",
       "3  - Roles &amp; Responsibilities : PRIMARY OBJEC...  2020-11-06   \n",
       "4  Local Food Manufacturing company is hiring for...  2020-11-24   \n",
       "\n",
       "                               company_name division  \n",
       "0             call lade enterprises pte ltd      NaN  \n",
       "1             talent trader group pte. ltd.      NaN  \n",
       "2  yash technologies singapore pte. limited      NaN  \n",
       "3        michael page international pte ltd      NaN  \n",
       "4                            recruitexpress      NaN  "
      ]
     },
     "execution_count": 63,
     "metadata": {},
     "output_type": "execute_result"
    }
   ],
   "source": [
    "test_data_df.head()"
   ]
  },
  {
   "cell_type": "markdown",
   "metadata": {},
   "source": [
    "## Synchronization on naming system"
   ]
  },
  {
   "cell_type": "code",
   "execution_count": 64,
   "metadata": {},
   "outputs": [],
   "source": [
    "test_data_df.company_name = test_data_df.company_name.str.replace(\".\", \"\")"
   ]
  },
  {
   "cell_type": "code",
   "execution_count": 65,
   "metadata": {},
   "outputs": [
    {
     "data": {
      "text/plain": [
       "[(['mha - '], 568, 'central narcotics bureau (cnb)'),\n",
       " (['mha - '], 1153, 'singapore prison service (sps)')]"
      ]
     },
     "execution_count": 65,
     "metadata": {},
     "output_type": "execute_result"
    }
   ],
   "source": [
    "# To check for remove mha - \n",
    "reg_exp = r'mha - '\n",
    "symbols = test_data_df['company_name'].apply(lambda x:re.findall(reg_exp,x))\n",
    "test_data_df['company_name'] = test_data_df['company_name'].apply(lambda x:re.sub(reg_exp,\"\",x).strip())\n",
    "[(symbols[i], i, test_data_df['company_name'][i]) for i in range(len(symbols)) if symbols[i]!=[]][1:5]"
   ]
  },
  {
   "cell_type": "code",
   "execution_count": 66,
   "metadata": {},
   "outputs": [],
   "source": [
    "# To check for a*star and rename to a*star\n",
    "reg_exp = r'a\\*star'\n",
    "symbols = test_data_df['company_name'].apply(lambda x:re.findall(reg_exp,x))\n",
    "[(symbols[i], i, test_data_df['company_name'][i]) for i in range(len(symbols)) if symbols[i]!=[]][1:5]\n",
    "num_list = [930, 970, 1336, 1515, 1859, 1944, 1975, 2119, 2236, 2340]\n",
    "for num in num_list:\n",
    "    test_data_df.loc[[num], [\"division\"]] = test_data_df.loc[[num], [\"company_name\"]]\n",
    "test_data_df.loc[[930, 970, 1336, 1515, 1859, 1944, 1975, 2119, 2236, 2340], ['company_name']] = \"a*star\""
   ]
  },
  {
   "cell_type": "code",
   "execution_count": 67,
   "metadata": {
    "scrolled": false
   },
   "outputs": [
    {
     "data": {
      "text/plain": [
       "[(['(s)'], 17, 'gmp technologies  pte ltd'),\n",
       " (['(sales)'], 68, 'hewlett-packard singapore  pte ltd'),\n",
       " (['(singapore)'], 70, 'optimum solutions  pte ltd'),\n",
       " (['(asia)'], 129, 'maha chemicals  pte ltd')]"
      ]
     },
     "execution_count": 67,
     "metadata": {},
     "output_type": "execute_result"
    }
   ],
   "source": [
    "# To check for remove (word)\n",
    "reg_exp = r'\\(\\w+\\)'\n",
    "symbols = test_data_df['company_name'].apply(lambda x:re.findall(reg_exp,x))\n",
    "test_data_df['company_name'] = test_data_df['company_name'].apply(lambda x:re.sub(reg_exp,\"\",x).strip())\n",
    "[(symbols[i], i, test_data_df['company_name'][i]) for i in range(len(symbols)) if symbols[i]!=[]][1:5]"
   ]
  },
  {
   "cell_type": "code",
   "execution_count": 68,
   "metadata": {
    "scrolled": false
   },
   "outputs": [
    {
     "data": {
      "text/plain": [
       "[(['(allegis group singapore pte ltd)'], 31, 'teksystems'),\n",
       " (['(pte ltd)'], 39, 'sleek tech'),\n",
       " (['(deutsche europaeische schule singapur)'],\n",
       "  50,\n",
       "  'german european school singapore'),\n",
       " (['(pte ltd)'], 80, 'xplore infocomz solution')]"
      ]
     },
     "execution_count": 68,
     "metadata": {},
     "output_type": "execute_result"
    }
   ],
   "source": [
    "# To remove (words)\n",
    "reg_exp = r'\\(\\w?\\W*\\w+\\)|\\(\\w.+\\)'\n",
    "symbols = test_data_df['company_name'].apply(lambda x:re.findall(reg_exp,x))\n",
    "for i in range(len(symbols)):\n",
    "     if symbols[i]!=[]:\n",
    "            if symbols[i][0] != '(pte ltd)':\n",
    "                test_data_df.loc[[i],['division']] = symbols[i][0]\n",
    "test_data_df['company_name'] = test_data_df['company_name'].apply(lambda x:re.sub(reg_exp,\"\",x).strip())\n",
    "[(symbols[i], i, test_data_df['company_name'][i]) for i in range(len(symbols)) if symbols[i]!=[]][1:5]"
   ]
  },
  {
   "cell_type": "code",
   "execution_count": 69,
   "metadata": {},
   "outputs": [
    {
     "data": {
      "text/plain": [
       "[(['pte ltdmakewaypacificcom'], 121, 'makeway pacific'),\n",
       " (['pte ltditaskcomsg'], 156, 'i task'),\n",
       " (['pte ltdone-taxcom'], 182, 'one tax cm'),\n",
       " (['pte ltdtraxxbiz'], 276, 'traxx payments')]"
      ]
     },
     "execution_count": 69,
     "metadata": {},
     "output_type": "execute_result"
    }
   ],
   "source": [
    "# To remove pte ltd with words behind\n",
    "reg_exp = r'pte ltd.+'\n",
    "symbols = test_data_df['company_name'].apply(lambda x:re.findall(reg_exp,x))\n",
    "test_data_df['company_name'] = test_data_df['company_name'].apply(lambda x:re.sub(reg_exp,\"\",x).strip())\n",
    "[(symbols[i], i, test_data_df['company_name'][i]) for i in range(len(symbols)) if symbols[i]!=[]][1:5]"
   ]
  },
  {
   "cell_type": "code",
   "execution_count": 70,
   "metadata": {},
   "outputs": [
    {
     "data": {
      "text/plain": [
       "[(['pte limited'], 5, 'openbet singapore'),\n",
       " (['pte limited'], 341, 'delivery hero apac'),\n",
       " (['pte limited'], 485, 'itcan'),\n",
       " (['pte limited'], 622, 'itcan')]"
      ]
     },
     "execution_count": 70,
     "metadata": {},
     "output_type": "execute_result"
    }
   ],
   "source": [
    "# To remove ends with pte limited\n",
    "reg_exp = r'pte limited$'\n",
    "symbols = test_data_df['company_name'].apply(lambda x:re.findall(reg_exp,x))\n",
    "test_data_df['company_name'] = test_data_df['company_name'].apply(lambda x:re.sub(reg_exp,\"\",x).strip())\n",
    "[(symbols[i], i, test_data_df['company_name'][i]) for i in range(len(symbols)) if symbols[i]!=[]][1:5]"
   ]
  },
  {
   "cell_type": "code",
   "execution_count": 71,
   "metadata": {},
   "outputs": [
    {
     "data": {
      "text/plain": [
       "[(['private limited'], 126, 'sfc academy'),\n",
       " (['private limited'], 193, 'gic'),\n",
       " (['private limited'], 233, 'tripleline technologies'),\n",
       " (['private limited'], 241, 'humane manpower')]"
      ]
     },
     "execution_count": 71,
     "metadata": {},
     "output_type": "execute_result"
    }
   ],
   "source": [
    "# To remove ends with private limited\n",
    "reg_exp = r'private limited$'\n",
    "symbols = test_data_df['company_name'].apply(lambda x:re.findall(reg_exp,x))\n",
    "test_data_df['company_name'] = test_data_df['company_name'].apply(lambda x:re.sub(reg_exp,\"\",x).strip())\n",
    "[(symbols[i], i, test_data_df['company_name'][i]) for i in range(len(symbols)) if symbols[i]!=[]][1:5]"
   ]
  },
  {
   "cell_type": "code",
   "execution_count": 72,
   "metadata": {},
   "outputs": [
    {
     "data": {
      "text/plain": [
       "[(['limited'], 72, 'singapore telecommunications'),\n",
       " (['limited'], 107, 'nanofilm technologies international'),\n",
       " (['limited'], 221, 'standard chartered bank'),\n",
       " (['limited'], 228, 'far ocean sea products')]"
      ]
     },
     "execution_count": 72,
     "metadata": {},
     "output_type": "execute_result"
    }
   ],
   "source": [
    "# To remove ends with limited\n",
    "reg_exp = r'limited$'\n",
    "symbols = test_data_df['company_name'].apply(lambda x:re.findall(reg_exp,x))\n",
    "test_data_df['company_name'] = test_data_df['company_name'].apply(lambda x:re.sub(reg_exp,\"\",x).strip())\n",
    "[(symbols[i], i, test_data_df['company_name'][i]) for i in range(len(symbols)) if symbols[i]!=[]][1:5]"
   ]
  },
  {
   "cell_type": "code",
   "execution_count": 73,
   "metadata": {},
   "outputs": [
    {
     "data": {
      "text/plain": [
       "[(['pte ltd'], 1, 'talent trader group'),\n",
       " (['pte ltd'], 3, 'michael page international'),\n",
       " (['pte ltd'], 7, 'logistics construction'),\n",
       " (['pte ltd'], 9, 'dreamscape networks international')]"
      ]
     },
     "execution_count": 73,
     "metadata": {},
     "output_type": "execute_result"
    }
   ],
   "source": [
    "# To remove ends with pte ltd\n",
    "reg_exp = r'pte ltd$'\n",
    "symbols = test_data_df['company_name'].apply(lambda x:re.findall(reg_exp,x))\n",
    "test_data_df['company_name'] = test_data_df['company_name'].apply(lambda x:re.sub(reg_exp,\"\",x).strip())\n",
    "[(symbols[i], i, test_data_df['company_name'][i]) for i in range(len(symbols)) if symbols[i]!=[]][1:5]"
   ]
  },
  {
   "cell_type": "code",
   "execution_count": 74,
   "metadata": {},
   "outputs": [
    {
     "data": {
      "text/plain": [
       "[]"
      ]
     },
     "execution_count": 74,
     "metadata": {},
     "output_type": "execute_result"
    }
   ],
   "source": [
    "# To remove ends with limited (for uob)\n",
    "reg_exp = r'limited$'\n",
    "symbols = test_data_df['company_name'].apply(lambda x:re.findall(reg_exp,x))\n",
    "test_data_df['company_name'] = test_data_df['company_name'].apply(lambda x:re.sub(reg_exp,\"\",x).strip())\n",
    "[(symbols[i], i, test_data_df['company_name'][i]) for i in range(len(symbols)) if symbols[i]!=[]][1:5]"
   ]
  },
  {
   "cell_type": "code",
   "execution_count": 75,
   "metadata": {},
   "outputs": [
    {
     "data": {
      "text/plain": [
       "[(['ltd'], 48, 'hitachi plant services co,'),\n",
       " (['ltd'], 142, 'dbs bank'),\n",
       " (['ltd'], 159, 'st engineering aerospace'),\n",
       " (['ltd'], 166, 'dbs bank')]"
      ]
     },
     "execution_count": 75,
     "metadata": {},
     "output_type": "execute_result"
    }
   ],
   "source": [
    "# To remove ends with ltd\n",
    "reg_exp = r'ltd$'\n",
    "symbols = test_data_df['company_name'].apply(lambda x:re.findall(reg_exp,x))\n",
    "test_data_df['company_name'] = test_data_df['company_name'].apply(lambda x:re.sub(reg_exp,\"\",x).strip())\n",
    "[(symbols[i], i, test_data_df['company_name'][i]) for i in range(len(symbols)) if symbols[i]!=[]][1:5]"
   ]
  },
  {
   "cell_type": "code",
   "execution_count": 76,
   "metadata": {},
   "outputs": [
    {
     "data": {
      "text/plain": [
       "[(['dbs'], 172, 'dbs bank'),\n",
       " (['dbs'], 747, 'dbs bank'),\n",
       " (['dbs'], 1212, 'dbs bank')]"
      ]
     },
     "execution_count": 76,
     "metadata": {},
     "output_type": "execute_result"
    }
   ],
   "source": [
    "# Acronym for banks\n",
    "test_data_df.company_name = test_data_df.company_name.apply(lambda x: x.replace(\"kim eng securities\", \"\").strip())\n",
    "test_data_df.company_name = test_data_df.company_name.apply(lambda x: x.replace(\"oversea-chinese banking corporation\", \"ocbc bank\").strip())\n",
    "\n",
    "# To modify dbs bank\n",
    "reg_exp = r'dbs$'\n",
    "symbols = test_data_df['company_name'].apply(lambda x:re.findall(reg_exp,x))\n",
    "test_data_df['company_name'] = test_data_df['company_name'].apply(lambda x:re.sub(reg_exp,\"dbs bank\",x).strip())\n",
    "[(symbols[i], i, test_data_df['company_name'][i]) for i in range(len(symbols)) if symbols[i]!=[]][1:5]"
   ]
  },
  {
   "cell_type": "code",
   "execution_count": 77,
   "metadata": {},
   "outputs": [
    {
     "data": {
      "text/plain": [
       "[(['citi'], 257, 'citibank'),\n",
       " (['citi'], 328, 'citibank'),\n",
       " (['citi'], 416, 'citibank'),\n",
       " (['citi'], 521, 'citibank')]"
      ]
     },
     "execution_count": 77,
     "metadata": {},
     "output_type": "execute_result"
    }
   ],
   "source": [
    "# To modify citi bank\n",
    "test_data_df.company_name = test_data_df.company_name.apply(lambda x: x.replace(\"citibank na\", \"citibank\").strip())\n",
    "\n",
    "reg_exp = r'citi$'\n",
    "symbols = test_data_df['company_name'].apply(lambda x:re.findall(reg_exp,x))\n",
    "test_data_df['company_name'] = test_data_df['company_name'].apply(lambda x:re.sub(reg_exp,\"citibank\",x).strip())\n",
    "[(symbols[i], i, test_data_df['company_name'][i]) for i in range(len(symbols)) if symbols[i]!=[]][1:5]"
   ]
  },
  {
   "cell_type": "code",
   "execution_count": 78,
   "metadata": {},
   "outputs": [],
   "source": [
    "# Acronym for recruit express\n",
    "test_data_df.company_name = test_data_df.company_name.apply(lambda x: x.replace(\"recruitexpress\", \"recruit express\").strip())"
   ]
  },
  {
   "cell_type": "code",
   "execution_count": 79,
   "metadata": {},
   "outputs": [
    {
     "data": {
      "text/plain": [
       "[([','], 216, 'ministry of culture community and youth'),\n",
       " ([','], 352, 'koch industries inc'),\n",
       " ([','], 661, 'koch industries inc'),\n",
       " ([','], 809, 'cloudflare')]"
      ]
     },
     "execution_count": 79,
     "metadata": {},
     "output_type": "execute_result"
    }
   ],
   "source": [
    "# Removal ','\n",
    "reg_exp = r','\n",
    "symbols = test_data_df['company_name'].apply(lambda x:re.findall(reg_exp,x))\n",
    "test_data_df['company_name'] = test_data_df['company_name'].apply(lambda x:re.sub(reg_exp,\"\",x).strip())\n",
    "[(symbols[i], i, test_data_df['company_name'][i]) for i in range(len(symbols)) if symbols[i]!=[]][1:5]"
   ]
  },
  {
   "cell_type": "code",
   "execution_count": 80,
   "metadata": {},
   "outputs": [
    {
     "data": {
      "text/plain": [
       "[(['  '], 536, 'revel techholdings'),\n",
       " (['  '], 1918, 'hycinc'),\n",
       " (['  '], 2802, 'seabancinsurance brokers')]"
      ]
     },
     "execution_count": 80,
     "metadata": {},
     "output_type": "execute_result"
    }
   ],
   "source": [
    "# Removal of additional spaces\n",
    "reg_exp = r'\\s{2,}'\n",
    "symbols = test_data_df['company_name'].apply(lambda x:re.findall(reg_exp,x))\n",
    "test_data_df['company_name'] = test_data_df['company_name'].apply(lambda x:re.sub(reg_exp,\"\",x).strip())\n",
    "[(symbols[i], i, test_data_df['company_name'][i]) for i in range(len(symbols)) if symbols[i]!=[]][1:5]"
   ]
  },
  {
   "cell_type": "markdown",
   "metadata": {},
   "source": [
    "## Repeated Job Description"
   ]
  },
  {
   "cell_type": "code",
   "execution_count": 81,
   "metadata": {},
   "outputs": [],
   "source": [
    "test_data_df[\"index\"] = test_data_df.index\n",
    "test_data_df[\"is_duplicated_count\"] = test_data_df.job_description.duplicated(keep=False).astype(int)\n",
    "job_description_duplicated = test_data_df[test_data_df.is_duplicated_count == 1].reset_index(drop = True)"
   ]
  },
  {
   "cell_type": "code",
   "execution_count": 82,
   "metadata": {},
   "outputs": [],
   "source": [
    "# Count the number of duplicated posts\n",
    "counter = 0\n",
    "duplicated_count = []\n",
    "\n",
    "for index1, job1 in enumerate(job_description_duplicated.job_description):\n",
    "    for index2, job2 in enumerate(job_description_duplicated.job_description):\n",
    "        if job_description_duplicated.job_description[index1] == job_description_duplicated.job_description[index2]:\n",
    "            counter+=1\n",
    "    duplicated_count.extend([[job_description_duplicated[\"index\"][index1], counter]])\n",
    "    counter = 0"
   ]
  },
  {
   "cell_type": "code",
   "execution_count": 83,
   "metadata": {},
   "outputs": [],
   "source": [
    "duplicated_count_df = pd.DataFrame(duplicated_count, columns = [\"index\", \"duplicated_count\"])\n",
    "test_data_df = pd.merge(test_data_df, duplicated_count_df, on = \"index\", how = \"left\")\n",
    "test_data_df = test_data_df.drop(columns = [\"index\"])\n",
    "test_data_df.duplicated_count = test_data_df.duplicated_count.fillna(0).astype(int)"
   ]
  },
  {
   "cell_type": "code",
   "execution_count": 84,
   "metadata": {},
   "outputs": [
    {
     "data": {
      "text/html": [
       "<div>\n",
       "<style scoped>\n",
       "    .dataframe tbody tr th:only-of-type {\n",
       "        vertical-align: middle;\n",
       "    }\n",
       "\n",
       "    .dataframe tbody tr th {\n",
       "        vertical-align: top;\n",
       "    }\n",
       "\n",
       "    .dataframe thead th {\n",
       "        text-align: right;\n",
       "    }\n",
       "</style>\n",
       "<table border=\"1\" class=\"dataframe\">\n",
       "  <thead>\n",
       "    <tr style=\"text-align: right;\">\n",
       "      <th></th>\n",
       "      <th>job_id</th>\n",
       "      <th>job_title</th>\n",
       "      <th>job_description</th>\n",
       "      <th>date_posted</th>\n",
       "      <th>company_name</th>\n",
       "      <th>division</th>\n",
       "      <th>is_duplicated_count</th>\n",
       "      <th>duplicated_count</th>\n",
       "    </tr>\n",
       "  </thead>\n",
       "  <tbody>\n",
       "    <tr>\n",
       "      <th>1409</th>\n",
       "      <td>ba4ab44110583ae2f5709536c22d968c828f3179b1dd0b...</td>\n",
       "      <td>Toolmaker (North/ West, Shift)</td>\n",
       "      <td>- Roles &amp;amp; Responsibilities : Responsibilit...</td>\n",
       "      <td>2020-11-19</td>\n",
       "      <td>recruit expert</td>\n",
       "      <td>NaN</td>\n",
       "      <td>1</td>\n",
       "      <td>2</td>\n",
       "    </tr>\n",
       "    <tr>\n",
       "      <th>1243</th>\n",
       "      <td>08dea3a310ce8a847f56f47598861ac117bbcdfce17c9e...</td>\n",
       "      <td>Toolmaker (North/West, Shift)</td>\n",
       "      <td>- Roles &amp;amp; Responsibilities : Responsibilit...</td>\n",
       "      <td>2020-11-26</td>\n",
       "      <td>recruit expert</td>\n",
       "      <td>NaN</td>\n",
       "      <td>1</td>\n",
       "      <td>2</td>\n",
       "    </tr>\n",
       "    <tr>\n",
       "      <th>1448</th>\n",
       "      <td>19cff651fb0bc7f851bcfbf15f01f45a7a36392fe87614...</td>\n",
       "      <td>QA/QC Technician (Manufacturing/ Semiconductor...</td>\n",
       "      <td>- Roles &amp;amp; Responsibilities : Responsibilit...</td>\n",
       "      <td>2020-11-17</td>\n",
       "      <td>recruit expert</td>\n",
       "      <td>NaN</td>\n",
       "      <td>1</td>\n",
       "      <td>2</td>\n",
       "    </tr>\n",
       "    <tr>\n",
       "      <th>948</th>\n",
       "      <td>ec205e80b9141fd5909f1cd375e099d74b9042bd05f90c...</td>\n",
       "      <td>QA/QC Technician (Manufacturing/ Semiconductor...</td>\n",
       "      <td>- Roles &amp;amp; Responsibilities : Responsibilit...</td>\n",
       "      <td>2020-11-20</td>\n",
       "      <td>recruit expert</td>\n",
       "      <td>NaN</td>\n",
       "      <td>1</td>\n",
       "      <td>2</td>\n",
       "    </tr>\n",
       "    <tr>\n",
       "      <th>2513</th>\n",
       "      <td>333ecd854834ced753548f728b27d326446d5a8286e079...</td>\n",
       "      <td>qc inspector [mnc/cmm/smart scope/iso 9000/shi...</td>\n",
       "      <td>A Well-Established MNC Company&lt;br/&gt;is looking ...</td>\n",
       "      <td>2020-11-13</td>\n",
       "      <td>persol singapore</td>\n",
       "      <td>(a division of capita pte ltd)</td>\n",
       "      <td>1</td>\n",
       "      <td>2</td>\n",
       "    </tr>\n",
       "  </tbody>\n",
       "</table>\n",
       "</div>"
      ],
      "text/plain": [
       "                                                 job_id  \\\n",
       "1409  ba4ab44110583ae2f5709536c22d968c828f3179b1dd0b...   \n",
       "1243  08dea3a310ce8a847f56f47598861ac117bbcdfce17c9e...   \n",
       "1448  19cff651fb0bc7f851bcfbf15f01f45a7a36392fe87614...   \n",
       "948   ec205e80b9141fd5909f1cd375e099d74b9042bd05f90c...   \n",
       "2513  333ecd854834ced753548f728b27d326446d5a8286e079...   \n",
       "\n",
       "                                              job_title  \\\n",
       "1409                     Toolmaker (North/ West, Shift)   \n",
       "1243                      Toolmaker (North/West, Shift)   \n",
       "1448  QA/QC Technician (Manufacturing/ Semiconductor...   \n",
       "948   QA/QC Technician (Manufacturing/ Semiconductor...   \n",
       "2513  qc inspector [mnc/cmm/smart scope/iso 9000/shi...   \n",
       "\n",
       "                                        job_description date_posted  \\\n",
       "1409  - Roles &amp; Responsibilities : Responsibilit...  2020-11-19   \n",
       "1243  - Roles &amp; Responsibilities : Responsibilit...  2020-11-26   \n",
       "1448  - Roles &amp; Responsibilities : Responsibilit...  2020-11-17   \n",
       "948   - Roles &amp; Responsibilities : Responsibilit...  2020-11-20   \n",
       "2513  A Well-Established MNC Company<br/>is looking ...  2020-11-13   \n",
       "\n",
       "          company_name                        division  is_duplicated_count  \\\n",
       "1409    recruit expert                             NaN                    1   \n",
       "1243    recruit expert                             NaN                    1   \n",
       "1448    recruit expert                             NaN                    1   \n",
       "948     recruit expert                             NaN                    1   \n",
       "2513  persol singapore  (a division of capita pte ltd)                    1   \n",
       "\n",
       "      duplicated_count  \n",
       "1409                 2  \n",
       "1243                 2  \n",
       "1448                 2  \n",
       "948                  2  \n",
       "2513                 2  "
      ]
     },
     "execution_count": 84,
     "metadata": {},
     "output_type": "execute_result"
    }
   ],
   "source": [
    "test_data_df[test_data_df.is_duplicated_count == 1].sort_values(\"job_description\").head()"
   ]
  },
  {
   "cell_type": "code",
   "execution_count": 85,
   "metadata": {},
   "outputs": [],
   "source": [
    "duplicated_jobs_posts_df = test_data_df[test_data_df.is_duplicated_count == 1] \n",
    "duplicated_jobs_posts_df = duplicated_jobs_posts_df.reset_index(drop=True).sort_values(by=[\"job_description\",\"date_posted\"])"
   ]
  },
  {
   "cell_type": "code",
   "execution_count": 86,
   "metadata": {},
   "outputs": [
    {
     "data": {
      "text/plain": [
       "(49, 8)"
      ]
     },
     "execution_count": 86,
     "metadata": {},
     "output_type": "execute_result"
    }
   ],
   "source": [
    "duplicated_jobs_posts_df.shape"
   ]
  },
  {
   "cell_type": "code",
   "execution_count": 87,
   "metadata": {},
   "outputs": [
    {
     "data": {
      "text/plain": [
       "24"
      ]
     },
     "execution_count": 87,
     "metadata": {},
     "output_type": "execute_result"
    }
   ],
   "source": [
    "duplicated_jobs_posts_df.job_description.nunique()"
   ]
  },
  {
   "cell_type": "code",
   "execution_count": 88,
   "metadata": {},
   "outputs": [
    {
     "data": {
      "text/plain": [
       "array(['recruit expert', 'persol singapore', 'certis group',\n",
       "       'employment and employability institute',\n",
       "       'evolve mixed martial arts', 'central provident fund board',\n",
       "       'recruit express', 'recruitplus consulting', 'koch industries inc',\n",
       "       'jobsdb jobs', 'braverywf', 'kelly services', 'capita',\n",
       "       'tech2reachtech2reachcom', 'ember recruitment',\n",
       "       'primestaff management services', 'bloomberg', 'vital',\n",
       "       'national university of singapore', 'acteco holding pte',\n",
       "       'achieve career consultant'], dtype=object)"
      ]
     },
     "execution_count": 88,
     "metadata": {},
     "output_type": "execute_result"
    }
   ],
   "source": [
    "duplicated_jobs_posts_df.company_name.unique()"
   ]
  },
  {
   "cell_type": "code",
   "execution_count": 89,
   "metadata": {},
   "outputs": [
    {
     "data": {
      "text/plain": [
       "21"
      ]
     },
     "execution_count": 89,
     "metadata": {},
     "output_type": "execute_result"
    }
   ],
   "source": [
    "duplicated_jobs_posts_df.company_name.nunique()"
   ]
  },
  {
   "cell_type": "code",
   "execution_count": 90,
   "metadata": {
    "scrolled": true
   },
   "outputs": [
    {
     "data": {
      "text/html": [
       "<div>\n",
       "<style scoped>\n",
       "    .dataframe tbody tr th:only-of-type {\n",
       "        vertical-align: middle;\n",
       "    }\n",
       "\n",
       "    .dataframe tbody tr th {\n",
       "        vertical-align: top;\n",
       "    }\n",
       "\n",
       "    .dataframe thead th {\n",
       "        text-align: right;\n",
       "    }\n",
       "</style>\n",
       "<table border=\"1\" class=\"dataframe\">\n",
       "  <thead>\n",
       "    <tr style=\"text-align: right;\">\n",
       "      <th></th>\n",
       "      <th>job_id</th>\n",
       "      <th>job_title</th>\n",
       "      <th>job_description</th>\n",
       "      <th>date_posted</th>\n",
       "      <th>company_name</th>\n",
       "      <th>division</th>\n",
       "      <th>is_duplicated_count</th>\n",
       "      <th>duplicated_count</th>\n",
       "    </tr>\n",
       "  </thead>\n",
       "  <tbody>\n",
       "    <tr>\n",
       "      <th>15</th>\n",
       "      <td>ba4ab44110583ae2f5709536c22d968c828f3179b1dd0b...</td>\n",
       "      <td>Toolmaker (North/ West, Shift)</td>\n",
       "      <td>- Roles &amp;amp; Responsibilities : Responsibilit...</td>\n",
       "      <td>2020-11-19</td>\n",
       "      <td>recruit expert</td>\n",
       "      <td>NaN</td>\n",
       "      <td>1</td>\n",
       "      <td>2</td>\n",
       "    </tr>\n",
       "    <tr>\n",
       "      <th>13</th>\n",
       "      <td>08dea3a310ce8a847f56f47598861ac117bbcdfce17c9e...</td>\n",
       "      <td>Toolmaker (North/West, Shift)</td>\n",
       "      <td>- Roles &amp;amp; Responsibilities : Responsibilit...</td>\n",
       "      <td>2020-11-26</td>\n",
       "      <td>recruit expert</td>\n",
       "      <td>NaN</td>\n",
       "      <td>1</td>\n",
       "      <td>2</td>\n",
       "    </tr>\n",
       "    <tr>\n",
       "      <th>17</th>\n",
       "      <td>19cff651fb0bc7f851bcfbf15f01f45a7a36392fe87614...</td>\n",
       "      <td>QA/QC Technician (Manufacturing/ Semiconductor...</td>\n",
       "      <td>- Roles &amp;amp; Responsibilities : Responsibilit...</td>\n",
       "      <td>2020-11-17</td>\n",
       "      <td>recruit expert</td>\n",
       "      <td>NaN</td>\n",
       "      <td>1</td>\n",
       "      <td>2</td>\n",
       "    </tr>\n",
       "    <tr>\n",
       "      <th>10</th>\n",
       "      <td>ec205e80b9141fd5909f1cd375e099d74b9042bd05f90c...</td>\n",
       "      <td>QA/QC Technician (Manufacturing/ Semiconductor...</td>\n",
       "      <td>- Roles &amp;amp; Responsibilities : Responsibilit...</td>\n",
       "      <td>2020-11-20</td>\n",
       "      <td>recruit expert</td>\n",
       "      <td>NaN</td>\n",
       "      <td>1</td>\n",
       "      <td>2</td>\n",
       "    </tr>\n",
       "    <tr>\n",
       "      <th>40</th>\n",
       "      <td>333ecd854834ced753548f728b27d326446d5a8286e079...</td>\n",
       "      <td>qc inspector [mnc/cmm/smart scope/iso 9000/shi...</td>\n",
       "      <td>A Well-Established MNC Company&lt;br/&gt;is looking ...</td>\n",
       "      <td>2020-11-13</td>\n",
       "      <td>persol singapore</td>\n",
       "      <td>(a division of capita pte ltd)</td>\n",
       "      <td>1</td>\n",
       "      <td>2</td>\n",
       "    </tr>\n",
       "  </tbody>\n",
       "</table>\n",
       "</div>"
      ],
      "text/plain": [
       "                                               job_id  \\\n",
       "15  ba4ab44110583ae2f5709536c22d968c828f3179b1dd0b...   \n",
       "13  08dea3a310ce8a847f56f47598861ac117bbcdfce17c9e...   \n",
       "17  19cff651fb0bc7f851bcfbf15f01f45a7a36392fe87614...   \n",
       "10  ec205e80b9141fd5909f1cd375e099d74b9042bd05f90c...   \n",
       "40  333ecd854834ced753548f728b27d326446d5a8286e079...   \n",
       "\n",
       "                                            job_title  \\\n",
       "15                     Toolmaker (North/ West, Shift)   \n",
       "13                      Toolmaker (North/West, Shift)   \n",
       "17  QA/QC Technician (Manufacturing/ Semiconductor...   \n",
       "10  QA/QC Technician (Manufacturing/ Semiconductor...   \n",
       "40  qc inspector [mnc/cmm/smart scope/iso 9000/shi...   \n",
       "\n",
       "                                      job_description date_posted  \\\n",
       "15  - Roles &amp; Responsibilities : Responsibilit...  2020-11-19   \n",
       "13  - Roles &amp; Responsibilities : Responsibilit...  2020-11-26   \n",
       "17  - Roles &amp; Responsibilities : Responsibilit...  2020-11-17   \n",
       "10  - Roles &amp; Responsibilities : Responsibilit...  2020-11-20   \n",
       "40  A Well-Established MNC Company<br/>is looking ...  2020-11-13   \n",
       "\n",
       "        company_name                        division  is_duplicated_count  \\\n",
       "15    recruit expert                             NaN                    1   \n",
       "13    recruit expert                             NaN                    1   \n",
       "17    recruit expert                             NaN                    1   \n",
       "10    recruit expert                             NaN                    1   \n",
       "40  persol singapore  (a division of capita pte ltd)                    1   \n",
       "\n",
       "    duplicated_count  \n",
       "15                 2  \n",
       "13                 2  \n",
       "17                 2  \n",
       "10                 2  \n",
       "40                 2  "
      ]
     },
     "execution_count": 90,
     "metadata": {},
     "output_type": "execute_result"
    }
   ],
   "source": [
    "duplicated_jobs_posts_df.head()"
   ]
  },
  {
   "cell_type": "code",
   "execution_count": 91,
   "metadata": {},
   "outputs": [],
   "source": [
    "# Create new dataframe with single posts\n",
    "compile_duplicated_df = pd.DataFrame(duplicated_jobs_posts_df.job_description.unique(), columns = [\"job_description\"])"
   ]
  },
  {
   "cell_type": "code",
   "execution_count": 92,
   "metadata": {
    "scrolled": false
   },
   "outputs": [],
   "source": [
    "# To integrate job_title, company_name, duplicated_count and first posted date\n",
    "compile_duplicated_df[\"date_posted_1\"] = \"\"\n",
    "compile_duplicated_df[\"job_title\"] = \"\"\n",
    "compile_duplicated_df[\"company_name\"] = \"\"\n",
    "compile_duplicated_df[\"duplicated_count\"] = 0\n",
    "\n",
    "for num, postings in enumerate(compile_duplicated_df.job_description):\n",
    "    for index, job_posts in enumerate(duplicated_jobs_posts_df.job_description):\n",
    "        if compile_duplicated_df.job_description[num] == duplicated_jobs_posts_df.job_description[index]:\n",
    "            if compile_duplicated_df[\"date_posted_1\"][num] == \"\":\n",
    "                compile_duplicated_df.loc[[num],[\"job_title\"]] = duplicated_jobs_posts_df[\"job_title\"][index]\n",
    "                compile_duplicated_df.loc[[num],[\"company_name\"]] = duplicated_jobs_posts_df[\"company_name\"][index]\n",
    "                compile_duplicated_df.loc[[num],[\"duplicated_count\"]] = duplicated_jobs_posts_df[\"duplicated_count\"][index]\n",
    "                compile_duplicated_df.loc[[num],[\"date_posted_1\"]] = duplicated_jobs_posts_df[\"date_posted\"][index]\n",
    "                \n",
    "            else:\n",
    "                continue\n",
    "        else:\n",
    "            continue"
   ]
  },
  {
   "cell_type": "code",
   "execution_count": 93,
   "metadata": {},
   "outputs": [],
   "source": [
    "# To integrate second and third posted date\n",
    "compile_duplicated_df[\"date_posted_2\"] = \"\"\n",
    "compile_duplicated_df[\"date_posted_3\"] = \"\"\n",
    "\n",
    "for num, postings in enumerate(compile_duplicated_df.job_description):\n",
    "    for index, job_posts in enumerate(duplicated_jobs_posts_df.job_description):\n",
    "        if compile_duplicated_df.job_description[num] == duplicated_jobs_posts_df.job_description[index]:\n",
    "            if compile_duplicated_df[\"date_posted_1\"][num] != duplicated_jobs_posts_df[\"date_posted\"][index]:\n",
    "                if (compile_duplicated_df[\"date_posted_2\"][num] == \"\"):\n",
    "                    compile_duplicated_df.loc[[num],[\"date_posted_2\"]] = duplicated_jobs_posts_df[\"date_posted\"][index]\n",
    "                else:\n",
    "                    compile_duplicated_df.loc[[num],[\"date_posted_3\"]] = duplicated_jobs_posts_df[\"date_posted\"][index]   \n",
    "            else:\n",
    "                continue\n",
    "        else:\n",
    "            continue"
   ]
  },
  {
   "cell_type": "code",
   "execution_count": 94,
   "metadata": {},
   "outputs": [],
   "source": [
    "# Fill in the duplicated post that posts on the same day\n",
    "for i in range(len(compile_duplicated_df)):\n",
    "    if compile_duplicated_df.date_posted_2[i] == \"\":\n",
    "        compile_duplicated_df.loc[[i],[\"date_posted_2\"]] = compile_duplicated_df.date_posted_1[i]"
   ]
  },
  {
   "cell_type": "code",
   "execution_count": 95,
   "metadata": {},
   "outputs": [],
   "source": [
    "# To calculate the difference in dates posted\n",
    "compile_duplicated_df[\"date_diff\"] = \"\"\n",
    "\n",
    "for i in range(len(compile_duplicated_df)):\n",
    "    if compile_duplicated_df.date_posted_3[i] == \"\":\n",
    "        compile_duplicated_df.loc[[i],[\"date_diff\"]] = abs(compile_duplicated_df.date_posted_2[i] - compile_duplicated_df.date_posted_1[i])\n",
    "    else:\n",
    "        compile_duplicated_df.loc[[i],[\"date_diff\"]] = abs(compile_duplicated_df.date_posted_3[i] - compile_duplicated_df.date_posted_2[i])"
   ]
  },
  {
   "cell_type": "code",
   "execution_count": 96,
   "metadata": {},
   "outputs": [
    {
     "data": {
      "text/html": [
       "<div>\n",
       "<style scoped>\n",
       "    .dataframe tbody tr th:only-of-type {\n",
       "        vertical-align: middle;\n",
       "    }\n",
       "\n",
       "    .dataframe tbody tr th {\n",
       "        vertical-align: top;\n",
       "    }\n",
       "\n",
       "    .dataframe thead th {\n",
       "        text-align: right;\n",
       "    }\n",
       "</style>\n",
       "<table border=\"1\" class=\"dataframe\">\n",
       "  <thead>\n",
       "    <tr style=\"text-align: right;\">\n",
       "      <th></th>\n",
       "      <th>job_description</th>\n",
       "      <th>date_posted_1</th>\n",
       "      <th>job_title</th>\n",
       "      <th>company_name</th>\n",
       "      <th>duplicated_count</th>\n",
       "      <th>date_posted_2</th>\n",
       "      <th>date_posted_3</th>\n",
       "      <th>date_diff</th>\n",
       "    </tr>\n",
       "  </thead>\n",
       "  <tbody>\n",
       "    <tr>\n",
       "      <th>0</th>\n",
       "      <td>- Roles &amp;amp; Responsibilities : Responsibilit...</td>\n",
       "      <td>2020-11-26 00:00:00</td>\n",
       "      <td>Toolmaker (North/West, Shift)</td>\n",
       "      <td>recruit expert</td>\n",
       "      <td>2</td>\n",
       "      <td>2020-11-19 00:00:00</td>\n",
       "      <td></td>\n",
       "      <td>7 days 00:00:00</td>\n",
       "    </tr>\n",
       "    <tr>\n",
       "      <th>1</th>\n",
       "      <td>- Roles &amp;amp; Responsibilities : Responsibilit...</td>\n",
       "      <td>2020-11-20 00:00:00</td>\n",
       "      <td>QA/QC Technician (Manufacturing/ Semiconductor...</td>\n",
       "      <td>recruit expert</td>\n",
       "      <td>2</td>\n",
       "      <td>2020-11-17 00:00:00</td>\n",
       "      <td></td>\n",
       "      <td>3 days 00:00:00</td>\n",
       "    </tr>\n",
       "    <tr>\n",
       "      <th>2</th>\n",
       "      <td>A Well-Established MNC Company&lt;br/&gt;is looking ...</td>\n",
       "      <td>2020-11-13 00:00:00</td>\n",
       "      <td>qc inspector [mnc/cmm/smart scope/iso 9000/shi...</td>\n",
       "      <td>persol singapore</td>\n",
       "      <td>2</td>\n",
       "      <td>2020-11-19 00:00:00</td>\n",
       "      <td></td>\n",
       "      <td>6 days 00:00:00</td>\n",
       "    </tr>\n",
       "    <tr>\n",
       "      <th>3</th>\n",
       "      <td>Armed Auxiliary Police Officers (Bonus $16,000...</td>\n",
       "      <td>2020-11-21 00:00:00</td>\n",
       "      <td>\"stable career\" gross 2600 - 3600 armed office...</td>\n",
       "      <td>certis group</td>\n",
       "      <td>2</td>\n",
       "      <td>2020-11-12 00:00:00</td>\n",
       "      <td></td>\n",
       "      <td>9 days 00:00:00</td>\n",
       "    </tr>\n",
       "    <tr>\n",
       "      <th>4</th>\n",
       "      <td>As Finance Executive at the Corporate Finance ...</td>\n",
       "      <td>2020-11-18 00:00:00</td>\n",
       "      <td>finance executive (e2i) - employment and emplo...</td>\n",
       "      <td>employment and employability institute</td>\n",
       "      <td>2</td>\n",
       "      <td>2020-11-12 00:00:00</td>\n",
       "      <td></td>\n",
       "      <td>6 days 00:00:00</td>\n",
       "    </tr>\n",
       "  </tbody>\n",
       "</table>\n",
       "</div>"
      ],
      "text/plain": [
       "                                     job_description        date_posted_1  \\\n",
       "0  - Roles &amp; Responsibilities : Responsibilit...  2020-11-26 00:00:00   \n",
       "1  - Roles &amp; Responsibilities : Responsibilit...  2020-11-20 00:00:00   \n",
       "2  A Well-Established MNC Company<br/>is looking ...  2020-11-13 00:00:00   \n",
       "3  Armed Auxiliary Police Officers (Bonus $16,000...  2020-11-21 00:00:00   \n",
       "4  As Finance Executive at the Corporate Finance ...  2020-11-18 00:00:00   \n",
       "\n",
       "                                           job_title  \\\n",
       "0                      Toolmaker (North/West, Shift)   \n",
       "1  QA/QC Technician (Manufacturing/ Semiconductor...   \n",
       "2  qc inspector [mnc/cmm/smart scope/iso 9000/shi...   \n",
       "3  \"stable career\" gross 2600 - 3600 armed office...   \n",
       "4  finance executive (e2i) - employment and emplo...   \n",
       "\n",
       "                             company_name  duplicated_count  \\\n",
       "0                          recruit expert                 2   \n",
       "1                          recruit expert                 2   \n",
       "2                        persol singapore                 2   \n",
       "3                            certis group                 2   \n",
       "4  employment and employability institute                 2   \n",
       "\n",
       "         date_posted_2 date_posted_3        date_diff  \n",
       "0  2020-11-19 00:00:00                7 days 00:00:00  \n",
       "1  2020-11-17 00:00:00                3 days 00:00:00  \n",
       "2  2020-11-19 00:00:00                6 days 00:00:00  \n",
       "3  2020-11-12 00:00:00                9 days 00:00:00  \n",
       "4  2020-11-12 00:00:00                6 days 00:00:00  "
      ]
     },
     "execution_count": 96,
     "metadata": {},
     "output_type": "execute_result"
    }
   ],
   "source": [
    "compile_duplicated_df.head()"
   ]
  },
  {
   "cell_type": "code",
   "execution_count": 97,
   "metadata": {},
   "outputs": [
    {
     "name": "stdout",
     "output_type": "stream",
     "text": [
      "<class 'pandas.core.frame.DataFrame'>\n",
      "RangeIndex: 24 entries, 0 to 23\n",
      "Data columns (total 8 columns):\n",
      " #   Column            Non-Null Count  Dtype \n",
      "---  ------            --------------  ----- \n",
      " 0   job_description   24 non-null     object\n",
      " 1   date_posted_1     24 non-null     object\n",
      " 2   job_title         24 non-null     object\n",
      " 3   company_name      24 non-null     object\n",
      " 4   duplicated_count  24 non-null     int64 \n",
      " 5   date_posted_2     24 non-null     object\n",
      " 6   date_posted_3     24 non-null     object\n",
      " 7   date_diff         24 non-null     object\n",
      "dtypes: int64(1), object(7)\n",
      "memory usage: 1.6+ KB\n"
     ]
    }
   ],
   "source": [
    "compile_duplicated_df.info()"
   ]
  },
  {
   "cell_type": "code",
   "execution_count": 98,
   "metadata": {},
   "outputs": [],
   "source": [
    "# To create the dataframe of the date difference and the number of posts\n",
    "compile_duplicated_df.date_diff = pd.to_timedelta(compile_duplicated_df.date_diff)\n",
    "compile_duplicated_df.date_diff = compile_duplicated_df.date_diff.dt.days\n",
    "duplicated_date_diff_df = compile_duplicated_df.groupby(\"date_diff\").size().reset_index().rename({0:\"posts_count\"}, axis = 1)"
   ]
  },
  {
   "cell_type": "code",
   "execution_count": 99,
   "metadata": {},
   "outputs": [
    {
     "data": {
      "image/png": "[encoded data removed]",
      "text/plain": [
       "<Figure size 576x360 with 1 Axes>"
      ]
     },
     "metadata": {
      "needs_background": "light"
     },
     "output_type": "display_data"
    }
   ],
   "source": [
    "plot_barplot(duplicated_date_diff_df, \"date_diff\", \"posts_count\",\"Time lapse prior to posting another job posts\\n\",\"Days\",\"Number of posts\")"
   ]
  },
  {
   "cell_type": "markdown",
   "metadata": {},
   "source": [
    "## Remove duplicated posts"
   ]
  },
  {
   "cell_type": "code",
   "execution_count": 100,
   "metadata": {},
   "outputs": [
    {
     "data": {
      "text/plain": [
       "(2951, 8)"
      ]
     },
     "execution_count": 100,
     "metadata": {},
     "output_type": "execute_result"
    }
   ],
   "source": [
    "test_data_df = test_data_df[test_data_df.is_duplicated_count == 0] \n",
    "test_data_df.shape"
   ]
  },
  {
   "cell_type": "code",
   "execution_count": 101,
   "metadata": {
    "scrolled": false
   },
   "outputs": [
    {
     "data": {
      "text/plain": [
       "(2975, 8)"
      ]
     },
     "execution_count": 101,
     "metadata": {},
     "output_type": "execute_result"
    }
   ],
   "source": [
    "# Indicate the 2nd duplicated posts\n",
    "duplicated_jobs_posts_df = duplicated_jobs_posts_df.sort_values(by=[\"job_description\", \"date_posted\"]).reset_index(drop=True)\n",
    "duplicated_jobs_posts_df[\"duplicate\"] = duplicated_jobs_posts_df.job_description.duplicated().astype(int)\n",
    "\n",
    "# Extract only the single posts and merge with the main dataframe\n",
    "single_job_post_df = duplicated_jobs_posts_df[duplicated_jobs_posts_df[\"duplicate\"] == 0]\n",
    "single_job_post_df = single_job_post_df.drop(\"duplicate\", axis = 1)\n",
    "test_data_df = pd.concat([test_data_df, single_job_post_df])\n",
    "test_data_df = test_data_df.reset_index(drop=True)\n",
    "test_data_df.shape"
   ]
  },
  {
   "cell_type": "markdown",
   "metadata": {},
   "source": [
    "## Overall"
   ]
  },
  {
   "cell_type": "code",
   "execution_count": 102,
   "metadata": {},
   "outputs": [
    {
     "data": {
      "text/plain": [
       "(118, 8)"
      ]
     },
     "execution_count": 102,
     "metadata": {},
     "output_type": "execute_result"
    }
   ],
   "source": [
    "test_data_df[test_data_df.company_name == \"confidential\"].shape"
   ]
  },
  {
   "cell_type": "code",
   "execution_count": 103,
   "metadata": {},
   "outputs": [
    {
     "data": {
      "text/plain": [
       "(2857, 8)"
      ]
     },
     "execution_count": 103,
     "metadata": {},
     "output_type": "execute_result"
    }
   ],
   "source": [
    "test_data_df[test_data_df.company_name != \"confidential\"].shape"
   ]
  },
  {
   "cell_type": "code",
   "execution_count": 104,
   "metadata": {},
   "outputs": [],
   "source": [
    "companies_df = test_data_df[test_data_df.company_name != \"confidential\"]"
   ]
  },
  {
   "cell_type": "code",
   "execution_count": 105,
   "metadata": {},
   "outputs": [],
   "source": [
    "companies_df = companies_df.reset_index(drop=True)"
   ]
  },
  {
   "cell_type": "code",
   "execution_count": 106,
   "metadata": {},
   "outputs": [
    {
     "data": {
      "text/plain": [
       "1413"
      ]
     },
     "execution_count": 106,
     "metadata": {},
     "output_type": "execute_result"
    }
   ],
   "source": [
    "# Total number of companies\n",
    "companies_df.company_name.nunique()"
   ]
  },
  {
   "cell_type": "code",
   "execution_count": 107,
   "metadata": {},
   "outputs": [
    {
     "data": {
      "image/png": "[encoded data removed]",
      "text/plain": [
       "<Figure size 576x360 with 1 Axes>"
      ]
     },
     "metadata": {
      "needs_background": "light"
     },
     "output_type": "display_data"
    }
   ],
   "source": [
    "# Overall company\n",
    "plot_barchat(companies_df.company_name.value_counts().head(15)[::-1], \"The top 15 companies that posts job postings\\n\",\"Frequency\",\"Company\", 'lightblue')"
   ]
  },
  {
   "cell_type": "markdown",
   "metadata": {},
   "source": [
    "## Excluding recruiters & confidential (only company)"
   ]
  },
  {
   "cell_type": "code",
   "execution_count": 108,
   "metadata": {},
   "outputs": [],
   "source": [
    "recruiter_firms = [\"recruit express\", \"locanto\", \"capita\", \"jobsdb jobs\", \"achieve career consultant\", \"mci career services\", \"recruitfirst\", \"talent trader group\", \"recruit expert\", \"persol singapore\", \"the supreme hr advisory\", \"kelly services\", \"people profilers\", \"jobstudio\", \"recruitplus consulting\", \"good job creations\", \"adecco personnel\", \"recruit express services\", \"ideals recruitment\", \"michael page\", \"search index\", \"recruitflash\", \"mtc staffing\", \"jointhire singapore\", \"scientec personnel\", \"mass power services\", \"hays\", \"trust recruit\", \"manpower staffing services\", \"staffondemand\", \"jte recruit\", 'active hr management', \"bgc group\", \"achieve talents\", \"anradus\", \"eps consultants\", \"search personnel\", \"teksystems\", \"tangspac consulting\", \"workle\", \"gmp technologies\", \"tempserv\"]"
   ]
  },
  {
   "cell_type": "code",
   "execution_count": 109,
   "metadata": {},
   "outputs": [],
   "source": [
    "companies_dfv1 = companies_df.copy()"
   ]
  },
  {
   "cell_type": "code",
   "execution_count": 110,
   "metadata": {},
   "outputs": [],
   "source": [
    "companies_dfv1[\"recruiter\"] = 0"
   ]
  },
  {
   "cell_type": "code",
   "execution_count": 111,
   "metadata": {},
   "outputs": [
    {
     "data": {
      "text/html": [
       "<div>\n",
       "<style scoped>\n",
       "    .dataframe tbody tr th:only-of-type {\n",
       "        vertical-align: middle;\n",
       "    }\n",
       "\n",
       "    .dataframe tbody tr th {\n",
       "        vertical-align: top;\n",
       "    }\n",
       "\n",
       "    .dataframe thead th {\n",
       "        text-align: right;\n",
       "    }\n",
       "</style>\n",
       "<table border=\"1\" class=\"dataframe\">\n",
       "  <thead>\n",
       "    <tr style=\"text-align: right;\">\n",
       "      <th></th>\n",
       "      <th>job_id</th>\n",
       "      <th>job_title</th>\n",
       "      <th>job_description</th>\n",
       "      <th>date_posted</th>\n",
       "      <th>company_name</th>\n",
       "      <th>division</th>\n",
       "      <th>is_duplicated_count</th>\n",
       "      <th>duplicated_count</th>\n",
       "      <th>recruiter</th>\n",
       "    </tr>\n",
       "  </thead>\n",
       "  <tbody>\n",
       "    <tr>\n",
       "      <th>0</th>\n",
       "      <td>dc4c44bf442f4baa57f22233fee9195b75d62baa3b0265...</td>\n",
       "      <td>BUSINESS DEVELOPMENT (FREIGHT FORWARDING)</td>\n",
       "      <td>- Roles &amp;amp; Responsibilities : Job Role Desc...</td>\n",
       "      <td>2020-11-27</td>\n",
       "      <td>call lade enterprises</td>\n",
       "      <td>NaN</td>\n",
       "      <td>0</td>\n",
       "      <td>0</td>\n",
       "      <td>0</td>\n",
       "    </tr>\n",
       "  </tbody>\n",
       "</table>\n",
       "</div>"
      ],
      "text/plain": [
       "                                              job_id  \\\n",
       "0  dc4c44bf442f4baa57f22233fee9195b75d62baa3b0265...   \n",
       "\n",
       "                                   job_title  \\\n",
       "0  BUSINESS DEVELOPMENT (FREIGHT FORWARDING)   \n",
       "\n",
       "                                     job_description date_posted  \\\n",
       "0  - Roles &amp; Responsibilities : Job Role Desc...  2020-11-27   \n",
       "\n",
       "            company_name division  is_duplicated_count  duplicated_count  \\\n",
       "0  call lade enterprises      NaN                    0                 0   \n",
       "\n",
       "   recruiter  \n",
       "0          0  "
      ]
     },
     "execution_count": 111,
     "metadata": {},
     "output_type": "execute_result"
    }
   ],
   "source": [
    "companies_dfv1.head(1)"
   ]
  },
  {
   "cell_type": "code",
   "execution_count": 112,
   "metadata": {},
   "outputs": [
    {
     "data": {
      "text/plain": [
       "(2857, 9)"
      ]
     },
     "execution_count": 112,
     "metadata": {},
     "output_type": "execute_result"
    }
   ],
   "source": [
    "companies_dfv1.shape"
   ]
  },
  {
   "cell_type": "code",
   "execution_count": 113,
   "metadata": {},
   "outputs": [],
   "source": [
    "for number in range(len(companies_dfv1)):\n",
    "    if companies_dfv1.company_name[number] != \"\":\n",
    "        if companies_dfv1.company_name[number] in recruiter_firms:\n",
    "            companies_dfv1.loc[[number], [\"recruiter\"]] = 1\n",
    "    else:\n",
    "        continue"
   ]
  },
  {
   "cell_type": "code",
   "execution_count": 114,
   "metadata": {},
   "outputs": [],
   "source": [
    "removal_top_recruiter_df = companies_dfv1[companies_dfv1.recruiter == 0]"
   ]
  },
  {
   "cell_type": "code",
   "execution_count": 115,
   "metadata": {},
   "outputs": [
    {
     "data": {
      "image/png": "[encoded data removed]",
      "text/plain": [
       "<Figure size 576x360 with 1 Axes>"
      ]
     },
     "metadata": {
      "needs_background": "light"
     },
     "output_type": "display_data"
    }
   ],
   "source": [
    "plot_barchat(removal_top_recruiter_df.company_name.value_counts().head(15)[::-1], \"The top 15 companies that posts job postings without recruiting firms\\n\",\"Frequency\",\"Company\", 'purple')"
   ]
  },
  {
   "cell_type": "markdown",
   "metadata": {},
   "source": [
    "## Time-date"
   ]
  },
  {
   "cell_type": "code",
   "execution_count": 116,
   "metadata": {},
   "outputs": [
    {
     "data": {
      "text/plain": [
       "Timestamp('2020-11-01 00:00:00')"
      ]
     },
     "execution_count": 116,
     "metadata": {},
     "output_type": "execute_result"
    }
   ],
   "source": [
    "min(test_data_df.date_posted)"
   ]
  },
  {
   "cell_type": "code",
   "execution_count": 117,
   "metadata": {},
   "outputs": [
    {
     "data": {
      "text/plain": [
       "Timestamp('2020-12-31 00:00:00')"
      ]
     },
     "execution_count": 117,
     "metadata": {},
     "output_type": "execute_result"
    }
   ],
   "source": [
    "max(test_data_df.date_posted)"
   ]
  },
  {
   "cell_type": "code",
   "execution_count": 118,
   "metadata": {},
   "outputs": [],
   "source": [
    "timepost_count_df = test_data_df.groupby(\"date_posted\").size().reset_index().rename({0:\"post_count\"}, axis = 1)"
   ]
  },
  {
   "cell_type": "code",
   "execution_count": 119,
   "metadata": {},
   "outputs": [],
   "source": [
    "timepost_count_df[\"month\"] = timepost_count_df.date_posted.dt.month"
   ]
  },
  {
   "cell_type": "code",
   "execution_count": 120,
   "metadata": {},
   "outputs": [
    {
     "data": {
      "text/html": [
       "<div>\n",
       "<style scoped>\n",
       "    .dataframe tbody tr th:only-of-type {\n",
       "        vertical-align: middle;\n",
       "    }\n",
       "\n",
       "    .dataframe tbody tr th {\n",
       "        vertical-align: top;\n",
       "    }\n",
       "\n",
       "    .dataframe thead th {\n",
       "        text-align: right;\n",
       "    }\n",
       "</style>\n",
       "<table border=\"1\" class=\"dataframe\">\n",
       "  <thead>\n",
       "    <tr style=\"text-align: right;\">\n",
       "      <th></th>\n",
       "      <th>post_count</th>\n",
       "    </tr>\n",
       "    <tr>\n",
       "      <th>month</th>\n",
       "      <th></th>\n",
       "    </tr>\n",
       "  </thead>\n",
       "  <tbody>\n",
       "    <tr>\n",
       "      <th>11</th>\n",
       "      <td>2932</td>\n",
       "    </tr>\n",
       "    <tr>\n",
       "      <th>12</th>\n",
       "      <td>43</td>\n",
       "    </tr>\n",
       "  </tbody>\n",
       "</table>\n",
       "</div>"
      ],
      "text/plain": [
       "       post_count\n",
       "month            \n",
       "11           2932\n",
       "12             43"
      ]
     },
     "execution_count": 120,
     "metadata": {},
     "output_type": "execute_result"
    }
   ],
   "source": [
    "timepost_count_df.groupby(\"month\").agg({\"post_count\":np.sum})"
   ]
  },
  {
   "cell_type": "code",
   "execution_count": 121,
   "metadata": {},
   "outputs": [
    {
     "name": "stdout",
     "output_type": "stream",
     "text": [
      "<class 'pandas.core.frame.DataFrame'>\n",
      "RangeIndex: 47 entries, 0 to 46\n",
      "Data columns (total 3 columns):\n",
      " #   Column       Non-Null Count  Dtype         \n",
      "---  ------       --------------  -----         \n",
      " 0   date_posted  47 non-null     datetime64[ns]\n",
      " 1   post_count   47 non-null     int64         \n",
      " 2   month        47 non-null     int64         \n",
      "dtypes: datetime64[ns](1), int64(2)\n",
      "memory usage: 1.2 KB\n"
     ]
    }
   ],
   "source": [
    "timepost_count_df.info()"
   ]
  },
  {
   "cell_type": "code",
   "execution_count": 122,
   "metadata": {},
   "outputs": [],
   "source": [
    "timepost_count_df = timepost_count_df.set_index(\"date_posted\")"
   ]
  },
  {
   "cell_type": "code",
   "execution_count": 123,
   "metadata": {},
   "outputs": [
    {
     "data": {
      "image/png": "[encoded data removed]",
      "text/plain": [
       "<Figure size 1080x720 with 1 Axes>"
      ]
     },
     "metadata": {
      "needs_background": "light"
     },
     "output_type": "display_data"
    }
   ],
   "source": [
    "fig, ax = plt.subplots(figsize = (15,10))\n",
    "ax.plot(timepost_count_df.post_count, color = 'blue', marker = 'o')\n",
    "ax.set_ylabel(\"Number of posts\", fontsize = 14)\n",
    "ax.set_xlabel(\"Dates (by Days)\", fontsize = 14)\n",
    "plt.title((\"Total number of posts from Nov to Dec 2020\" +\"\\n\"), weight = 'bold', fontsize = 15);"
   ]
  },
  {
   "cell_type": "code",
   "execution_count": 124,
   "metadata": {},
   "outputs": [
    {
     "data": {
      "image/png": "[encoded data removed]",
      "text/plain": [
       "<Figure size 1080x576 with 1 Axes>"
      ]
     },
     "metadata": {
      "needs_background": "light"
     },
     "output_type": "display_data"
    }
   ],
   "source": [
    "fig, ax = plt.subplots(figsize = (15,8))\n",
    "ax.plot(timepost_count_df.post_count.resample('W').mean(), color = 'red', marker = 'o')\n",
    "ax.set_ylabel(\"Number of posts\", fontsize = 16)\n",
    "ax.set_xlabel(\"Dates (by weeks)\\n\", fontsize = 16)\n",
    "ax.tick_params(axis='both', which='major', labelsize=12)\n",
    "plt.title((\"Total number of posts from Nov to Dec 2020\" +\"\\n\"), weight = 'bold', fontsize = 18);"
   ]
  },
  {
   "cell_type": "code",
   "execution_count": 125,
   "metadata": {},
   "outputs": [],
   "source": [
    "test_data_df_trial = test_data_df.copy()"
   ]
  },
  {
   "cell_type": "code",
   "execution_count": 126,
   "metadata": {},
   "outputs": [],
   "source": [
    "test_data_df_trial[\"month\"] = test_data_df_trial.date_posted.dt.month"
   ]
  },
  {
   "cell_type": "code",
   "execution_count": 127,
   "metadata": {},
   "outputs": [
    {
     "data": {
      "text/plain": [
       "recruit express    42\n",
       "equinor             1\n",
       "Name: company_name, dtype: int64"
      ]
     },
     "execution_count": 127,
     "metadata": {},
     "output_type": "execute_result"
    }
   ],
   "source": [
    "test_data_df_trial[test_data_df_trial[\"month\"] == 12].company_name.value_counts()"
   ]
  },
  {
   "cell_type": "code",
   "execution_count": 128,
   "metadata": {},
   "outputs": [
    {
     "data": {
      "text/plain": [
       "(2975, 8)"
      ]
     },
     "execution_count": 128,
     "metadata": {},
     "output_type": "execute_result"
    }
   ],
   "source": [
    "test_data_df.shape"
   ]
  },
  {
   "cell_type": "markdown",
   "metadata": {},
   "source": [
    "## Job Title"
   ]
  },
  {
   "cell_type": "code",
   "execution_count": 129,
   "metadata": {},
   "outputs": [],
   "source": [
    "job_title_df = test_data_df[[\"job_title\"]].copy()"
   ]
  },
  {
   "cell_type": "code",
   "execution_count": 130,
   "metadata": {},
   "outputs": [],
   "source": [
    "job_title_df.job_title = job_title_df.job_title.str.title()"
   ]
  },
  {
   "cell_type": "code",
   "execution_count": 131,
   "metadata": {},
   "outputs": [],
   "source": [
    "job_title_df['info'] = \"\""
   ]
  },
  {
   "cell_type": "code",
   "execution_count": 132,
   "metadata": {},
   "outputs": [
    {
     "data": {
      "text/plain": [
       "[(['#Sgunitedjobs'], 13),\n",
       " (['#Ect'], 24),\n",
       " (['#Sgup'], 39),\n",
       " (['#Sgunitedtraineeships'], 51)]"
      ]
     },
     "execution_count": 132,
     "metadata": {},
     "output_type": "execute_result"
    }
   ],
   "source": [
    "# To remove #word\n",
    "reg_exp = r'(\\#\\w.*?\\W|\\#\\w.*?$)'\n",
    "symbols = job_title_df['job_title'].apply(lambda x:re.findall(reg_exp,x))\n",
    "for i in range(len(symbols)):\n",
    "     if symbols[i]!=[]:\n",
    "            job_title_df['info'][i] += symbols[i][0]\n",
    "job_title_df['job_title'] = job_title_df['job_title'].apply(lambda x:re.sub(reg_exp,\"\",x).strip())\n",
    "[(symbols[i], i) for i in range(len(symbols)) if symbols[i]!=[]][1:5]"
   ]
  },
  {
   "cell_type": "code",
   "execution_count": 133,
   "metadata": {},
   "outputs": [
    {
     "data": {
      "text/plain": [
       "[(['(Until End Jul 2021)'], 356, 'Bank Officer, Lavender --- $1800 Per …'),\n",
       " (['(Beauty & Wellness)'], 480, '- Assistant Sales & Operations Manager'),\n",
       " (['(103)'], 529, 'Software Engineer'),\n",
       " (['(Csa)'], 769, 'Research Developer')]"
      ]
     },
     "execution_count": 133,
     "metadata": {},
     "output_type": "execute_result"
    }
   ],
   "source": [
    "# To check for remove (word) at the start of sentence\n",
    "reg_exp = r'^\\([\\w?\\W].*?\\)'\n",
    "symbols = job_title_df['job_title'].apply(lambda x:re.findall(reg_exp,x))\n",
    "for i in range(len(symbols)):\n",
    "     if symbols[i]!=[]:\n",
    "            job_title_df['info'][i] += symbols[i][0]\n",
    "job_title_df['job_title'] = job_title_df['job_title'].apply(lambda x:re.sub(reg_exp,\"\",x).strip())\n",
    "[(symbols[i], i, job_title_df['job_title'][i]) for i in range(len(symbols)) if symbols[i]!=[]][1:5]"
   ]
  },
  {
   "cell_type": "code",
   "execution_count": 134,
   "metadata": {},
   "outputs": [
    {
     "data": {
      "text/plain": [
       "[(['(School Of Computing)'],\n",
       "  6,\n",
       "  'Executive/Senior Executive, Graduate Studies'),\n",
       " (['(Server Maintenance)'], 9, 'System Administrator'),\n",
       " (['(12-Month Contract)'],\n",
       "  11,\n",
       "  'Executive, Corporate Communications & Sustainability'),\n",
       " (['(Corporate Communications)'], 14, 'Executive Manager/ Manager')]"
      ]
     },
     "execution_count": 134,
     "metadata": {},
     "output_type": "execute_result"
    }
   ],
   "source": [
    "# To check for remove (word) at the end of sentence\n",
    "reg_exp = r'\\([\\w?\\W]\\)?.+'\n",
    "symbols = job_title_df['job_title'].apply(lambda x:re.findall(reg_exp,x))\n",
    "for i in range(len(symbols)):\n",
    "     if symbols[i]!=[]:\n",
    "            job_title_df['info'][i] += symbols[i][0]\n",
    "job_title_df['job_title'] = job_title_df['job_title'].apply(lambda x:re.sub(reg_exp,\"\",x).strip())\n",
    "[(symbols[i], i, job_title_df['job_title'][i]) for i in range(len(symbols)) if symbols[i]!=[]][1:5]"
   ]
  },
  {
   "cell_type": "code",
   "execution_count": 135,
   "metadata": {},
   "outputs": [
    {
     "data": {
      "text/plain": [
       "[(['[Lush Aesthetics]'], 1493, 'Aesthetic Beauty Consultant'),\n",
       " (['[Je]'], 1778, 'Senior Systems Analyst - Eps Consultants Pte Ltd'),\n",
       " (['[Internship]'],\n",
       "  1842,\n",
       "  'Ctf Program Intern - Government Technology Agency Of Singapore'),\n",
       " (['[Js]'], 2183, 'Marketing Specialist')]"
      ]
     },
     "execution_count": 135,
     "metadata": {},
     "output_type": "execute_result"
    }
   ],
   "source": [
    "# To check for remove [word] at the start of sentence\n",
    "reg_exp = r'^\\[[\\w?\\W].*?\\]'\n",
    "symbols = job_title_df['job_title'].apply(lambda x:re.findall(reg_exp,x))\n",
    "for i in range(len(symbols)):\n",
    "     if symbols[i]!=[]:\n",
    "            job_title_df['info'][i] += symbols[i][0]\n",
    "job_title_df['job_title'] = job_title_df['job_title'].apply(lambda x:re.sub(reg_exp,\"\",x).strip())\n",
    "[(symbols[i], i, job_title_df['job_title'][i]) for i in range(len(symbols)) if symbols[i]!=[]][1:5]"
   ]
  },
  {
   "cell_type": "code",
   "execution_count": 136,
   "metadata": {},
   "outputs": [],
   "source": [
    "job_title_df.job_title = job_title_df.job_title.apply(lambda x: x.replace(u\"\\u3010\", \"[\"))\n",
    "job_title_df.job_title = job_title_df.job_title.apply(lambda x: x.replace(u\"\\u3011\", \"]\"))"
   ]
  },
  {
   "cell_type": "code",
   "execution_count": 137,
   "metadata": {},
   "outputs": [
    {
     "data": {
      "text/plain": [
       "[(['[$3.5K-$4.2K / Potong Pasir / Sdlc / It Projects] 1322'],\n",
       "  151,\n",
       "  'It Business Analyst'),\n",
       " (['[$1.5K-$1.6K+Comm+Ot / Tampines] 1322'], 323, 'Manicurist'),\n",
       " (['[ C# / Mvc / Javascript / Angular …'], 444, '0386 - Software Engineer'),\n",
       " (['[It Domain]'], 600, 'Business Development Manager')]"
      ]
     },
     "execution_count": 137,
     "metadata": {},
     "output_type": "execute_result"
    }
   ],
   "source": [
    "# To check for remove [word] at the end of sentence\n",
    "reg_exp = r'\\[[\\w?\\W]\\]?.+'\n",
    "symbols = job_title_df['job_title'].apply(lambda x:re.findall(reg_exp,x))\n",
    "for i in range(len(symbols)):\n",
    "     if symbols[i]!=[]:\n",
    "            job_title_df['info'][i] += symbols[i][0]\n",
    "job_title_df['job_title'] = job_title_df['job_title'].apply(lambda x:re.sub(reg_exp,\"\",x).strip())\n",
    "[(symbols[i], i, job_title_df['job_title'][i]) for i in range(len(symbols)) if symbols[i]!=[]][1:5]"
   ]
  },
  {
   "cell_type": "code",
   "execution_count": 138,
   "metadata": {},
   "outputs": [
    {
     "data": {
      "text/plain": [
       "[(['@ Jurong East ? Work With …'], 289, '? Online Sales ? Event Packers'),\n",
       " (['@ East'], 491, 'Packer'),\n",
       " (['@ Global Youthful Lingerie Brand'], 509, 'Temp Retail Assistant $8/Hr'),\n",
       " (['@ Tampines'], 535, 'Contract Backend Developers')]"
      ]
     },
     "execution_count": 138,
     "metadata": {},
     "output_type": "execute_result"
    }
   ],
   "source": [
    "# To check for remove @words at the end of sentence\n",
    "reg_exp = r'\\@[\\w|\\W].+'\n",
    "symbols = job_title_df['job_title'].apply(lambda x:re.findall(reg_exp,x))\n",
    "for i in range(len(symbols)):\n",
    "     if symbols[i]!=[]:\n",
    "            job_title_df['info'][i] += symbols[i][0]\n",
    "job_title_df['job_title'] = job_title_df['job_title'].apply(lambda x:re.sub(reg_exp,\"\",x).strip())\n",
    "[(symbols[i], i, job_title_df['job_title'][i]) for i in range(len(symbols)) if symbols[i]!=[]][1:5]"
   ]
  },
  {
   "cell_type": "code",
   "execution_count": 139,
   "metadata": {},
   "outputs": [
    {
     "data": {
      "text/plain": [
       "[(['Basic Up$2100 **'],\n",
       "  2077,\n",
       "  'Logistics/Warehouse Operations Officer | 5 Days - P-Serv Pte Ltd')]"
      ]
     },
     "execution_count": 139,
     "metadata": {},
     "output_type": "execute_result"
    }
   ],
   "source": [
    "# Remove the words with digits prior to **\n",
    "reg_exp = r'^[a-zA-Z\\s]+\\$\\d.+\\*'\n",
    "symbols = job_title_df['job_title'].apply(lambda x:re.findall(reg_exp,x))\n",
    "for i in range(len(symbols)):\n",
    "     if symbols[i]!=[]:\n",
    "            job_title_df['info'][i] += symbols[i][0]\n",
    "job_title_df['job_title'] = job_title_df['job_title'].apply(lambda x:re.sub(reg_exp,\"\",x).strip())\n",
    "[(symbols[i], i, job_title_df['job_title'][i]) for i in range(len(symbols)) if symbols[i]!=[]]"
   ]
  },
  {
   "cell_type": "code",
   "execution_count": 140,
   "metadata": {},
   "outputs": [
    {
     "data": {
      "text/plain": [
       "[(['*New*'], 630),\n",
       " (['*New*'], 652),\n",
       " (['*New*'], 1236),\n",
       " (['*Fast Hire*'], 1290)]"
      ]
     },
     "execution_count": 140,
     "metadata": {},
     "output_type": "execute_result"
    }
   ],
   "source": [
    "# Remove the words after **\n",
    "reg_exp = r'\\*{1,}\\w.+\\*'\n",
    "symbols = job_title_df['job_title'].apply(lambda x:re.findall(reg_exp,x))\n",
    "for i in range(len(symbols)):\n",
    "     if symbols[i]!=[]:\n",
    "            job_title_df['info'][i] += symbols[i][0]\n",
    "job_title_df['job_title'] = job_title_df['job_title'].apply(lambda x:re.sub(reg_exp,\"\",x).strip())\n",
    "[(symbols[i], i) for i in range(len(symbols)) if symbols[i]!=[]][1:5]"
   ]
  },
  {
   "cell_type": "code",
   "execution_count": 141,
   "metadata": {},
   "outputs": [
    {
     "data": {
      "text/plain": [
       "[([('', '', '', '0386 -')], 444, 'Software Engineer'),\n",
       " ([('', '', '', '1125 -')], 661, 'Purchaser'),\n",
       " ([('', '', '', '1125 -')], 727, 'Architecture Supervisor'),\n",
       " ([('', '', '', '0386 -')], 758, 'Sales Engineer')]"
      ]
     },
     "execution_count": 141,
     "metadata": {},
     "output_type": "execute_result"
    }
   ],
   "source": [
    "# Remove the words with digits prior to |\n",
    "reg_exp = r'^([a-zA-Z\\s]+\\$\\d.+\\|.*?)|^((\\W\\d).+\\|)|^(\\d+.\\w+.\\-)'\n",
    "symbols = job_title_df['job_title'].apply(lambda x:re.findall(reg_exp,x))\n",
    "for i in range(len(symbols)):\n",
    "     if symbols[i]!=[]:\n",
    "            job_title_df['info'][i] += \" \".join(symbols[i][0])\n",
    "job_title_df['job_title'] = job_title_df['job_title'].apply(lambda x:re.sub(reg_exp,\"\",x).strip())\n",
    "[(symbols[i], i, job_title_df['job_title'][i]) for i in range(len(symbols)) if symbols[i]!=[]][1:5]"
   ]
  },
  {
   "cell_type": "code",
   "execution_count": 142,
   "metadata": {},
   "outputs": [
    {
     "data": {
      "text/plain": [
       "[(['| Up To $7500'], 81),\n",
       " (['| Junior Hair Stylist | Senior Hair Stylist | Hairdresser'], 454),\n",
       " (['| Oil And Gas Construction |West | $6,300'], 546),\n",
       " (['| Tuition Assignment'], 587)]"
      ]
     },
     "execution_count": 142,
     "metadata": {},
     "output_type": "execute_result"
    }
   ],
   "source": [
    "# Remove the words after |\n",
    "reg_exp = r'\\|.\\w.+'\n",
    "symbols = job_title_df['job_title'].apply(lambda x:re.findall(reg_exp,x))\n",
    "for i in range(len(symbols)):\n",
    "     if symbols[i]!=[]:\n",
    "            job_title_df['info'][i] += symbols[i][0]\n",
    "job_title_df['job_title'] = job_title_df['job_title'].apply(lambda x:re.sub(reg_exp,\"\",x).strip())\n",
    "job_title_df[\"job_title\"][635] = \"Tech Ops Engineer\"\n",
    "[(symbols[i], i) for i in range(len(symbols)) if symbols[i]!=[]][1:5]"
   ]
  },
  {
   "cell_type": "code",
   "execution_count": 143,
   "metadata": {},
   "outputs": [
    {
     "data": {
      "text/plain": [
       "[(['Ref: 121633 -'], 141, 'Associate Director, 3Rd Party Risk Mgmt'),\n",
       " (['Ref: 121915 -'], 364, 'Software Engineer - Fullstack Developer'),\n",
       " (['Ref: 121431 -'], 442, 'Service Specialist, Backup/Storage Svc')]"
      ]
     },
     "execution_count": 143,
     "metadata": {},
     "output_type": "execute_result"
    }
   ],
   "source": [
    "# Remove the words Ref: digits -\n",
    "reg_exp = r'Ref:.\\d+.\\-'\n",
    "symbols = job_title_df['job_title'].apply(lambda x:re.findall(reg_exp,x))\n",
    "for i in range(len(symbols)):\n",
    "     if symbols[i]!=[]:\n",
    "            job_title_df['info'][i] += symbols[i][0]\n",
    "job_title_df['job_title'] = job_title_df['job_title'].apply(lambda x:re.sub(reg_exp,\"\",x).strip())\n",
    "[(symbols[i], i, job_title_df['job_title'][i]) for i in range(len(symbols)) if symbols[i]!=[]]"
   ]
  },
  {
   "cell_type": "code",
   "execution_count": 144,
   "metadata": {},
   "outputs": [
    {
     "data": {
      "text/plain": [
       "[(['Full Time'], 149, 'Digital Marketing Freelance Or'),\n",
       " (['Part Time'], 193, 'Homebased- 1700'),\n",
       " (['Full Time'], 290, 'Cook'),\n",
       " (['Part Time'], 304, 'Looking For  Office Cleaners')]"
      ]
     },
     "execution_count": 144,
     "metadata": {},
     "output_type": "execute_result"
    }
   ],
   "source": [
    "# Remove the words with Time\n",
    "reg_exp = r'\\w+\\W[T|t]ime'\n",
    "symbols = job_title_df['job_title'].apply(lambda x:re.findall(reg_exp,x))\n",
    "for i in range(len(symbols)):\n",
    "     if symbols[i]!=[]:\n",
    "            job_title_df['info'][i] += symbols[i][0]\n",
    "job_title_df['job_title'] = job_title_df['job_title'].apply(lambda x:re.sub(reg_exp,\"\",x).strip())\n",
    "[(symbols[i], i, job_title_df['job_title'][i]) for i in range(len(symbols)) if symbols[i]!=[]][1:5]"
   ]
  },
  {
   "cell_type": "code",
   "execution_count": 145,
   "metadata": {},
   "outputs": [],
   "source": [
    "# Remove the words\n",
    "job_title_df.loc[(job_title_df[job_title_df.job_title.str.lower().str.contains('urgent')].index.tolist()), [\"info\"]] += \"Urgent\"\n",
    "job_title_df.job_title = job_title_df.job_title.apply(lambda x: x.replace('Urgent', \"\").strip())\n",
    "job_title_df.loc[(job_title_df[job_title_df.job_title.str.lower().str.contains('immediate')].index.tolist()), [\"info\"]] += \"Immediate\"\n",
    "job_title_df.job_title = job_title_df.job_title.apply(lambda x: x.replace(\"Immediate\", \"\").strip())\n",
    "job_title_df.loc[(job_title_df[job_title_df.job_title.str.lower().str.contains('permanent')].index.tolist()), [\"info\"]] += \"Permanent\"\n",
    "job_title_df.job_title = job_title_df.job_title.apply(lambda x: x.replace(\"Permanent\", \"\").strip())\n",
    "job_title_df.loc[(job_title_df[job_title_df.job_title.str.lower().str.contains('contract')].index.tolist()), [\"info\"]] += \"Contract\"\n",
    "job_title_df.job_title = job_title_df.job_title.apply(lambda x: x.replace(\"Contract\", \"\").strip())\n",
    "job_title_df.loc[(job_title_df[job_title_df.job_title.str.lower().str.contains('temporary')].index.tolist()), [\"info\"]] += \"Temp\"\n",
    "job_title_df.loc[(job_title_df[job_title_df.job_title.str.lower().str.contains('temp')].index.tolist()), [\"info\"]] += \"Temp\"\n",
    "job_title_df.job_title = job_title_df.job_title.apply(lambda x: x.replace(\"Temporary\", \"Temp\"))\n",
    "job_title_df.job_title = job_title_df.job_title.apply(lambda x: x.replace(\"Temp\", \"\").strip())\n",
    "job_title_df.loc[(job_title_df[job_title_df.job_title.str.lower().str.contains('hour')].index.tolist()), [\"info\"]] += \"Hour\"\n",
    "job_title_df.job_title = job_title_df.job_title.apply(lambda x: x.replace(\"Hour\", \"\").strip())\n",
    "job_title_df.loc[(job_title_df[job_title_df.job_title.str.lower().str.contains('day')].index.tolist()), [\"info\"]] += \"Day\"\n",
    "job_title_df.job_title = job_title_df.job_title.apply(lambda x: x.replace(\"Day\", \"\").strip())\n",
    "job_title_df.loc[(job_title_df[job_title_df.job_title.str.lower().str.contains('mth')].index.tolist()), [\"info\"]] += \"Month\"\n",
    "job_title_df.job_title = job_title_df.job_title.apply(lambda x: x.replace(\"Mth\", \"\").strip())\n",
    "job_title_df.loc[(job_title_df[job_title_df.job_title.str.lower().str.contains('mths')].index.tolist()), [\"info\"]] += \"Month\"\n",
    "job_title_df.job_title = job_title_df.job_title.apply(lambda x: x.replace(\"Mths\", \"\").strip())\n",
    "job_title_df.loc[(job_title_df[job_title_df.job_title.str.lower().str.contains('month')].index.tolist()), [\"info\"]] += \"Month\"\n",
    "job_title_df.job_title = job_title_df.job_title.apply(lambda x: x.replace(\"Month\", \"\").strip())\n",
    "job_title_df.loc[(job_title_df[job_title_df.job_title.str.lower().str.contains('year')].index.tolist()), [\"info\"]] += \"Year\"\n",
    "job_title_df.job_title = job_title_df.job_title.apply(lambda x: x.replace(\"Year\", \"\").strip())\n",
    "job_title_df.loc[(job_title_df[job_title_df.job_title.str.lower().str.contains('north')].index.tolist()), [\"info\"]] += \"North\"\n",
    "job_title_df.job_title = job_title_df.job_title.apply(lambda x: x.replace(\"North\", \"\").strip())\n",
    "job_title_df.loc[(job_title_df[job_title_df.job_title.str.lower().str.contains('south')].index.tolist()), [\"info\"]] += \"South\"\n",
    "job_title_df.job_title = job_title_df.job_title.apply(lambda x: x.replace(\"South\", \"\").strip())\n",
    "job_title_df.loc[(job_title_df[job_title_df.job_title.str.lower().str.contains('east')].index.tolist()), [\"info\"]] += \"East\"\n",
    "job_title_df.job_title = job_title_df.job_title.apply(lambda x: x.replace(\"East\", \"\").strip())\n",
    "job_title_df.loc[(job_title_df[job_title_df.job_title.str.lower().str.contains('west')].index.tolist()), [\"info\"]] += \"West\"\n",
    "job_title_df.job_title = job_title_df.job_title.apply(lambda x: x.replace(\"West\", \"\").strip())\n",
    "job_title_df.loc[(job_title_df[job_title_df.job_title.str.lower().str.contains('central')].index.tolist()), [\"info\"]] += \"Central\"\n",
    "job_title_df.job_title = job_title_df.job_title.apply(lambda x: x.replace(\"Central\", \"\").strip())"
   ]
  },
  {
   "cell_type": "code",
   "execution_count": 146,
   "metadata": {},
   "outputs": [
    {
     "data": {
      "text/plain": [
       "[(['Sgunited Traineeship:'], 893),\n",
       " (['Sgunited Traineeship:'], 927),\n",
       " (['Sgunited Traineeship '], 1083),\n",
       " (['Sgunited Traineeship:'], 1225)]"
      ]
     },
     "execution_count": 146,
     "metadata": {},
     "output_type": "execute_result"
    }
   ],
   "source": [
    "# Removed of United traineeship\n",
    "reg_exp = r'Sgunited.\\w+.'\n",
    "symbols = job_title_df['job_title'].apply(lambda x:re.findall(reg_exp,x))\n",
    "for i in range(len(symbols)):\n",
    "     if symbols[i]!=[]:\n",
    "            job_title_df['info'][i] += symbols[i][0]\n",
    "job_title_df['job_title'] = job_title_df['job_title'].apply(lambda x:re.sub(reg_exp,\"\",x).strip())\n",
    "[(symbols[i], i) for i in range(len(symbols)) if symbols[i]!=[]][1:5]"
   ]
  },
  {
   "cell_type": "code",
   "execution_count": 147,
   "metadata": {},
   "outputs": [
    {
     "data": {
      "text/plain": [
       "[([('-', '', '', '')], 169),\n",
       " ([('', 'Sk11619840 -', '', '')], 172),\n",
       " ([('-', '', '', '')], 480),\n",
       " ([('', '', '', 'It - ')], 510)]"
      ]
     },
     "execution_count": 147,
     "metadata": {},
     "output_type": "execute_result"
    }
   ],
   "source": [
    "# Remove the words before -\n",
    "reg_exp = r'^(\\-)|^([a-zA-Z].\\d.+\\-)|^(\\d+\\w+.\\-)|^(It - )'\n",
    "symbols = job_title_df['job_title'].apply(lambda x:re.findall(reg_exp,x))\n",
    "for i in range(len(symbols)):\n",
    "     if symbols[i]!=[]:\n",
    "            job_title_df['info'][i] += \" \".join(symbols[i][0])\n",
    "job_title_df['job_title'] = job_title_df['job_title'].apply(lambda x:re.sub(reg_exp,\"\",x).strip())\n",
    "[(symbols[i], i) for i in range(len(symbols)) if symbols[i]!=[]][1:5]"
   ]
  },
  {
   "cell_type": "code",
   "execution_count": 148,
   "metadata": {},
   "outputs": [
    {
     "data": {
      "text/plain": [
       "[(['- Japan International Market'], 106),\n",
       " (['- Apac Marketing Services'], 111),\n",
       " (['- Digital Wealth Chapter'], 154),\n",
       " (['- 1700'], 193)]"
      ]
     },
     "execution_count": 148,
     "metadata": {},
     "output_type": "execute_result"
    }
   ],
   "source": [
    "# Remove the words end -\n",
    "reg_exp = r'\\-\\s[\\w\\s]+$'\n",
    "symbols = job_title_df['job_title'].apply(lambda x:re.findall(reg_exp,x))\n",
    "for i in range(len(symbols)):\n",
    "     if symbols[i]!=[]:\n",
    "            job_title_df['info'][i] += symbols[i][0]\n",
    "job_title_df['job_title'] = job_title_df['job_title'].apply(lambda x:re.sub(reg_exp,\"\",x).strip())\n",
    "job_title_df[\"job_title\"][573] = \"Equity Analyst\"\n",
    "job_title_df[\"job_title\"][596] = \"Lecturer\"\n",
    "job_title_df[\"job_title\"][659] = \"Software Developer\"\n",
    "job_title_df[\"job_title\"][810] = \"Food Stall As\"\n",
    "job_title_df[\"job_title\"][1079] = \"Management Associate Trainees\"\n",
    "job_title_df[\"job_title\"][1096] = 'Lead Development UI Developer'\n",
    "job_title_df[\"job_title\"][1163] = 'Cash Product Development'\n",
    "job_title_df[\"job_title\"][1167] = \"Service Crew\"\n",
    "job_title_df[\"job_title\"][1331] = \"Accounts Cum Payroll\"\n",
    "job_title_df[\"job_title\"][1395] = \"Head Senior Assistant Director Big Data Solutions Architect\"\n",
    "job_title_df[\"job_title\"][1784] = \"Desk Head\"\n",
    "job_title_df[\"job_title\"][1894] = \"Hr Generalist\"\n",
    "[(symbols[i], i) for i in range(len(symbols)) if symbols[i]!=[]][1:5]"
   ]
  },
  {
   "cell_type": "code",
   "execution_count": 149,
   "metadata": {
    "scrolled": false
   },
   "outputs": [
    {
     "data": {
      "text/plain": [
       "[([' - Technician'], 83),\n",
       " ([' - Investment & Trading Platform'], 86),\n",
       " ([' - Coordinate-Measuring Machine'], 185),\n",
       " ([' - Fac Upw & Wwtp'], 194)]"
      ]
     },
     "execution_count": 149,
     "metadata": {},
     "output_type": "execute_result"
    }
   ],
   "source": [
    "# Remove the words after |\n",
    "reg_exp = r'\\s\\-\\s\\w.+'\n",
    "symbols = job_title_df['job_title'].apply(lambda x:re.findall(reg_exp,x))\n",
    "for i in range(len(symbols)):\n",
    "     if symbols[i]!=[]:\n",
    "            job_title_df['info'][i] = symbols[i][0]\n",
    "job_title_df['job_title'] = job_title_df['job_title'].apply(lambda x:re.sub(reg_exp,\"\",x).strip())\n",
    "job_title_df[\"job_title\"][83] = \"Technician\"\n",
    "job_title_df[\"job_title\"][482] = \"Assistant Vice President\"\n",
    "job_title_df[\"job_title\"][505] = \"Senior Lender Director\"\n",
    "job_title_df[\"job_title\"][945] = \"Asia Regional Account Manager Head\"\n",
    "job_title_df[\"job_title\"][1145] = \"C++ Developer\"\n",
    "job_title_df[\"job_title\"][1262] = \"Principal English Teacher Chinese Teacher\"\n",
    "job_title_df[\"job_title\"][1742] = \"Quality Assurance Associate Analyst\"\n",
    "job_title_df[\"job_title\"][2236] = \"Security Officer\"\n",
    "job_title_df[\"job_title\"][2371] = \"Senior Specialist Order Management Specialist\"\n",
    "job_title_df[\"job_title\"][2744] = \"Technician\"\n",
    "job_title_df[\"job_title\"][2954] = \"Entry Cpl/Sgt\"\n",
    "[(symbols[i], i) for i in range(len(symbols)) if symbols[i]!=[]][1:5]"
   ]
  },
  {
   "cell_type": "code",
   "execution_count": 150,
   "metadata": {},
   "outputs": [
    {
     "data": {
      "text/plain": [
       "[(['X3'], 416), (['X 2'], 584), (['X3'], 597), (['X5'], 800)]"
      ]
     },
     "execution_count": 150,
     "metadata": {},
     "output_type": "execute_result"
    }
   ],
   "source": [
    "# Remove the digits with X\n",
    "reg_exp = r'X\\d+|X.\\d+|\\d+X|\\d+.X'\n",
    "symbols = job_title_df['job_title'].apply(lambda x:re.findall(reg_exp,x))\n",
    "for i in range(len(symbols)):\n",
    "     if symbols[i]!=[]:\n",
    "            job_title_df['info'][i] += symbols[i][0]\n",
    "job_title_df['job_title'] = job_title_df['job_title'].apply(lambda x:re.sub(reg_exp,\"\",x).strip())\n",
    "[(symbols[i], i) for i in range(len(symbols)) if symbols[i]!=[]][1:5]"
   ]
  },
  {
   "cell_type": "code",
   "execution_count": 151,
   "metadata": {},
   "outputs": [
    {
     "data": {
      "text/plain": [
       "[(['2D'], 13, 'Artist/Animator'),\n",
       " (['10'], 42, 'Supermarket Retail Assistant/Cashier / $ Per  / Islandwide'),\n",
       " (['T24'], 113, 'Temenos  Technical Solution Architect And Technical …'),\n",
       " (['4'], 128, 's Customer Service Officers')]"
      ]
     },
     "execution_count": 151,
     "metadata": {},
     "output_type": "execute_result"
    }
   ],
   "source": [
    "# Remove numbers\n",
    "reg_exp = r'\\w*\\d+\\w+|[\\$\\d]+[\\-\\/]\\w+|[0-9]'\n",
    "symbols = job_title_df['job_title'].apply(lambda x:re.findall(reg_exp,x))\n",
    "for i in range(len(symbols)):\n",
    "     if symbols[i]!=[]:\n",
    "            job_title_df['info'][i] += symbols[i][0]\n",
    "job_title_df['job_title'] = job_title_df['job_title'].apply(lambda x:re.sub(reg_exp,\"\",x).strip())\n",
    "[(symbols[i], i, job_title_df['job_title'][i]) for i in range(len(symbols)) if symbols[i]!=[]][1:5]"
   ]
  },
  {
   "cell_type": "code",
   "execution_count": 152,
   "metadata": {},
   "outputs": [],
   "source": [
    "# Removal of repetition demarketer symbols\n",
    "count = 0\n",
    "\n",
    "for index, posts in enumerate(job_title_df.job_title):\n",
    "    for letter in set(posts.replace(\" \", \"\")):\n",
    "        if letter.isdigit() == False:\n",
    "            if letter.isalpha() == False:\n",
    "                if posts.count(letter)>2:\n",
    "                    for i in range(len(posts)-1):\n",
    "                        if posts[i] == letter:\n",
    "                            count+=1\n",
    "                            if count == 3:\n",
    "                                job_title_df[\"job_title\"][index] = posts[0:i].strip()\n",
    "                                count = 0\n",
    "                                break\n",
    "                else:\n",
    "                    continue"
   ]
  },
  {
   "cell_type": "code",
   "execution_count": 153,
   "metadata": {},
   "outputs": [],
   "source": [
    "# Removal of single character\n",
    "for index, posts in enumerate(job_title_df.job_title):\n",
    "    paragraph = posts.split()\n",
    "    for posting in paragraph:\n",
    "        if len(posting.strip()) == 1:\n",
    "            paragraph.remove(posting)\n",
    "    job_title_df[\"job_title\"][index] = \" \".join(paragraph)"
   ]
  },
  {
   "cell_type": "code",
   "execution_count": 154,
   "metadata": {},
   "outputs": [
    {
     "data": {
      "text/plain": [
       "[(['⚡'], 2811), (['❤'], 2886), (['❤', '❤'], 2912), (['✪'], 2944)]"
      ]
     },
     "execution_count": 154,
     "metadata": {},
     "output_type": "execute_result"
    }
   ],
   "source": [
    "# Remove emojis\n",
    "emoji_list = re.compile(\"[\"\"\\U00002B50-\\U00002BFF\" #Stars\n",
    "                        '\\U00002600-\\U000026FF' # Miscellaneous Symbols eg Weather, Map\n",
    "                        '\\U00002700-\\U000027BF' # Dingbats\n",
    "                        \"\\U0001FA00-\\U0001FAFF\" # Symbols and Pictographs Extended\n",
    "                        \"\\U0001F1E0-\\U0001F1FF\" # Letters\n",
    "                        \"\\U0001F300-\\U0001F5FF\" # Symbols and Pictographs\n",
    "                        \"\\U0001F600-\\U0001F67F\" # Emoticons + Ornaments Dingbats\n",
    "                        \"\\U0001F680-\\U0001F6FF\" # Transport and Map Symbols\n",
    "                        \"\\U0001F700-\\U0001F7FF\" # Alchemical Symbols + Geometric Shape Extended\n",
    "                        \"\\U0001F800-\\U0001F8FF\" # Arrows-C\n",
    "                        \"\\U0001F900-\\U0001F9FF\" # Symbols and Pictographs\n",
    "                       \"\\U00003010-\\U00003011\"\"]+\", flags=re.UNICODE)\n",
    "symbols = job_title_df['job_title'].apply(lambda x:emoji_list.findall(x))\n",
    "job_title_df['job_title'] = job_title_df['job_title'].apply(lambda x:emoji_list.sub(r\"\",x))\n",
    "[(symbols[i], i) for i in range(len(symbols)) if symbols[i]!=[]][1:5]"
   ]
  },
  {
   "cell_type": "code",
   "execution_count": 155,
   "metadata": {},
   "outputs": [],
   "source": [
    "# Remove punctuations\n",
    "def punctuation_removal(text):\n",
    "    for characters in string.punctuation:\n",
    "        text = text.replace(characters, \" \")\n",
    "    return text\n",
    "\n",
    "job_title_df['job_title'] = job_title_df['job_title'].apply(lambda x:punctuation_removal(x).strip())"
   ]
  },
  {
   "cell_type": "code",
   "execution_count": 156,
   "metadata": {},
   "outputs": [
    {
     "data": {
      "text/html": [
       "<div>\n",
       "<style scoped>\n",
       "    .dataframe tbody tr th:only-of-type {\n",
       "        vertical-align: middle;\n",
       "    }\n",
       "\n",
       "    .dataframe tbody tr th {\n",
       "        vertical-align: top;\n",
       "    }\n",
       "\n",
       "    .dataframe thead th {\n",
       "        text-align: right;\n",
       "    }\n",
       "</style>\n",
       "<table border=\"1\" class=\"dataframe\">\n",
       "  <thead>\n",
       "    <tr style=\"text-align: right;\">\n",
       "      <th></th>\n",
       "      <th>job_title</th>\n",
       "      <th>info</th>\n",
       "    </tr>\n",
       "  </thead>\n",
       "  <tbody>\n",
       "    <tr>\n",
       "      <th>437</th>\n",
       "      <td></td>\n",
       "      <td>100</td>\n",
       "    </tr>\n",
       "    <tr>\n",
       "      <th>501</th>\n",
       "      <td></td>\n",
       "      <td>️100</td>\n",
       "    </tr>\n",
       "    <tr>\n",
       "      <th>574</th>\n",
       "      <td></td>\n",
       "      <td>️100</td>\n",
       "    </tr>\n",
       "    <tr>\n",
       "      <th>935</th>\n",
       "      <td></td>\n",
       "      <td>#Sgunitedjobs</td>\n",
       "    </tr>\n",
       "    <tr>\n",
       "      <th>1853</th>\n",
       "      <td></td>\n",
       "      <td>#Sgunited][ Business Intelligence Trainee - Mo...</td>\n",
       "    </tr>\n",
       "    <tr>\n",
       "      <th>1964</th>\n",
       "      <td></td>\n",
       "      <td>(School Environment / Towner Rd / Up To $2,450...</td>\n",
       "    </tr>\n",
       "    <tr>\n",
       "      <th>2564</th>\n",
       "      <td></td>\n",
       "      <td>- Recruitment Express️100</td>\n",
       "    </tr>\n",
       "    <tr>\n",
       "      <th>2884</th>\n",
       "      <td></td>\n",
       "      <td>[Night Shift]X 200$850/Hr</td>\n",
       "    </tr>\n",
       "    <tr>\n",
       "      <th>2948</th>\n",
       "      <td></td>\n",
       "      <td>(32Hrs)Full Time</td>\n",
       "    </tr>\n",
       "  </tbody>\n",
       "</table>\n",
       "</div>"
      ],
      "text/plain": [
       "     job_title                                               info\n",
       "437                                                           100\n",
       "501                                                          ️100\n",
       "574                                                          ️100\n",
       "935                                                 #Sgunitedjobs\n",
       "1853            #Sgunited][ Business Intelligence Trainee - Mo...\n",
       "1964            (School Environment / Towner Rd / Up To $2,450...\n",
       "2564                                    - Recruitment Express️100\n",
       "2884                                    [Night Shift]X 200$850/Hr\n",
       "2948                                             (32Hrs)Full Time"
      ]
     },
     "execution_count": 156,
     "metadata": {},
     "output_type": "execute_result"
    }
   ],
   "source": [
    "# Missing data\n",
    "job_title_df[job_title_df[\"job_title\"] == \"\"]"
   ]
  },
  {
   "cell_type": "markdown",
   "metadata": {},
   "source": [
    "* Two job_titles have no job titles/positions"
   ]
  },
  {
   "cell_type": "code",
   "execution_count": 157,
   "metadata": {},
   "outputs": [],
   "source": [
    "# Fill in the missing data\n",
    "job_title_df[\"job_title\"][437] = \"Sales Personnel\"\n",
    "job_title_df[\"job_title\"][501] = \"Sales Service Personnel\"\n",
    "job_title_df[\"job_title\"][574] = \"Sales Personnel\"\n",
    "job_title_df[\"job_title\"][1853] = \"Business Intelligence Trainee\"\n",
    "job_title_df[\"job_title\"][1964] = \"Security Officer\"\n",
    "job_title_df[\"job_title\"][2564] = \"Sales Personnel\"\n",
    "job_title_df[\"job_title\"][2884] = \"Camera Operators\""
   ]
  },
  {
   "cell_type": "code",
   "execution_count": 158,
   "metadata": {},
   "outputs": [],
   "source": [
    "# Adjustment to normalize\n",
    "job_title_df[\"job_title\"][19] = \"Dishwasher\""
   ]
  },
  {
   "cell_type": "code",
   "execution_count": 159,
   "metadata": {},
   "outputs": [],
   "source": [
    "# Removal of special characters\n",
    "job_title_df[\"job_title\"][1270] = job_title_df[\"job_title\"][1270].replace(\"现场经理\", \"\").strip()"
   ]
  },
  {
   "cell_type": "code",
   "execution_count": 160,
   "metadata": {},
   "outputs": [
    {
     "data": {
      "text/plain": [
       "['jobs', 'iit', 'keg', 'from', 'cdd']"
      ]
     },
     "execution_count": 160,
     "metadata": {},
     "output_type": "execute_result"
    }
   ],
   "source": [
    "# Extracting acryonyms\n",
    "acronym_words = set()\n",
    "\n",
    "for posts in job_title_df.job_title:\n",
    "    sentence = posts.split()\n",
    "    for word in sentence:\n",
    "        if len(word)<5:\n",
    "            acronym_words.add(word.lower())\n",
    "\n",
    "list(acronym_words)[:5]"
   ]
  },
  {
   "cell_type": "code",
   "execution_count": 161,
   "metadata": {},
   "outputs": [],
   "source": [
    "# Normalized acronyms\n",
    "job_title_df[\"job_title\"] = job_title_df['job_title'].apply(lambda x: x.replace(\"Sr\", \"Senior\").strip())\n",
    "job_title_df[\"job_title\"] = job_title_df['job_title'].apply(lambda x: x.replace(\"Snr\", \"Senior\").strip())\n",
    "job_title_df[\"job_title\"] = job_title_df['job_title'].apply(lambda x: x.replace(\"Cum\", \"And\").strip())\n",
    "job_title_df[\"job_title\"] = job_title_df['job_title'].apply(lambda x: x.replace(\"Asst\", \"Assistant\").strip())\n",
    "job_title_df[\"job_title\"] = job_title_df['job_title'].apply(lambda x: x.replace(\"Dev \", \"Development \").strip())\n",
    "job_title_df[\"job_title\"] = job_title_df['job_title'].apply(lambda x: x.replace(\"App \", \"Applications \").strip())\n",
    "job_title_df[\"job_title\"] = job_title_df['job_title'].apply(lambda x: x.replace(\"Ops \", \"Operations \").strip())\n",
    "job_title_df[\"job_title\"] = job_title_df['job_title'].apply(lambda x: x.replace(\"Hr \", \"Human Resources \").strip())\n",
    "job_title_df[\"job_title\"] = job_title_df['job_title'].apply(lambda x: x.replace(\"Admin \", \"Administrative \").strip())\n",
    "job_title_df[\"job_title\"] = job_title_df['job_title'].apply(lambda x: x.replace(\"Lab \", \"Laboratory \").strip())\n",
    "job_title_df[\"job_title\"] = job_title_df['job_title'].apply(lambda x: x.replace(\"Mfg \", \"Manufacturing \").strip())\n",
    "job_title_df[\"job_title\"] = job_title_df['job_title'].apply(lambda x: x.replace(\"Avp \", \"Assistant Vice President \").strip())\n",
    "job_title_df[\"job_title\"] = job_title_df['job_title'].apply(lambda x: x.replace(\"Vp \", \"Vice President \").strip())\n",
    "job_title_df[\"job_title\"] = job_title_df['job_title'].apply(lambda x: x.replace(\"Mgmt\", \"Management\").strip())\n",
    "job_title_df[\"job_title\"] = job_title_df['job_title'].apply(lambda x: x.replace(\"Cfo\", \"Chief Financial Officer\").strip())\n",
    "job_title_df[\"job_title\"] = job_title_df['job_title'].apply(lambda x: x.replace(\"Ceo\", \"Chief Executive Officer\").strip())\n",
    "job_title_df[\"job_title\"] = job_title_df['job_title'].apply(lambda x: x.replace(\"Ehs\", \"Environment Health Safety\").strip())\n",
    "job_title_df[\"job_title\"] = job_title_df['job_title'].apply(lambda x: x.replace(\"Hse\", \"Health Safety Environment\").strip())\n",
    "job_title_df[\"job_title\"] = job_title_df['job_title'].apply(lambda x: x.replace(\"Devops \", \"Development Operations\").strip())\n",
    "job_title_df[\"job_title\"] = job_title_df['job_title'].apply(lambda x: x.replace(\"It \", \"Information Technology\").strip())\n",
    "job_title_df[\"job_title\"] = job_title_df['job_title'].apply(lambda x: x.replace(\"Soc \", \"Security Operations Center\").strip())\n",
    "job_title_df[\"job_title\"] = job_title_df['job_title'].apply(lambda x: x.replace(\"NetworkDeveloper \", \"Network Developer\").strip())\n",
    "job_title_df[\"job_title\"] = job_title_df['job_title'].apply(lambda x: x.replace(\"Wsh \", \"Workplace Safety and Health\").strip())\n",
    "job_title_df[\"job_title\"][61] = job_title_df['job_title'][61].replace(\"Exe\", \"Executive\").strip()\n",
    "job_title_df[\"job_title\"][1189] = job_title_df['job_title'][1189].replace(\"Exe\", \"Executive\").strip()\n",
    "job_title_df[\"job_title\"][2797] = job_title_df['job_title'][2797].replace(\"Exe\", \"Executive\").strip()\n",
    "job_title_df[\"job_title\"][901] = job_title_df['job_title'][901].replace(\"Exec\", \"Executive\").strip()\n",
    "job_title_df[\"job_title\"][993] = job_title_df['job_title'][993].replace(\"Exec\", \"Executive\").strip()\n",
    "job_title_df[\"job_title\"][31] = job_title_df['job_title'][31].replace(\"Tech \", \"Technical \").strip()\n",
    "job_title_df[\"job_title\"][526] = job_title_df['job_title'][526].replace(\"Tech \", \"Technical \").strip()\n",
    "job_title_df[\"job_title\"][635] = job_title_df['job_title'][635].replace(\"Tech \", \"Technical \").strip()\n",
    "job_title_df[\"job_title\"][786] = job_title_df['job_title'][786].replace(\"Tech \", \"Technical \").strip()\n",
    "job_title_df[\"job_title\"][2075] = job_title_df['job_title'][2075].replace(\"Tech \", \"Technician \").strip()\n",
    "job_title_df[\"job_title\"][2486] = job_title_df['job_title'][2486].replace(\"Tech \", \"Technician \").strip()\n",
    "job_title_df[\"job_title\"][999] = job_title_df['job_title'][999].replace(\"Rep\", \"Representative\").strip()\n",
    "job_title_df[\"job_title\"][2317] = job_title_df['job_title'][2317].replace(\"Rep\", \"Representative\").strip()\n",
    "job_title_df[\"job_title\"][2833] = job_title_df['job_title'][2833].replace(\"Rep\", \"Representative\").strip()"
   ]
  },
  {
   "cell_type": "code",
   "execution_count": 162,
   "metadata": {},
   "outputs": [],
   "source": [
    "job_title_df[\"job_title\"][1254] = 'Applications Development Intermediate Programmer Analyst'\n",
    "job_title_df[\"job_title\"][160] = 'Group Risk Management Collections MIS Analyst'\n",
    "job_title_df[\"job_title\"][1271] = 'Qa Qc Officer'\n",
    "job_title_df[\"job_title\"][1446] = 'Environmental Health Safety Officer'"
   ]
  },
  {
   "cell_type": "code",
   "execution_count": 163,
   "metadata": {},
   "outputs": [
    {
     "data": {
      "text/plain": [
       "[(['Net '], 134),\n",
       " (['Net '], 412),\n",
       " (['Net '], 445),\n",
       " (['Net '], 607),\n",
       " (['Net '], 1738),\n",
       " (['Net '], 1815),\n",
       " (['Net '], 1893),\n",
       " (['Net '], 2178),\n",
       " (['Net '], 2626)]"
      ]
     },
     "execution_count": 163,
     "metadata": {},
     "output_type": "execute_result"
    }
   ],
   "source": [
    "# Replace Net with network\n",
    "reg_exp = r'Net\\s'\n",
    "symbols = job_title_df['job_title'].apply(lambda x:re.findall(reg_exp,x))\n",
    "job_title_df['job_title'] = job_title_df['job_title'].apply(lambda x:re.sub(reg_exp,\"Network\",x).strip())\n",
    "[(symbols[i], i) for i in range(len(symbols)) if symbols[i]!=[]]"
   ]
  },
  {
   "cell_type": "markdown",
   "metadata": {},
   "source": [
    "## Countvectorizer"
   ]
  },
  {
   "cell_type": "code",
   "execution_count": 164,
   "metadata": {},
   "outputs": [],
   "source": [
    "# Instantiate Tokenizer\n",
    "tokenizer = RegexpTokenizer(r'\\w+', gaps=False)"
   ]
  },
  {
   "cell_type": "code",
   "execution_count": 165,
   "metadata": {},
   "outputs": [
    {
     "data": {
      "text/html": [
       "<div>\n",
       "<style scoped>\n",
       "    .dataframe tbody tr th:only-of-type {\n",
       "        vertical-align: middle;\n",
       "    }\n",
       "\n",
       "    .dataframe tbody tr th {\n",
       "        vertical-align: top;\n",
       "    }\n",
       "\n",
       "    .dataframe thead th {\n",
       "        text-align: right;\n",
       "    }\n",
       "</style>\n",
       "<table border=\"1\" class=\"dataframe\">\n",
       "  <thead>\n",
       "    <tr style=\"text-align: right;\">\n",
       "      <th></th>\n",
       "      <th>job_title</th>\n",
       "      <th>info</th>\n",
       "      <th>job_title_tokenize</th>\n",
       "    </tr>\n",
       "  </thead>\n",
       "  <tbody>\n",
       "    <tr>\n",
       "      <th>0</th>\n",
       "      <td>Business Development</td>\n",
       "      <td>(Freight Forwarding)</td>\n",
       "      <td>[Business, Development]</td>\n",
       "    </tr>\n",
       "    <tr>\n",
       "      <th>1</th>\n",
       "      <td>Secretary Pa</td>\n",
       "      <td></td>\n",
       "      <td>[Secretary, Pa]</td>\n",
       "    </tr>\n",
       "    <tr>\n",
       "      <th>2</th>\n",
       "      <td>Program Management</td>\n",
       "      <td></td>\n",
       "      <td>[Program, Management]</td>\n",
       "    </tr>\n",
       "    <tr>\n",
       "      <th>3</th>\n",
       "      <td>Managing Consultant</td>\n",
       "      <td></td>\n",
       "      <td>[Managing, Consultant]</td>\n",
       "    </tr>\n",
       "    <tr>\n",
       "      <th>4</th>\n",
       "      <td>Laboratory Technician</td>\n",
       "      <td>#Erh1700</td>\n",
       "      <td>[Laboratory, Technician]</td>\n",
       "    </tr>\n",
       "  </tbody>\n",
       "</table>\n",
       "</div>"
      ],
      "text/plain": [
       "               job_title                  info        job_title_tokenize\n",
       "0   Business Development  (Freight Forwarding)   [Business, Development]\n",
       "1           Secretary Pa                                 [Secretary, Pa]\n",
       "2     Program Management                           [Program, Management]\n",
       "3    Managing Consultant                          [Managing, Consultant]\n",
       "4  Laboratory Technician              #Erh1700  [Laboratory, Technician]"
      ]
     },
     "execution_count": 165,
     "metadata": {},
     "output_type": "execute_result"
    }
   ],
   "source": [
    "# Tokenize\n",
    "job_title_df[\"job_title_tokenize\"] = job_title_df[\"job_title\"].apply(lambda post:tokenizer.tokenize(post))\n",
    "job_title_df.head()"
   ]
  },
  {
   "cell_type": "code",
   "execution_count": 166,
   "metadata": {},
   "outputs": [],
   "source": [
    "# Removal stopwords\n",
    "job_title_df[\"job_title_stopremoval\"] = job_title_df[\"job_title_tokenize\"].apply(lambda item:([word for word in item if word not in stopwords.words('english') and len(word)>1]))"
   ]
  },
  {
   "cell_type": "code",
   "execution_count": 167,
   "metadata": {},
   "outputs": [],
   "source": [
    "# Instiantiate Lemming\n",
    "lemmatizer = WordNetLemmatizer()"
   ]
  },
  {
   "cell_type": "code",
   "execution_count": 168,
   "metadata": {},
   "outputs": [],
   "source": [
    "# Lemmatize\n",
    "job_title_df[\"job_title_lem\"] = job_title_df[\"job_title_stopremoval\"].apply(lambda posts:\" \".join([lemmatizer.lemmatize(subposts) for subposts in posts]))"
   ]
  },
  {
   "cell_type": "code",
   "execution_count": 169,
   "metadata": {},
   "outputs": [
    {
     "data": {
      "text/html": [
       "<div>\n",
       "<style scoped>\n",
       "    .dataframe tbody tr th:only-of-type {\n",
       "        vertical-align: middle;\n",
       "    }\n",
       "\n",
       "    .dataframe tbody tr th {\n",
       "        vertical-align: top;\n",
       "    }\n",
       "\n",
       "    .dataframe thead th {\n",
       "        text-align: right;\n",
       "    }\n",
       "</style>\n",
       "<table border=\"1\" class=\"dataframe\">\n",
       "  <thead>\n",
       "    <tr style=\"text-align: right;\">\n",
       "      <th></th>\n",
       "      <th>job_title</th>\n",
       "      <th>info</th>\n",
       "      <th>job_title_tokenize</th>\n",
       "      <th>job_title_stopremoval</th>\n",
       "      <th>job_title_lem</th>\n",
       "    </tr>\n",
       "  </thead>\n",
       "  <tbody>\n",
       "    <tr>\n",
       "      <th>0</th>\n",
       "      <td>Business Development</td>\n",
       "      <td>(Freight Forwarding)</td>\n",
       "      <td>[Business, Development]</td>\n",
       "      <td>[Business, Development]</td>\n",
       "      <td>Business Development</td>\n",
       "    </tr>\n",
       "    <tr>\n",
       "      <th>1</th>\n",
       "      <td>Secretary Pa</td>\n",
       "      <td></td>\n",
       "      <td>[Secretary, Pa]</td>\n",
       "      <td>[Secretary, Pa]</td>\n",
       "      <td>Secretary Pa</td>\n",
       "    </tr>\n",
       "    <tr>\n",
       "      <th>2</th>\n",
       "      <td>Program Management</td>\n",
       "      <td></td>\n",
       "      <td>[Program, Management]</td>\n",
       "      <td>[Program, Management]</td>\n",
       "      <td>Program Management</td>\n",
       "    </tr>\n",
       "    <tr>\n",
       "      <th>3</th>\n",
       "      <td>Managing Consultant</td>\n",
       "      <td></td>\n",
       "      <td>[Managing, Consultant]</td>\n",
       "      <td>[Managing, Consultant]</td>\n",
       "      <td>Managing Consultant</td>\n",
       "    </tr>\n",
       "    <tr>\n",
       "      <th>4</th>\n",
       "      <td>Laboratory Technician</td>\n",
       "      <td>#Erh1700</td>\n",
       "      <td>[Laboratory, Technician]</td>\n",
       "      <td>[Laboratory, Technician]</td>\n",
       "      <td>Laboratory Technician</td>\n",
       "    </tr>\n",
       "  </tbody>\n",
       "</table>\n",
       "</div>"
      ],
      "text/plain": [
       "               job_title                  info        job_title_tokenize  \\\n",
       "0   Business Development  (Freight Forwarding)   [Business, Development]   \n",
       "1           Secretary Pa                                 [Secretary, Pa]   \n",
       "2     Program Management                           [Program, Management]   \n",
       "3    Managing Consultant                          [Managing, Consultant]   \n",
       "4  Laboratory Technician              #Erh1700  [Laboratory, Technician]   \n",
       "\n",
       "      job_title_stopremoval          job_title_lem  \n",
       "0   [Business, Development]   Business Development  \n",
       "1           [Secretary, Pa]           Secretary Pa  \n",
       "2     [Program, Management]     Program Management  \n",
       "3    [Managing, Consultant]    Managing Consultant  \n",
       "4  [Laboratory, Technician]  Laboratory Technician  "
      ]
     },
     "execution_count": 169,
     "metadata": {},
     "output_type": "execute_result"
    }
   ],
   "source": [
    "job_title_df.head()"
   ]
  },
  {
   "cell_type": "markdown",
   "metadata": {},
   "source": [
    "# Countvectorizer"
   ]
  },
  {
   "cell_type": "code",
   "execution_count": 170,
   "metadata": {},
   "outputs": [],
   "source": [
    "job_title_lem = job_title_df[\"job_title_lem\"]"
   ]
  },
  {
   "cell_type": "code",
   "execution_count": 171,
   "metadata": {},
   "outputs": [
    {
     "data": {
      "text/plain": [
       "0     Business Development\n",
       "1             Secretary Pa\n",
       "2       Program Management\n",
       "3      Managing Consultant\n",
       "4    Laboratory Technician\n",
       "Name: job_title_lem, dtype: object"
      ]
     },
     "execution_count": 171,
     "metadata": {},
     "output_type": "execute_result"
    }
   ],
   "source": [
    "job_title_lem.head()"
   ]
  },
  {
   "cell_type": "markdown",
   "metadata": {},
   "source": [
    "## ngram_range (1,1)"
   ]
  },
  {
   "cell_type": "code",
   "execution_count": 172,
   "metadata": {},
   "outputs": [],
   "source": [
    "cvec1 = CountVectorizer(stop_words=(\"english\"), ngram_range = (1,1))"
   ]
  },
  {
   "cell_type": "code",
   "execution_count": 173,
   "metadata": {},
   "outputs": [
    {
     "data": {
      "text/plain": [
       "CountVectorizer(stop_words='english')"
      ]
     },
     "execution_count": 173,
     "metadata": {},
     "output_type": "execute_result"
    }
   ],
   "source": [
    "cvec1.fit(job_title_lem)"
   ]
  },
  {
   "cell_type": "code",
   "execution_count": 174,
   "metadata": {},
   "outputs": [],
   "source": [
    "job_title_cvec1 = cvec1.transform(job_title_lem)"
   ]
  },
  {
   "cell_type": "code",
   "execution_count": 175,
   "metadata": {},
   "outputs": [],
   "source": [
    "job_title_cvec1_df = pd.DataFrame(job_title_cvec1.todense(), columns=cvec1.get_feature_names())"
   ]
  },
  {
   "cell_type": "code",
   "execution_count": 176,
   "metadata": {
    "scrolled": false
   },
   "outputs": [
    {
     "data": {
      "image/png": "[encoded data removed]",
      "text/plain": [
       "<Figure size 576x360 with 1 Axes>"
      ]
     },
     "metadata": {
      "needs_background": "light"
     },
     "output_type": "display_data"
    }
   ],
   "source": [
    "# ngram_range (2,2)\n",
    "plot_barchat(job_title_cvec1_df.sum().sort_values(ascending=False).head(15)[::-1], \"Top 15 words in job_title using Countvectorizer (ngram_range (1,1))\\n\",\"Frequency\",\"Words\", 'gold')"
   ]
  },
  {
   "cell_type": "markdown",
   "metadata": {},
   "source": [
    "## ngram_range (2,2) "
   ]
  },
  {
   "cell_type": "code",
   "execution_count": 177,
   "metadata": {},
   "outputs": [],
   "source": [
    "cvec2 = CountVectorizer(stop_words=(\"english\"), ngram_range = (2,2))"
   ]
  },
  {
   "cell_type": "code",
   "execution_count": 178,
   "metadata": {},
   "outputs": [
    {
     "data": {
      "text/plain": [
       "CountVectorizer(ngram_range=(2, 2), stop_words='english')"
      ]
     },
     "execution_count": 178,
     "metadata": {},
     "output_type": "execute_result"
    }
   ],
   "source": [
    "cvec2.fit(job_title_lem)"
   ]
  },
  {
   "cell_type": "code",
   "execution_count": 179,
   "metadata": {},
   "outputs": [],
   "source": [
    "job_title_cvec2 = cvec2.transform(job_title_lem)"
   ]
  },
  {
   "cell_type": "code",
   "execution_count": 180,
   "metadata": {},
   "outputs": [],
   "source": [
    "job_title_cvec2_df = pd.DataFrame(job_title_cvec2.todense(), columns=cvec2.get_feature_names())"
   ]
  },
  {
   "cell_type": "code",
   "execution_count": 181,
   "metadata": {},
   "outputs": [
    {
     "data": {
      "image/png": "[encoded data removed]",
      "text/plain": [
       "<Figure size 576x360 with 1 Axes>"
      ]
     },
     "metadata": {
      "needs_background": "light"
     },
     "output_type": "display_data"
    }
   ],
   "source": [
    "# ngram_range (2,2)\n",
    "plot_barchat(job_title_cvec2_df.sum().sort_values(ascending=False).head(15)[::-1], \"Top 15 words in job_title using Countvectorizer (ngram_range (2,2))\\n\",\"Frequency\",\"Words\", 'purple')"
   ]
  },
  {
   "cell_type": "markdown",
   "metadata": {},
   "source": [
    "# Jobs posting without positions"
   ]
  },
  {
   "cell_type": "code",
   "execution_count": 182,
   "metadata": {},
   "outputs": [],
   "source": [
    "job_posting_lem = job_title_df[\"job_title_lem\"]"
   ]
  },
  {
   "cell_type": "code",
   "execution_count": 183,
   "metadata": {},
   "outputs": [],
   "source": [
    "position_list = [\"Assistant\", \"Associate\", \"Head\", \"Lead\", \"Leader\", \"Manager\", \"President\", \"Specialist\", \"Executive\", \"Intern\", \"Director\", \"Vice\", \"Senior\", \"Junior\", \"Chief\", \"Officer\", \"Consultant\", \"Supervisor\", \"Trainer\", \"Trainee\"]\n",
    "\n",
    "for position in position_list:\n",
    "    for index, jobs in enumerate(job_posting_lem):\n",
    "        if position in jobs:\n",
    "            job_posting_lem[index] = job_posting_lem[index].replace(position, \"\").strip()"
   ]
  },
  {
   "cell_type": "code",
   "execution_count": 184,
   "metadata": {},
   "outputs": [
    {
     "data": {
      "text/plain": [
       "0     Business Development\n",
       "1             Secretary Pa\n",
       "2       Program Management\n",
       "3                 Managing\n",
       "4    Laboratory Technician\n",
       "Name: job_title_lem, dtype: object"
      ]
     },
     "execution_count": 184,
     "metadata": {},
     "output_type": "execute_result"
    }
   ],
   "source": [
    "job_posting_lem.head()"
   ]
  },
  {
   "cell_type": "markdown",
   "metadata": {},
   "source": [
    "### ngram_range (1,1)"
   ]
  },
  {
   "cell_type": "code",
   "execution_count": 185,
   "metadata": {},
   "outputs": [],
   "source": [
    "cvec3 = CountVectorizer(stop_words=(\"english\"), ngram_range = (1,1))"
   ]
  },
  {
   "cell_type": "code",
   "execution_count": 186,
   "metadata": {},
   "outputs": [
    {
     "data": {
      "text/plain": [
       "CountVectorizer(stop_words='english')"
      ]
     },
     "execution_count": 186,
     "metadata": {},
     "output_type": "execute_result"
    }
   ],
   "source": [
    "cvec3.fit(job_posting_lem)"
   ]
  },
  {
   "cell_type": "code",
   "execution_count": 187,
   "metadata": {},
   "outputs": [],
   "source": [
    "job_posting_cv3 = cvec3.transform(job_posting_lem)"
   ]
  },
  {
   "cell_type": "code",
   "execution_count": 188,
   "metadata": {},
   "outputs": [],
   "source": [
    "job_posting_cv3_df = pd.DataFrame(job_posting_cv3.todense(), columns=cvec3.get_feature_names())"
   ]
  },
  {
   "cell_type": "code",
   "execution_count": 189,
   "metadata": {
    "scrolled": false
   },
   "outputs": [
    {
     "data": {
      "image/png": "[encoded data removed]",
      "text/plain": [
       "<Figure size 576x360 with 1 Axes>"
      ]
     },
     "metadata": {
      "needs_background": "light"
     },
     "output_type": "display_data"
    }
   ],
   "source": [
    "# ngram_range (1,1)\n",
    "plot_barchat(job_posting_cv3_df.sum().sort_values(ascending=False).head(15)[::-1], \"Top 15 words in job_title using Countvectorizer (ngram_range (1,1))\\nwith job levels removed\\n\",\"Frequency\",\"Words\", 'royalblue')"
   ]
  },
  {
   "cell_type": "markdown",
   "metadata": {},
   "source": [
    "### ngram (2,2)"
   ]
  },
  {
   "cell_type": "code",
   "execution_count": 190,
   "metadata": {},
   "outputs": [],
   "source": [
    "cvec4 = CountVectorizer(stop_words=(\"english\"), ngram_range = (2,2))"
   ]
  },
  {
   "cell_type": "code",
   "execution_count": 191,
   "metadata": {},
   "outputs": [
    {
     "data": {
      "text/plain": [
       "CountVectorizer(ngram_range=(2, 2), stop_words='english')"
      ]
     },
     "execution_count": 191,
     "metadata": {},
     "output_type": "execute_result"
    }
   ],
   "source": [
    "cvec4.fit(job_posting_lem)"
   ]
  },
  {
   "cell_type": "code",
   "execution_count": 192,
   "metadata": {},
   "outputs": [],
   "source": [
    "job_posting_cv4 = cvec4.transform(job_posting_lem)"
   ]
  },
  {
   "cell_type": "code",
   "execution_count": 193,
   "metadata": {},
   "outputs": [],
   "source": [
    "job_posting_cv4_df = pd.DataFrame(job_posting_cv4.todense(), columns=cvec4.get_feature_names())"
   ]
  },
  {
   "cell_type": "code",
   "execution_count": 194,
   "metadata": {
    "scrolled": false
   },
   "outputs": [
    {
     "data": {
      "image/png": "[encoded data removed]",
      "text/plain": [
       "<Figure size 576x360 with 1 Axes>"
      ]
     },
     "metadata": {
      "needs_background": "light"
     },
     "output_type": "display_data"
    }
   ],
   "source": [
    "# ngram_range (2,2)\n",
    "plot_barchat(job_posting_cv4_df.sum().sort_values(ascending=False).head(15)[::-1], \"Top 15 words in job_title using Countvectorizer (ngram_range (2,2))\\nwith job levels removed\\n\",\"Frequency\",\"Words\", 'green')"
   ]
  },
  {
   "cell_type": "markdown",
   "metadata": {},
   "source": [
    "## Type of employment"
   ]
  },
  {
   "cell_type": "markdown",
   "metadata": {},
   "source": [
    "### Extraction of info\n",
    "\n",
    "* Job title\n",
    "* Job description\n",
    "\n",
    "**Two sections**\n",
    "* Job time - Full-time, Part-time, shift, night(shift)\n",
    "* Job time - Permanent/Perm, Contract, temp/temporary, trainee,  intern "
   ]
  },
  {
   "cell_type": "code",
   "execution_count": 195,
   "metadata": {},
   "outputs": [],
   "source": [
    "job_info_df = test_data_df.copy()"
   ]
  },
  {
   "cell_type": "code",
   "execution_count": 196,
   "metadata": {},
   "outputs": [],
   "source": [
    "job_info_df.loc[:,[\"term\"]] = \"\"\n",
    "job_info_df.loc[:,[\"time\"]] = \"\""
   ]
  },
  {
   "cell_type": "code",
   "execution_count": 197,
   "metadata": {},
   "outputs": [
    {
     "data": {
      "text/plain": [
       "(2975, 10)"
      ]
     },
     "execution_count": 197,
     "metadata": {},
     "output_type": "execute_result"
    }
   ],
   "source": [
    "job_info_df.shape"
   ]
  },
  {
   "cell_type": "code",
   "execution_count": 198,
   "metadata": {},
   "outputs": [
    {
     "data": {
      "text/plain": [
       "[(['full time'], 149, 'Digital Marketing freelance or full time'),\n",
       " (['Full Time'], 290, 'Full Time Cook'),\n",
       " (['Full-Time'], 478, 'Retail Sales Assistants (Part/Full-Timers)'),\n",
       " (['Full Time'],\n",
       "  513,\n",
       "  'ICG Technology Software Development, 2021 Full Time Analyst, Singapore')]"
      ]
     },
     "execution_count": 198,
     "metadata": {},
     "output_type": "execute_result"
    }
   ],
   "source": [
    "# Full time in job_title\n",
    "reg_exp = r'[F|f]ull\\W[T|t]ime'\n",
    "symbols = job_info_df['job_title'].apply(lambda x:re.findall(reg_exp,x))\n",
    "for i in range(len(symbols)):\n",
    "     if symbols[i]!=[]:\n",
    "            job_info_df.loc[[i],['time']] += \" full_time\"\n",
    "[(symbols[i], i, job_info_df['job_title'][i]) for i in range(len(symbols)) if symbols[i]!=[]][1:5]"
   ]
  },
  {
   "cell_type": "code",
   "execution_count": 199,
   "metadata": {},
   "outputs": [
    {
     "data": {
      "text/plain": [
       "[(['full-time', 'full-time'], 15),\n",
       " (['Full-time'], 45),\n",
       " (['full time'], 59),\n",
       " (['Full-time'], 99)]"
      ]
     },
     "execution_count": 199,
     "metadata": {},
     "output_type": "execute_result"
    }
   ],
   "source": [
    "# Full time in job_description\n",
    "reg_exp = r'[F|f]ull\\W[T|t]ime'\n",
    "symbols = job_info_df['job_description'].apply(lambda x:re.findall(reg_exp,x))\n",
    "for i in range(len(symbols)):\n",
    "     if symbols[i]!=[]:\n",
    "            if job_info_df['time'][i] != \" full_time\":\n",
    "                job_info_df.loc[[i],['time']] += \" full_time\"\n",
    "[(symbols[i], i) for i in range(len(symbols)) if symbols[i]!=[]][1:5]"
   ]
  },
  {
   "cell_type": "code",
   "execution_count": 200,
   "metadata": {},
   "outputs": [
    {
     "data": {
      "text/plain": [
       "[(['Part Time'], 304, 'Looking for Part Time Office Cleaners'),\n",
       " (['Part Time'], 385, 'Part Time Services crew'),\n",
       " (['Part Time'], 586, 'Part Time - Server'),\n",
       " (['Part Time'],\n",
       "  810,\n",
       "  'Looking for Full Timer / Part Timer Hourly 7.50 - Food Stall As')]"
      ]
     },
     "execution_count": 200,
     "metadata": {},
     "output_type": "execute_result"
    }
   ],
   "source": [
    "# Part time in job_title\n",
    "reg_exp = r'[P|p]art\\W[T|t]ime'\n",
    "symbols = job_info_df['job_title'].apply(lambda x:re.findall(reg_exp,x))\n",
    "for i in range(len(symbols)):\n",
    "     if symbols[i]!=[]:\n",
    "            job_info_df.loc[[i],['time']] += \" part_time\"\n",
    "[(symbols[i], i, job_info_df['job_title'][i]) for i in range(len(symbols)) if symbols[i]!=[]][1:5]"
   ]
  },
  {
   "cell_type": "code",
   "execution_count": 201,
   "metadata": {},
   "outputs": [
    {
     "data": {
      "text/plain": [
       "[(['part time'], 59),\n",
       " (['part time'], 271),\n",
       " (['part-time', 'Part-time'], 294),\n",
       " (['Part-Time', 'part-time'], 304)]"
      ]
     },
     "execution_count": 201,
     "metadata": {},
     "output_type": "execute_result"
    }
   ],
   "source": [
    "# Part time in job_description\n",
    "reg_exp = r'[P|p]art\\W[T|t]ime'\n",
    "symbols = job_info_df['job_description'].apply(lambda x:re.findall(reg_exp,x))\n",
    "for i in range(len(symbols)):\n",
    "     if symbols[i]!=[]:\n",
    "            if job_info_df['time'][i] != \" part_time\":\n",
    "                job_info_df.loc[[i],['time']] += \" part_time\"\n",
    "[(symbols[i], i) for i in range(len(symbols)) if symbols[i]!=[]][1:5]"
   ]
  },
  {
   "cell_type": "code",
   "execution_count": 202,
   "metadata": {},
   "outputs": [
    {
     "data": {
      "text/plain": [
       "[(['Shift '], 723), (['Shift '], 854), (['Shift)'], 861), (['Shift)'], 1135)]"
      ]
     },
     "execution_count": 202,
     "metadata": {},
     "output_type": "execute_result"
    }
   ],
   "source": [
    "# Shift in job_title\n",
    "reg_exp = r'[S|s]hift\\W'\n",
    "symbols = job_info_df['job_title'].apply(lambda x:re.findall(reg_exp,x))\n",
    "for i in range(len(symbols)):\n",
    "     if symbols[i]!=[]:\n",
    "            if job_info_df['time'][i] != \" shift\":\n",
    "                job_info_df.loc[[i],['time']] += \" shift\"\n",
    "[(symbols[i], i) for i in range(len(symbols)) if symbols[i]!=[]][1:5]"
   ]
  },
  {
   "cell_type": "code",
   "execution_count": 203,
   "metadata": {},
   "outputs": [
    {
     "data": {
      "text/plain": [
       "[(['Shift '], 83), (['shift '], 109), (['shift<'], 126), (['shift '], 140)]"
      ]
     },
     "execution_count": 203,
     "metadata": {},
     "output_type": "execute_result"
    }
   ],
   "source": [
    "# Shift in job_description\n",
    "reg_exp = r'[S|s]hift\\W'\n",
    "symbols = job_info_df['job_description'].apply(lambda x:re.findall(reg_exp,x))\n",
    "for i in range(len(symbols)):\n",
    "     if symbols[i]!=[]:\n",
    "            if job_info_df['time'][i] != \" shift\":\n",
    "                job_info_df.loc[[i],['time']] += \" shift\"\n",
    "[(symbols[i], i) for i in range(len(symbols)) if symbols[i]!=[]][1:5]"
   ]
  },
  {
   "cell_type": "code",
   "execution_count": 204,
   "metadata": {},
   "outputs": [
    {
     "data": {
      "text/plain": [
       "[(['Night'], 980), (['night'], 1526), (['night'], 1844), (['night'], 2328)]"
      ]
     },
     "execution_count": 204,
     "metadata": {},
     "output_type": "execute_result"
    }
   ],
   "source": [
    "# Night in job_title\n",
    "reg_exp = r'[N|n]ight'\n",
    "symbols = job_info_df['job_title'].apply(lambda x:re.findall(reg_exp,x))\n",
    "for i in range(len(symbols)):\n",
    "     if symbols[i]!=[]:\n",
    "            if job_info_df['time'][i] != \" shift\":\n",
    "                job_info_df.loc[[i],['time']] += \" shift\"\n",
    "[(symbols[i], i) for i in range(len(symbols)) if symbols[i]!=[]][1:5]"
   ]
  },
  {
   "cell_type": "code",
   "execution_count": 205,
   "metadata": {
    "scrolled": true
   },
   "outputs": [
    {
     "data": {
      "text/plain": [
       "[(['night'], 44),\n",
       " (['night'], 287),\n",
       " (['night', 'night', 'Night', 'Night'], 289),\n",
       " (['night'], 348)]"
      ]
     },
     "execution_count": 205,
     "metadata": {},
     "output_type": "execute_result"
    }
   ],
   "source": [
    "# Night in job_description\n",
    "reg_exp = r'[N|n]ight'\n",
    "symbols = job_info_df['job_description'].apply(lambda x:re.findall(reg_exp,x))\n",
    "for i in range(len(symbols)):\n",
    "     if symbols[i]!=[]:\n",
    "            if job_info_df['time'][i] != \" shift\":\n",
    "                job_info_df.loc[[i],['time']] += \" shift\"\n",
    "[(symbols[i], i) for i in range(len(symbols)) if symbols[i]!=[]][1:5]"
   ]
  },
  {
   "cell_type": "code",
   "execution_count": 206,
   "metadata": {},
   "outputs": [
    {
     "data": {
      "text/plain": [
       "[(['Perm/'], 680),\n",
       " (['Perm '], 836),\n",
       " (['Permanent'], 1167),\n",
       " (['Permanent'], 1257)]"
      ]
     },
     "execution_count": 206,
     "metadata": {},
     "output_type": "execute_result"
    }
   ],
   "source": [
    "# Permanent/Perm in job_title\n",
    "reg_exp = r'[P|p]ermanent|[P|p]erm\\W'\n",
    "symbols = job_info_df['job_title'].apply(lambda x:re.findall(reg_exp,x))\n",
    "for i in range(len(symbols)):\n",
    "     if symbols[i]!=[]:\n",
    "            if job_info_df['term'][i] != \" permanent\":\n",
    "                job_info_df.loc[[i],['term']] += \" permanent\"\n",
    "[(symbols[i], i) for i in range(len(symbols)) if symbols[i]!=[]][1:5]"
   ]
  },
  {
   "cell_type": "code",
   "execution_count": 207,
   "metadata": {},
   "outputs": [
    {
     "data": {
      "text/plain": [
       "[(['permanent'], 34),\n",
       " (['Permanent'], 45),\n",
       " (['permanent'], 53),\n",
       " (['permanent'], 81)]"
      ]
     },
     "execution_count": 207,
     "metadata": {},
     "output_type": "execute_result"
    }
   ],
   "source": [
    "# Permanent/Perm in job_description\n",
    "reg_exp = r'[P|p]ermanent|[P|p]erm\\W'\n",
    "symbols = job_info_df['job_description'].apply(lambda x:re.findall(reg_exp,x))\n",
    "for i in range(len(symbols)):\n",
    "     if symbols[i]!=[]:\n",
    "            if job_info_df['term'][i] != \" permanent\":\n",
    "                job_info_df.loc[[i],['term']] += \" permanent\"\n",
    "[(symbols[i], i) for i in range(len(symbols)) if symbols[i]!=[]][1:5]"
   ]
  },
  {
   "cell_type": "code",
   "execution_count": 208,
   "metadata": {},
   "outputs": [
    {
     "data": {
      "text/plain": [
       "[(['Temp '], 278), (['Temp '], 450), (['Temp '], 509), (['Temp '], 524)]"
      ]
     },
     "execution_count": 208,
     "metadata": {},
     "output_type": "execute_result"
    }
   ],
   "source": [
    "# Temporary/Temp in job_title\n",
    "reg_exp = r'[T|t]emporary|[T|t]emp\\W'\n",
    "symbols = job_info_df['job_title'].apply(lambda x:re.findall(reg_exp,x))\n",
    "for i in range(len(symbols)):\n",
    "     if symbols[i]!=[]:\n",
    "            if job_info_df['term'][i] != \" temporary\":\n",
    "                job_info_df.loc[[i],['term']] += \" temporary\"\n",
    "[(symbols[i], i) for i in range(len(symbols)) if symbols[i]!=[]][1:5]"
   ]
  },
  {
   "cell_type": "code",
   "execution_count": 209,
   "metadata": {},
   "outputs": [
    {
     "data": {
      "text/plain": [
       "[(['temporary', 'temporary'], 81),\n",
       " (['Temporary'], 122),\n",
       " (['temporary'], 185),\n",
       " (['Temp '], 278)]"
      ]
     },
     "execution_count": 209,
     "metadata": {},
     "output_type": "execute_result"
    }
   ],
   "source": [
    "# Temporary/Temp in job_description\n",
    "reg_exp = r'[T|t]emporary|[T|t]emp\\W'\n",
    "symbols = job_info_df['job_description'].apply(lambda x:re.findall(reg_exp,x))\n",
    "for i in range(len(symbols)):\n",
    "     if symbols[i]!=[]:\n",
    "            if job_info_df['term'][i] != \" temporary\":\n",
    "                job_info_df.loc[[i],['term']] += \" temporary\"\n",
    "[(symbols[i], i) for i in range(len(symbols)) if symbols[i]!=[]][1:5]"
   ]
  },
  {
   "cell_type": "code",
   "execution_count": 210,
   "metadata": {},
   "outputs": [
    {
     "data": {
      "text/plain": [
       "[(['contract'], 20),\n",
       " (['contract'], 38),\n",
       " (['Contract'], 76),\n",
       " (['Contract'], 89)]"
      ]
     },
     "execution_count": 210,
     "metadata": {},
     "output_type": "execute_result"
    }
   ],
   "source": [
    "# Contract in job_title\n",
    "reg_exp = r'[C|c]ontract'\n",
    "symbols = job_info_df['job_title'].apply(lambda x:re.findall(reg_exp,x))\n",
    "for i in range(len(symbols)):\n",
    "     if symbols[i]!=[]:\n",
    "            if job_info_df['term'][i] != \" contract\":\n",
    "                job_info_df.loc[[i],['term']] += \" contract\"\n",
    "[(symbols[i], i) for i in range(len(symbols)) if symbols[i]!=[]][1:5]"
   ]
  },
  {
   "cell_type": "code",
   "execution_count": 211,
   "metadata": {},
   "outputs": [
    {
     "data": {
      "text/plain": [
       "[(['contract'], 3),\n",
       " (['Contract', 'contract', 'contract'], 7),\n",
       " (['contract'], 16),\n",
       " (['Contract'], 18)]"
      ]
     },
     "execution_count": 211,
     "metadata": {},
     "output_type": "execute_result"
    }
   ],
   "source": [
    "# Contract in job_description\n",
    "reg_exp = r'[C|c]ontract'\n",
    "symbols = job_info_df['job_description'].apply(lambda x:re.findall(reg_exp,x))\n",
    "for i in range(len(symbols)):\n",
    "     if symbols[i]!=[]:\n",
    "            if job_info_df['term'][i] != \" contract\":\n",
    "                job_info_df.loc[[i],['term']] += \" contract\"\n",
    "[(symbols[i], i) for i in range(len(symbols)) if symbols[i]!=[]][1:5]"
   ]
  },
  {
   "cell_type": "code",
   "execution_count": 212,
   "metadata": {},
   "outputs": [
    {
     "data": {
      "text/plain": [
       "[(['Intern,'], 689),\n",
       " (['Intern,'], 773),\n",
       " (['Intern '], 1116),\n",
       " (['Intern '], 1281)]"
      ]
     },
     "execution_count": 212,
     "metadata": {},
     "output_type": "execute_result"
    }
   ],
   "source": [
    "# Intern in job_title\n",
    "reg_exp = r'[I|i]ntern\\W'\n",
    "symbols = job_info_df['job_title'].apply(lambda x:re.findall(reg_exp,x))\n",
    "for i in range(len(symbols)):\n",
    "     if symbols[i]!=[]:\n",
    "            if job_info_df['term'][i] != \" intern\":\n",
    "                job_info_df.loc[[i],['term']] += \" intern\"\n",
    "[(symbols[i], i) for i in range(len(symbols)) if symbols[i]!=[]][1:5]"
   ]
  },
  {
   "cell_type": "code",
   "execution_count": 213,
   "metadata": {},
   "outputs": [
    {
     "data": {
      "text/plain": [
       "[(['Intern '], 244),\n",
       " (['Intern ', 'Intern ', 'Intern '], 547),\n",
       " (['Intern '], 622),\n",
       " (['Intern '], 635)]"
      ]
     },
     "execution_count": 213,
     "metadata": {},
     "output_type": "execute_result"
    }
   ],
   "source": [
    "# Intern in job_description\n",
    "reg_exp = r'[I|i]ntern\\W'\n",
    "symbols = job_info_df['job_description'].apply(lambda x:re.findall(reg_exp,x))\n",
    "for i in range(len(symbols)):\n",
    "     if symbols[i]!=[]:\n",
    "            if job_info_df['term'][i] != \" intern\":\n",
    "                job_info_df.loc[[i],['term']] += \" intern\"\n",
    "[(symbols[i], i) for i in range(len(symbols)) if symbols[i]!=[]][1:5]"
   ]
  },
  {
   "cell_type": "code",
   "execution_count": 214,
   "metadata": {},
   "outputs": [
    {
     "data": {
      "text/plain": [
       "[(['Trainee,'], 162),\n",
       " (['Trainee '], 325),\n",
       " (['Trainee '], 384),\n",
       " (['Trainee)'], 634)]"
      ]
     },
     "execution_count": 214,
     "metadata": {},
     "output_type": "execute_result"
    }
   ],
   "source": [
    "# Trainee in job_title\n",
    "reg_exp = r'[T|t]rainee\\W|[T|t]rainees\\W'\n",
    "symbols = job_info_df['job_title'].apply(lambda x:re.findall(reg_exp,x))\n",
    "for i in range(len(symbols)):\n",
    "     if symbols[i]!=[]:\n",
    "            if job_info_df['term'][i] != \" trainee\":\n",
    "                job_info_df.loc[[i],['term']] += \" trainee\"\n",
    "[(symbols[i], i) for i in range(len(symbols)) if symbols[i]!=[]][1:5]"
   ]
  },
  {
   "cell_type": "code",
   "execution_count": 215,
   "metadata": {},
   "outputs": [
    {
     "data": {
      "text/plain": [
       "[(['Trainee '], 97),\n",
       " (['Trainee,', 'Trainee ', 'Trainees ', 'Trainee '], 108),\n",
       " (['Trainee ', 'Trainee '], 143),\n",
       " (['Trainee ', 'Trainee ', 'Trainee ', 'Trainees '], 162)]"
      ]
     },
     "execution_count": 215,
     "metadata": {},
     "output_type": "execute_result"
    }
   ],
   "source": [
    "# Trainee in job_description\n",
    "reg_exp = r'[T|t]rainee\\W|[T|t]rainees\\W'\n",
    "symbols = job_info_df['job_description'].apply(lambda x:re.findall(reg_exp,x))\n",
    "for i in range(len(symbols)):\n",
    "     if symbols[i]!=[]:\n",
    "            if job_info_df['term'][i] != \" trainee\":\n",
    "                job_info_df.loc[[i],['term']] += \" trainee\"\n",
    "[(symbols[i], i) for i in range(len(symbols)) if symbols[i]!=[]][1:5]"
   ]
  },
  {
   "cell_type": "markdown",
   "metadata": {},
   "source": [
    "## Job_term"
   ]
  },
  {
   "cell_type": "code",
   "execution_count": 216,
   "metadata": {},
   "outputs": [],
   "source": [
    "job_term_df = job_info_df[[\"term\"]]"
   ]
  },
  {
   "cell_type": "code",
   "execution_count": 218,
   "metadata": {},
   "outputs": [],
   "source": [
    "job_term_df.loc[:,[\"contract\"]] = 0\n",
    "job_term_df.loc[:,[\"permanent\"]] = 0\n",
    "job_term_df.loc[:,[\"temporary\"]] = 0\n",
    "job_term_df.loc[:,[\"intern\"]] = 0\n",
    "job_term_df.loc[:,[\"trainee\"]] = 0"
   ]
  },
  {
   "cell_type": "code",
   "execution_count": 219,
   "metadata": {},
   "outputs": [],
   "source": [
    "for contract_num in range(len(job_term_df.term)):\n",
    "    if 'contract' in job_term_df.term[contract_num]:\n",
    "        job_term_df.loc[[contract_num], [\"contract\"]] = 1\n",
    "\n",
    "for permanent_num in range(len(job_term_df.term)):\n",
    "    if 'permanent' in job_term_df.term[permanent_num]:\n",
    "        job_term_df.loc[[permanent_num], [\"permanent\"]] = 1\n",
    "        \n",
    "for temporary_num in range(len(job_term_df.term)):\n",
    "    if 'temporary' in job_term_df.term[temporary_num]:\n",
    "        job_term_df.loc[[temporary_num], [\"temporary\"]] = 1\n",
    "\n",
    "for trainee_num in range(len(job_term_df.term)):\n",
    "    if 'trainee' in job_term_df.term[trainee_num]:\n",
    "        job_term_df.loc[[trainee_num], [\"trainee\"]] = 1\n",
    "\n",
    "for intern_num in range(len(job_term_df.term)):\n",
    "    if 'intern' in job_term_df.term[intern_num]:\n",
    "        job_term_df.loc[[intern_num], [\"intern\"]] = 1"
   ]
  },
  {
   "cell_type": "code",
   "execution_count": 220,
   "metadata": {},
   "outputs": [],
   "source": [
    "job_term_plot = job_term_df.drop(\"term\", axis = 1)"
   ]
  },
  {
   "cell_type": "code",
   "execution_count": 221,
   "metadata": {},
   "outputs": [
    {
     "data": {
      "text/plain": [
       "contract     596\n",
       "permanent    201\n",
       "temporary    121\n",
       "trainee       85\n",
       "intern        18\n",
       "dtype: int64"
      ]
     },
     "execution_count": 221,
     "metadata": {},
     "output_type": "execute_result"
    }
   ],
   "source": [
    "job_term_plot.sum().sort_values(ascending = False)"
   ]
  },
  {
   "cell_type": "code",
   "execution_count": 222,
   "metadata": {},
   "outputs": [
    {
     "data": {
      "image/png": "[encoded data removed]",
      "text/plain": [
       "<Figure size 576x360 with 1 Axes>"
      ]
     },
     "metadata": {
      "needs_background": "light"
     },
     "output_type": "display_data"
    }
   ],
   "source": [
    "job_term_plot.sum().sort_values(ascending = False).plot(kind='bar', figsize = (8,5), rot=0)\n",
    "plt.xlabel(\"\\nType of employment\", fontsize = 15)\n",
    "plt.xticks(fontsize = 12)\n",
    "plt.yticks(fontsize = 12)\n",
    "plt.ylabel(\"Number of job posts\", fontsize = 15)\n",
    "plt.title(\"Number of job posts indicating the employment type\\n\", fontsize = 14, weight = 'bold');"
   ]
  },
  {
   "cell_type": "markdown",
   "metadata": {},
   "source": [
    "## Job_time"
   ]
  },
  {
   "cell_type": "code",
   "execution_count": 223,
   "metadata": {},
   "outputs": [],
   "source": [
    "job_time_df = job_info_df[[\"time\"]]"
   ]
  },
  {
   "cell_type": "code",
   "execution_count": 224,
   "metadata": {},
   "outputs": [],
   "source": [
    "job_time_df.loc[:,[\"full_time\"]] = 0\n",
    "job_time_df.loc[:,[\"part_time\"]] = 0\n",
    "job_time_df.loc[:,[\"shift\"]] = 0"
   ]
  },
  {
   "cell_type": "code",
   "execution_count": 225,
   "metadata": {},
   "outputs": [],
   "source": [
    "for full_time_num in range(len(job_time_df.time)):\n",
    "    if 'full_time' in job_time_df.time[full_time_num]:\n",
    "        job_time_df.loc[[full_time_num], [\"full_time\"]] = 1\n",
    "\n",
    "for part_time_num in range(len(job_time_df.time)):\n",
    "    if 'part_time' in job_time_df.time[part_time_num]:\n",
    "        job_time_df.loc[[part_time_num], [\"part_time\"]] = 1\n",
    "        \n",
    "for shift_num in range(len(job_time_df.time)):\n",
    "    if 'shift' in job_time_df.time[shift_num]:\n",
    "        job_time_df.loc[[shift_num], [\"shift\"]] = 1"
   ]
  },
  {
   "cell_type": "code",
   "execution_count": 226,
   "metadata": {},
   "outputs": [],
   "source": [
    "job_time_plot = job_time_df.drop(\"time\", axis = 1)"
   ]
  },
  {
   "cell_type": "code",
   "execution_count": 227,
   "metadata": {},
   "outputs": [
    {
     "data": {
      "text/plain": [
       "shift        236\n",
       "full_time    169\n",
       "part_time     76\n",
       "dtype: int64"
      ]
     },
     "execution_count": 227,
     "metadata": {},
     "output_type": "execute_result"
    }
   ],
   "source": [
    "job_time_plot.sum().sort_values(ascending = False)"
   ]
  },
  {
   "cell_type": "code",
   "execution_count": 228,
   "metadata": {},
   "outputs": [
    {
     "data": {
      "image/png": "[encoded data removed]",
      "text/plain": [
       "<Figure size 576x360 with 1 Axes>"
      ]
     },
     "metadata": {
      "needs_background": "light"
     },
     "output_type": "display_data"
    }
   ],
   "source": [
    "job_time_plot.sum().sort_values(ascending = False).plot(kind='bar', figsize = (8,5), rot=0, color = \"darkorange\")\n",
    "plt.xlabel(\"\\nType of work schedule\", fontsize = 15)\n",
    "plt.xticks(fontsize = 12)\n",
    "plt.yticks(fontsize = 12)\n",
    "plt.ylabel(\"Number of job posts\", fontsize = 15)\n",
    "plt.title(\"Number of job posts indicating the type of work schedule\\n\", fontsize = 14, weight = 'bold');"
   ]
  }
 ],
 "metadata": {
  "kernelspec": {
   "display_name": "Python 3",
   "language": "python",
   "name": "python3"
  },
  "language_info": {
   "codemirror_mode": {
    "name": "ipython",
    "version": 3
   },
   "file_extension": ".py",
   "mimetype": "text/x-python",
   "name": "python",
   "nbconvert_exporter": "python",
   "pygments_lexer": "ipython3",
   "version": "3.8.5"
  }
 },
 "nbformat": 4,
 "nbformat_minor": 4
}
